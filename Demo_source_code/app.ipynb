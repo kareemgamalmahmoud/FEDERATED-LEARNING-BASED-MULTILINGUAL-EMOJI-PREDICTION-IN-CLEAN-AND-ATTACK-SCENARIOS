{
  "cells": [
    {
      "cell_type": "markdown",
      "metadata": {
        "id": "D_XJcxqx22uj"
      },
      "source": [
        "## Using Gradio to create a simple interface.\n",
        "\n",
        "Check out the library on [github](https://github.com/gradio-app/gradio-UI) and see the [getting started](https://gradio.app/getting_started.html) page for more demos."
      ]
    },
    {
      "cell_type": "markdown",
      "metadata": {
        "id": "R06dbZZaYJDq"
      },
      "source": [
        "Now we'll wrap this function with a Gradio interface."
      ]
    },
    {
      "cell_type": "markdown",
      "metadata": {
        "id": "cfxirj9B1FKE"
      },
      "source": [
        "> ### <a> Code for this [Space]()"
      ]
    },
    {
      "cell_type": "code",
      "execution_count": null,
      "metadata": {
        "id": "lbmqkuMjjm1_"
      },
      "outputs": [],
      "source": [
        "!pip install argparse\n",
        "!pip install gradio\n",
        "!pip install transformers[sentencepiece]"
      ]
    },
    {
      "cell_type": "code",
      "execution_count": null,
      "metadata": {
        "id": "G1SKQ5eSj30W"
      },
      "outputs": [],
      "source": [
        "from transformers import AutoTokenizer, SwitchTransformersForConditionalGeneration, AutoModelForSequenceClassification\n",
        "import torch\n",
        "import gradio as gr\n",
        "import argparse\n",
        "from scipy.special import softmax\n",
        "import csv\n",
        "import urllib.request\n",
        "import numpy as np\n",
        "import requests"
      ]
    },
    {
      "cell_type": "code",
      "execution_count": null,
      "metadata": {
        "id": "0S8j4N77k5Gs"
      },
      "outputs": [],
      "source": [
        "args_dict = dict( \n",
        "    EX_LIST = [[\"This is wonderful!\"],\n",
        "                [\"Nice car\"],\n",
        "                [\"La France est la meilleure équipe du monde\"],\n",
        "                [\"Visca Barca\"],\n",
        "                [\"Hala Madrid\"],\n",
        "                [\"Buongiorno\"],\n",
        "                # [\"Auf einigen deutschen Straßen gibt es kein Radar\"],\n",
        "                [\"Tempo soleggiato in Italia\"],\n",
        "                [\"Bonjour\"],\n",
        "                [\"صباح الخير\"],\n",
        "                [\"اكل زوجتي جميل\"],\n",
        "               ],\n",
        "\n",
        "    #MMiniLM\n",
        "    # Load the pretrained model and tokenizer\n",
        "    tokenizer_MMiniLM = AutoTokenizer.from_pretrained(\"Karim-Gamal/MMiniLM-L12-finetuned-emojis-IID-Fed\"),\n",
        "    model_MMiniLM = AutoModelForSequenceClassification.from_pretrained(\"Karim-Gamal/MMiniLM-L12-finetuned-emojis-IID-Fed\"),\n",
        "\n",
        "    #XLM\n",
        "    # Load the pretrained model and tokenizer\n",
        "    tokenizer_XLM = AutoTokenizer.from_pretrained(\"Karim-Gamal/XLM-Roberta-finetuned-emojis-IID-Fed\"),\n",
        "    model_XLM = AutoModelForSequenceClassification.from_pretrained(\"Karim-Gamal/XLM-Roberta-finetuned-emojis-IID-Fed\"),\n",
        "\n",
        "    #Bert\n",
        "    # Load the pretrained model and tokenizer\n",
        "    tokenizer_Bert = AutoTokenizer.from_pretrained(\"Karim-Gamal/BERT-base-finetuned-emojis-IID-Fed\"),\n",
        "    model_Bert = AutoModelForSequenceClassification.from_pretrained(\"Karim-Gamal/BERT-base-finetuned-emojis-IID-Fed\"),\n",
        "    \n",
        "\n",
        "\n",
        "    description = 'Real-time Emoji Prediction',\n",
        "    article = '<head><style>@import url(https://fonts.googleapis.com/css?family=Open+Sans:400italic,600italic,700italic,800italic,400,600,700,800)<link href=\"https://cdn.jsdelivr.net/npm/bootstrap@5.1.3/dist/css/bootstrap.min.css\" rel=\"stylesheet\" integrity=\"sha384-1BmE4kWBq78iYhFldvKuhfTAU6auU8tT94WrHftjDbrCEXSU1oBoqyl2QvZ6jIW3\" crossorigin=\"anonymous\"> <link rel=\"stylesheet\" href=\"https://cdn.jsdelivr.net/npm/bootstrap-icons@1.7.2/font/bootstrap-icons.css\"> <link rel=\"stylesheet\" href=\"https://unpkg.com/bootstrap-table@1.21.2/dist/bootstrap-table.min.css\">\\\n",
        "    .table-responsive{-sm|-md|-lg|-xl} body{ background-color: #f5f5f5; padding: 120px 0; font-family: \\'Open Sans\\', sans-serif; } img{ max-width:100%; } .div_table_{ position:relative; width: max-content; margin:0 auto; } .profile-card{ position:relative; width:280px; margin:0 auto; padding:40px 30px 30px; background:#fff; border: 5px solid rgba(255,255,255,.7); text-align:center; border-radius:40px; transition: all 200ms ease; } .profile-card_2{ position:relative; width:60%; // margin:0 auto; padding:40px 30px 30px; background:#fff; border: 5px solid rgba(255,255,255,.7); text-align:center; border-radius:40px; transition: all 200ms ease; } .mask-shadow{ z-index:-1 !important; width:95%; height:12px; background:#000; bottom:0; left:0; right:0; margin:0 auto; position:absolute; border-radius:4px; opacity:0; transition: all 400ms ease-in; } .mask-shadow_2{ z-index:-1 !important; width:95%; height:12px; background:#000; bottom:0; left:0; right:0; margin:0 auto; position:absolute; border-radius:4px; opacity:0; transition: all 400ms ease-in; } .profile-card:hover{ box-shadow: 0px 30px 60px -5px rgba(55,55,71,0.3); transform: translate3d(0,-5px,0); .mask-shadow{ opacity:1; box-shadow: 0px 30px 60px -5px rgba(55,55,71,0.3); position:absolute; } } .profile-card_2:hover{ box-shadow: 0px 30px 60px -5px rgba(55,55,71,0.3); transform: translate3d(0,-5px,0); .mask-shadow{ opacity:1; box-shadow: 0px 30px 60px -5px rgba(55,55,71,0.3); position:absolute; } } .profile-card header{ display:block; margin-bottom:10px; } .profile-card_2 header{ display:block; margin-bottom:10px; } .profile-card header a{ width:150px; height:150px; display:block; border-radius:100%; margin:-120px auto 0; box-shadow: 0 0 0 5px #82b541; } .profile-card_2 header a{ width:85%; height:85%; display:block; border-radius:10%; margin:-120px auto 0; box-shadow: 0 0 0 5px #82b541; } .profile-card header a img{ border-radius: 50%; width:150px; height:150px; } .profile-card_2 header a img{ border-radius: 10%; width:100%; height:100%; } .profile-card:hover header a, .profile-card header a:hover{ animation: bounceOut .4s linear; -webkit-animation: bounceOut .4s linear; } .profile-card_2:hover header a, .profile-card header a:hover{ animation: bounceOut .4s linear; -webkit-animation: bounceOut .4s linear; } .profile-card header h1{ font-size:20px; padding:20px; color:#444; text-transform:uppercase; margin-bottom:5px; } .profile-card_2 header h1{ font-size:20px; padding:20px; color:#444; text-transform:uppercase; margin-bottom:5px; } .profile-card header h2{ font-size:14px; color:#acacac; text-transform:uppercase; margin:0; } .profile-card_2 header h2{ font-size:14px; color:#acacac; text-transform:uppercase; margin:0; } /*content*/ .profile-bio{ font-size:14px; color:#a5a5a5; line-height:1.7; font-style: italic; margin-bottom:30px; } /*link social*/ .profile-social-links{ margin:0; padding:0; list-style:none; } .profile-social-links li{ display: inline-block; margin: 0 10px; } .profile-social-links li a{ width: 55px; height:55px; display:block; background:#f1f1f1; border-radius:50%; -webkit-transition: all 2.75s cubic-bezier(0,.83,.17,1); -moz-transition: all 2.75s cubic-bezier(0,.83,.17,1); -o-transition: all 2.75s cubic-bezier(0,.83,.17,1); transition: all 2.75s cubic-bezier(0,.83,.17,1); transform-style: preserve-3d; } .profile-social-links li a img{ width:35px; height:35px; margin:10px auto 0; } .profile-social-links li a:hover{ background:#ddd; transform: scale(1.2); -webkit-transform: scale(1.2); } /*animation hover effect*/ @-webkit-keyframes bounceOut { 0% { box-shadow: 0 0 0 4px #82b541; opacity: 1; } 25% { box-shadow: 0 0 0 1px #82b541; opacity: 1; } 50% { box-shadow: 0 0 0 7px #82b541; opacity: 1; } 75% { box-shadow: 0 0 0 4px #82b541; opacity: 1; } 100% { box-shadow: 0 0 0 5px #82b541; opacity: 1; } } @keyframes bounceOut { 0% { box-shadow: 0 0 0 6px #82b541; opacity: 1; } 25% { box-shadow: 0 0 0 2px #82b541; opacity: 1; } 50% { box-shadow: 0 0 0 9px #82b541; opacity: 1; } 75% { box-shadow: 0 0 0 3px #82b541; opacity: 1; } 100% { box-shadow: 0 0 0 5px #82b541; opacity: 1; } }</style></head>',\n",
        "    \n",
        "\n",
        "    )\n",
        "\n",
        "config = argparse.Namespace(**args_dict)"
      ]
    },
    {
      "cell_type": "code",
      "execution_count": null,
      "metadata": {
        "id": "y8A9m2PwlCdU"
      },
      "outputs": [],
      "source": [
        "# Preprocess text (username and link placeholders)\n",
        "def preprocess(text):\n",
        "    text = text.lower()\n",
        "    new_text = []\n",
        "    for t in text.split(\" \"):\n",
        "        t = '@user' if t.startswith('@') and len(t) > 1 else t\n",
        "        t = '' if t.startswith('http') else t\n",
        "        new_text.append(t)\n",
        "        # print(\" \".join(new_text))\n",
        "    return \" \".join(new_text)"
      ]
    },
    {
      "cell_type": "code",
      "execution_count": null,
      "metadata": {
        "id": "F6kjGMhHoR01"
      },
      "outputs": [],
      "source": [
        "def test_with_sentance(text ,net ,tokenizer):\n",
        "\n",
        "  # text = \"good morning\"\n",
        "  text = preprocess(text)\n",
        "\n",
        "  # tc = TweetCleaner(remove_stop_words=True, remove_retweets=False)\n",
        "  # print('before : ' ,text)\n",
        "  # text = tc.get_cleaned_text(text)\n",
        "  # print('after : ' ,text)\n",
        "\n",
        "  net.eval()\n",
        "  encoded_input = tokenizer.encode(text, padding=True, truncation=True, return_tensors='pt')\n",
        "  net.to('cpu')\n",
        "  # print(type())\n",
        "  # encoded_input = {k: v.to(DEVICE) for k, v in encoded_input.items()}\n",
        "  output = net(encoded_input)\n",
        "  scores = output[0][0].detach().numpy()\n",
        "  scores = softmax(scores)\n",
        "\n",
        "  # download label mapping\n",
        "  labels=[]\n",
        "  mapping_link = f\"https://raw.githubusercontent.com/cardiffnlp/tweeteval/main/datasets/emoji/mapping.txt\"\n",
        "  with urllib.request.urlopen(mapping_link) as f:\n",
        "      html = f.read().decode('utf-8').split(\"\\n\")\n",
        "      csvreader = csv.reader(html, delimiter='\\t')\n",
        "  labels = [row[1] for row in csvreader if len(row) > 1]\n",
        "\n",
        "  ranking = np.argsort(scores)\n",
        "  ranking = ranking[::-1]\n",
        "  output_d = {}\n",
        "  for i in range(scores.shape[0]):\n",
        "      l = labels[ranking[i]]\n",
        "      s = scores[ranking[i]]\n",
        "      # print(f\"{ranking[i]}) {l} {np.round(float(s), 4)}\")\n",
        "      output_d[l] = np.round(float(s), 4)\n",
        "\n",
        "      if i == 2 :\n",
        "        # break\n",
        "        return output_d\n",
        "\n",
        "  # net.to('cuda:0')\n"
      ]
    },
    {
      "cell_type": "code",
      "execution_count": null,
      "metadata": {
        "id": "jCO-WquflB3M"
      },
      "outputs": [],
      "source": [
        "list_interface = []\n",
        "list_title = []"
      ]
    },
    {
      "cell_type": "markdown",
      "metadata": {
        "id": "n-VDeCUK1FtH"
      },
      "source": [
        "> ## <a> MMiniLM"
      ]
    },
    {
      "cell_type": "code",
      "execution_count": null,
      "metadata": {
        "id": "-JYC3_iflFHF"
      },
      "outputs": [],
      "source": [
        "def _method(text):\n",
        "\n",
        "  # tokenizer = AutoTokenizer.from_pretrained(config.CHECKPOINT_BERT)\n",
        "  # model_loaded = torch.load('/content/NEW_MODELS_Imbalance/Bert/g_ex3_bert_multi_fed_data_epoch_2.pt', map_location=torch.device('cpu'))\n",
        "\n",
        "  return test_with_sentance(text , config.model_MMiniLM , config.tokenizer_MMiniLM)\n",
        "\n",
        "# greet(\"sun\")\n",
        "\n",
        "interface = gr.Interface(\n",
        "    \n",
        "    fn = _method, \n",
        "    \n",
        "    inputs=gr.Textbox(placeholder=\"Enter sentence here...\"), \n",
        "    outputs=\"label\",\n",
        "    examples=config.EX_LIST,\n",
        "    live = True,\n",
        "    \n",
        "    \n",
        "    title = 'MiniLM Multilingual',\n",
        "    \n",
        "    description=config.description,\n",
        "    article = '',\n",
        "    \n",
        ")\n",
        "list_interface.append(interface)\n",
        "list_title.append('MiniLM Multilingual')"
      ]
    },
    {
      "cell_type": "markdown",
      "metadata": {
        "id": "l_Kl2IEu1oec"
      },
      "source": [
        "> ## <a> XLM"
      ]
    },
    {
      "cell_type": "code",
      "execution_count": null,
      "metadata": {
        "id": "Dr88srmTmYNB"
      },
      "outputs": [],
      "source": [
        "def _method(text):\n",
        "\n",
        "  # tokenizer = AutoTokenizer.from_pretrained(config.CHECKPOINT_BERT)\n",
        "  # model_loaded = torch.load('/content/NEW_MODELS_Imbalance/Bert/g_ex3_bert_multi_fed_data_epoch_2.pt', map_location=torch.device('cpu'))\n",
        "\n",
        "  return test_with_sentance(text , config.model_XLM , config.tokenizer_XLM)\n",
        "\n",
        "# greet(\"sun\")\n",
        "\n",
        "interface = gr.Interface(\n",
        "    \n",
        "    fn = _method, \n",
        "    \n",
        "    inputs=gr.Textbox(placeholder=\"Enter sentence here...\"), \n",
        "    outputs=\"label\",\n",
        "    examples=config.EX_LIST,\n",
        "    live = True,\n",
        "    \n",
        "    \n",
        "    title = 'XLM Roberta Multilingual',\n",
        "    \n",
        "    description=config.description,\n",
        "    article = '',\n",
        "    \n",
        ")\n",
        "list_interface.append(interface)\n",
        "list_title.append('XLM Roberta Multilingual')"
      ]
    },
    {
      "cell_type": "markdown",
      "metadata": {
        "id": "uAbk7hRb1pGq"
      },
      "source": [
        "> ## <a> BERT"
      ]
    },
    {
      "cell_type": "code",
      "execution_count": null,
      "metadata": {
        "id": "FdeL_tgFsAbS"
      },
      "outputs": [],
      "source": [
        "def _method(text):\n",
        "\n",
        "  # tokenizer = AutoTokenizer.from_pretrained(config.CHECKPOINT_BERT)\n",
        "  # model_loaded = torch.load('/content/NEW_MODELS_Imbalance/Bert/g_ex3_bert_multi_fed_data_epoch_2.pt', map_location=torch.device('cpu'))\n",
        "\n",
        "  return test_with_sentance(text , config.model_Bert , config.tokenizer_Bert)\n",
        "\n",
        "# greet(\"sun\")\n",
        "\n",
        "interface = gr.Interface(\n",
        "    \n",
        "    fn = _method, \n",
        "    \n",
        "    inputs=gr.Textbox(placeholder=\"Enter sentence here...\"), \n",
        "    outputs=\"label\",\n",
        "    examples=config.EX_LIST,\n",
        "    live = True,\n",
        "    \n",
        "    \n",
        "    title = 'BERT Multilingual',\n",
        "    \n",
        "    description=config.description,\n",
        "    article = '',\n",
        "    \n",
        ")\n",
        "list_interface.append(interface)\n",
        "list_title.append('BERT Multilingual')"
      ]
    },
    {
      "cell_type": "markdown",
      "metadata": {
        "id": "9AH0yshv1p01"
      },
      "source": [
        "> ## <a> Switch"
      ]
    },
    {
      "cell_type": "code",
      "execution_count": null,
      "metadata": {
        "colab": {
          "base_uri": "https://localhost:8080/"
        },
        "id": "T93ucA0JsP_C",
        "outputId": "7679e41a-5661-40d1-ab8f-bcfb98a6f87e"
      },
      "outputs": [
        {
          "data": {
            "text/plain": [
              "[{'generated_text': 'joy joy joy joy joy joy joy joy joy joy joy joy joy joy joy joy joy joy joy'}]"
            ]
          },
          "execution_count": 9,
          "metadata": {},
          "output_type": "execute_result"
        }
      ],
      "source": [
        "API_URL_Switch = \"https://api-inference.huggingface.co/models/Karim-Gamal/switch-base-8-finetuned-SemEval-2018-emojis-IID-Fed\"\n",
        "headers_Switch = {\"Authorization\": \"Bearer hf_\"}\n",
        "\n",
        "\n",
        "def query_Switch(payload):\n",
        "    response = requests.post(API_URL_Switch, headers=headers_Switch, json=payload)\n",
        "    return response.json()\n",
        "\n",
        "query_Switch({\t\"inputs\": 'test',})\n"
      ]
    },
    {
      "cell_type": "code",
      "execution_count": null,
      "metadata": {
        "id": "AFHz1bpRuoYO"
      },
      "outputs": [],
      "source": [
        "def _method(text):\n",
        "  text = preprocess(text)\n",
        "  output_temp = query_Switch({\n",
        "  \"inputs\": text,\n",
        "  })\n",
        "\n",
        "  text_to_emoji = {'red' : '❤', 'face': '😍', 'joy':'😂', 'love':'💕', 'fire':'🔥', 'smile':'😊', 'sunglasses':'😎', 'sparkle':'✨', 'blue':'💙', 'kiss':'😘', 'camera':'📷', 'USA':'🇺🇸', 'sun':'☀' , 'purple':'💜', 'blink':'😉', 'hundred':'💯', 'beam':'😁', 'tree':'🎄', 'flash':'📸', 'tongue':'😜'}\n",
        "\n",
        "  # Extract the dictionary from the list\n",
        "  d = output_temp[0]\n",
        "\n",
        "  # Extract the text from the 'generated_text' key\n",
        "  text = d['generated_text']\n",
        "\n",
        "  # my_dict = {}\n",
        "  # my_dict[str(text_to_emoji[text.split(' ')[0]])] = 0.99\n",
        "  return text_to_emoji[text.split(' ')[0]]\n",
        "  \n",
        "\n",
        "# greet(\"sun\")\n",
        "\n",
        "interface = gr.Interface(\n",
        "    \n",
        "    fn = _method, \n",
        "    \n",
        "    inputs=gr.Textbox(placeholder=\"Enter sentence here...\"), \n",
        "    outputs=\"text\",\n",
        "    examples=config.EX_LIST,\n",
        "    live = True,\n",
        "    \n",
        "    \n",
        "    title = 'Switch-Base-8',\n",
        "    \n",
        "    description=config.description,\n",
        "    article = '',\n",
        "    \n",
        ")\n",
        "list_interface.append(interface)\n",
        "list_title.append('Switch-Base-8')"
      ]
    },
    {
      "cell_type": "markdown",
      "metadata": {
        "id": "uvU_71bNUEX2"
      },
      "source": [
        "> ## About us"
      ]
    },
    {
      "cell_type": "code",
      "execution_count": null,
      "metadata": {
        "id": "EhDxH0BcUGEd"
      },
      "outputs": [],
      "source": [
        "def _method(input_rating):\n",
        "\n",
        "  # tokenizer = AutoTokenizer.from_pretrained(config.CHECKPOINT_BERT)\n",
        "  # model_loaded = torch.load('/content/NEW_MODELS_Imbalance/Bert/g_ex3_bert_multi_fed_data_epoch_2.pt', map_location=torch.device('cpu'))\n",
        "\n",
        "  if input_rating <=2:\n",
        "    return {'🔥': 0.6, '✨': 0.3, '💯': 0.1}\n",
        "\n",
        "  elif input_rating <= 4 and input_rating >2:\n",
        "    return {'✨': 0.6, '😉': 0.3, '💯': 0.1}\n",
        "\n",
        "  elif input_rating >4:\n",
        "    return {'😍': 0.6, '💯': 0.3, '💕': 0.1}\n",
        "\n",
        "  # return test_with_sentance(text , config.model_loaded_bert_multi_NONIID , config.tokenizer_bert)\n",
        "\n",
        "# greet(\"sun\")\n",
        "\n",
        "interface = gr.Interface(\n",
        "    \n",
        "    fn = _method, \n",
        "    \n",
        "    inputs=gr.Slider(1, 5, value=4),\n",
        "    outputs=\"label\",\n",
        "    # examples=config.EX_LIST,\n",
        "    live = True,\n",
        "    \n",
        "    \n",
        "    title = 'About us',\n",
        "    \n",
        "    description='We don\\'t have sad emoji so our rating will always be great. 😂',\n",
        "    \n",
        "    # CSS Source : https://codepen.io/bibiangel199/pen/warevP\n",
        "\n",
        "    article = config.article + '<!-- this is the markup. you can change the details (your own name, your own avatar etc.) but don’t change the basic structure! --> <div class=\"div_table_\"> <table class=\"table\"> <tr> <td><aside class=\"profile-card\"> <div class=\"mask-shadow\"></div> <header> <!-- here’s the avatar --> <a href=\"https://www.linkedin.com/in/hossam-amer-23b9329b/\"> <img src=\"https://drive.google.com/uc?export=view&id=1-C_UIimeqbofJC_lldC7IQzIOX_OYRSn\"> </a> <!-- the username --> <h1 style = \" font-size:20px; padding:20px; color:#444;  margin-bottom:5px; \" >Dr. Hossam Amer</h1> <!-- and role or location --> <h2 style = \"  font-size:14px; color:#acacac; text- margin:0; \" >Research Scientist at Microsoft</h2> </header> </aside></td> </tr> </table> </div> <div class=\"div_table_\"> <table class=\"table\"> <tr> <td><aside class=\"profile-card\"> <div class=\"mask-shadow\"></div> <header> <!-- here’s the avatar --> <a href=\"https://www.linkedin.com/in/ahmed-mohamed-gaber-143b25175/\"> <img src=\"https://drive.google.com/uc?export=view&id=1OiGZwhL23PYhIJzQexYvPDFRrgUIprMj\"> </a> <!-- the username --> <h1 style = \" font-size:20px; padding:20px; color:#444;  margin-bottom:5px; \">Ahmed Gaber</h1> <!-- and role or location --> <h2 style = \"  font-size:14px; color:#acacac; text- margin:0; \" >Master\\'s student at Queen\\'s University</h2> </header> </aside></td> <td><aside class=\"profile-card\"> <div class=\"mask-shadow\"></div> <header> <!-- here’s the avatar --> <a href=\"https://www.linkedin.com/in/karim-gamal-mahmoud/\"> <img src=\"https://drive.google.com/uc?export=view&id=1Lg2RzimITL9y__X2hycBTX10rJ4o87Ax\"> </a> <!-- the username --> <h1 style=\" font-size:20px; padding:20px; color:#444;  margin-bottom:5px; \">Karim Gamal</h1> <!-- and role or location --> <h2 style = \"  font-size:14px; color:#acacac; text- margin:0; \" >Master\\'s student at Queen\\'s University</h2> </header> </aside></td> </tr> </table> </div>',\n",
        "    )\n",
        "\n",
        "\n",
        "list_interface.append(interface)\n",
        "list_title.append('About us')"
      ]
    },
    {
      "cell_type": "code",
      "execution_count": null,
      "metadata": {
        "colab": {
          "base_uri": "https://localhost:8080/",
          "height": 755
        },
        "id": "e200MmBU2aLT",
        "outputId": "d69f0925-0ad2-4c1c-dbde-7c8823ae8297"
      },
      "outputs": [
        {
          "name": "stderr",
          "output_type": "stream",
          "text": [
            "/usr/local/lib/python3.9/dist-packages/gradio/blocks.py:716: UserWarning: api_name predict already exists, using predict_1\n",
            "  warnings.warn(\n",
            "/usr/local/lib/python3.9/dist-packages/gradio/blocks.py:716: UserWarning: api_name predict already exists, using predict_2\n",
            "  warnings.warn(\n",
            "/usr/local/lib/python3.9/dist-packages/gradio/blocks.py:716: UserWarning: api_name predict already exists, using predict_3\n",
            "  warnings.warn(\n",
            "/usr/local/lib/python3.9/dist-packages/gradio/blocks.py:716: UserWarning: api_name predict already exists, using predict_4\n",
            "  warnings.warn(\n"
          ]
        },
        {
          "name": "stdout",
          "output_type": "stream",
          "text": [
            "Colab notebook detected. To show errors in colab notebook, set debug=True in launch()\n",
            "Note: opening Chrome Inspector may crash demo inside Colab notebooks.\n",
            "\n",
            "To create a public link, set `share=True` in `launch()`.\n"
          ]
        },
        {
          "data": {
            "application/javascript": "(async (port, path, width, height, cache, element) => {\n                        if (!google.colab.kernel.accessAllowed && !cache) {\n                            return;\n                        }\n                        element.appendChild(document.createTextNode(''));\n                        const url = await google.colab.kernel.proxyPort(port, {cache});\n\n                        const external_link = document.createElement('div');\n                        external_link.innerHTML = `\n                            <div style=\"font-family: monospace; margin-bottom: 0.5rem\">\n                                Running on <a href=${new URL(path, url).toString()} target=\"_blank\">\n                                    https://localhost:${port}${path}\n                                </a>\n                            </div>\n                        `;\n                        element.appendChild(external_link);\n\n                        const iframe = document.createElement('iframe');\n                        iframe.src = new URL(path, url).toString();\n                        iframe.height = height;\n                        iframe.allow = \"autoplay; camera; microphone; clipboard-read; clipboard-write;\"\n                        iframe.width = width;\n                        iframe.style.border = 0;\n                        element.appendChild(iframe);\n                    })(7860, \"/\", \"100%\", 500, false, window.element)",
            "text/plain": [
              "<IPython.core.display.Javascript object>"
            ]
          },
          "metadata": {},
          "output_type": "display_data"
        },
        {
          "data": {
            "text/plain": []
          },
          "execution_count": 12,
          "metadata": {},
          "output_type": "execute_result"
        }
      ],
      "source": [
        "demo = gr.TabbedInterface(\n",
        "    list_interface, \n",
        "    list_title,\n",
        "    title='Multilingual Emoji Prediction Using Federated Learning',\n",
        "    css='.gradio-container {color : orange}',)\n",
        "    # css='.gradio-container {background-color: white; color : orange}',)\n",
        "demo.launch()"
      ]
    },
    {
      "cell_type": "code",
      "execution_count": null,
      "metadata": {
        "id": "kpBGNKuhu1Lq"
      },
      "outputs": [],
      "source": []
    }
  ],
  "metadata": {
    "colab": {
      "provenance": []
    },
    "kernelspec": {
      "display_name": "Python 3",
      "name": "python3"
    },
    "language_info": {
      "name": "python"
    }
  },
  "nbformat": 4,
  "nbformat_minor": 0
}
