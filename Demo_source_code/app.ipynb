{
  "nbformat": 4,
  "nbformat_minor": 0,
  "metadata": {
    "colab": {
      "provenance": []
    },
    "kernelspec": {
      "name": "python3",
      "display_name": "Python 3"
    },
    "gpuClass": "standard"
  },
  "cells": [
    {
      "cell_type": "code",
      "source": [
        "!pip install argparse\n",
        "!pip install gradio"
      ],
      "metadata": {
        "id": "klrtGeHZ0B5V",
        "outputId": "a544ed47-ae06-4344-a804-b995bfd0fbdf",
        "colab": {
          "base_uri": "https://localhost:8080/",
          "height": 1000
        }
      },
      "execution_count": null,
      "outputs": [
        {
          "output_type": "stream",
          "name": "stdout",
          "text": [
            "Looking in indexes: https://pypi.org/simple, https://us-python.pkg.dev/colab-wheels/public/simple/\n",
            "Collecting argparse\n",
            "  Downloading argparse-1.4.0-py2.py3-none-any.whl (23 kB)\n",
            "Installing collected packages: argparse\n",
            "Successfully installed argparse-1.4.0\n"
          ]
        },
        {
          "output_type": "display_data",
          "data": {
            "application/vnd.colab-display-data+json": {
              "pip_warning": {
                "packages": [
                  "argparse"
                ]
              }
            }
          },
          "metadata": {}
        },
        {
          "output_type": "stream",
          "name": "stdout",
          "text": [
            "Looking in indexes: https://pypi.org/simple, https://us-python.pkg.dev/colab-wheels/public/simple/\n",
            "Collecting gradio\n",
            "  Downloading gradio-3.20.1-py3-none-any.whl (14.3 MB)\n",
            "\u001b[2K     \u001b[90m━━━━━━━━━━━━━━━━━━━━━━━━━━━━━━━━━━━━━━━━\u001b[0m \u001b[32m14.3/14.3 MB\u001b[0m \u001b[31m20.0 MB/s\u001b[0m eta \u001b[36m0:00:00\u001b[0m\n",
            "\u001b[?25hRequirement already satisfied: numpy in /usr/local/lib/python3.8/dist-packages (from gradio) (1.22.4)\n",
            "Collecting pydub\n",
            "  Downloading pydub-0.25.1-py2.py3-none-any.whl (32 kB)\n",
            "Collecting markdown-it-py[linkify]>=2.0.0\n",
            "  Downloading markdown_it_py-2.2.0-py3-none-any.whl (84 kB)\n",
            "\u001b[2K     \u001b[90m━━━━━━━━━━━━━━━━━━━━━━━━━━━━━━━━━━━━━━━━\u001b[0m \u001b[32m84.5/84.5 KB\u001b[0m \u001b[31m9.2 MB/s\u001b[0m eta \u001b[36m0:00:00\u001b[0m\n",
            "\u001b[?25hCollecting mdit-py-plugins<=0.3.3\n",
            "  Downloading mdit_py_plugins-0.3.3-py3-none-any.whl (50 kB)\n",
            "\u001b[2K     \u001b[90m━━━━━━━━━━━━━━━━━━━━━━━━━━━━━━━━━━━━━━━━\u001b[0m \u001b[32m50.5/50.5 KB\u001b[0m \u001b[31m4.3 MB/s\u001b[0m eta \u001b[36m0:00:00\u001b[0m\n",
            "\u001b[?25hRequirement already satisfied: pillow in /usr/local/lib/python3.8/dist-packages (from gradio) (8.4.0)\n",
            "Requirement already satisfied: aiohttp in /usr/local/lib/python3.8/dist-packages (from gradio) (3.8.4)\n",
            "Requirement already satisfied: pyyaml in /usr/local/lib/python3.8/dist-packages (from gradio) (6.0)\n",
            "Requirement already satisfied: pydantic in /usr/local/lib/python3.8/dist-packages (from gradio) (1.10.5)\n",
            "Collecting fastapi\n",
            "  Downloading fastapi-0.93.0-py3-none-any.whl (56 kB)\n",
            "\u001b[2K     \u001b[90m━━━━━━━━━━━━━━━━━━━━━━━━━━━━━━━━━━━━━━━━\u001b[0m \u001b[32m56.3/56.3 KB\u001b[0m \u001b[31m4.5 MB/s\u001b[0m eta \u001b[36m0:00:00\u001b[0m\n",
            "\u001b[?25hCollecting websockets>=10.0\n",
            "  Downloading websockets-10.4-cp38-cp38-manylinux_2_5_x86_64.manylinux1_x86_64.manylinux_2_17_x86_64.manylinux2014_x86_64.whl (106 kB)\n",
            "\u001b[2K     \u001b[90m━━━━━━━━━━━━━━━━━━━━━━━━━━━━━━━━━━━━━━━\u001b[0m \u001b[32m107.0/107.0 KB\u001b[0m \u001b[31m7.1 MB/s\u001b[0m eta \u001b[36m0:00:00\u001b[0m\n",
            "\u001b[?25hRequirement already satisfied: pandas in /usr/local/lib/python3.8/dist-packages (from gradio) (1.3.5)\n",
            "Requirement already satisfied: fsspec in /usr/local/lib/python3.8/dist-packages (from gradio) (2023.1.0)\n",
            "Requirement already satisfied: jinja2 in /usr/local/lib/python3.8/dist-packages (from gradio) (3.1.2)\n",
            "Collecting aiofiles\n",
            "  Downloading aiofiles-23.1.0-py3-none-any.whl (14 kB)\n",
            "Collecting ffmpy\n",
            "  Downloading ffmpy-0.3.0.tar.gz (4.8 kB)\n",
            "  Preparing metadata (setup.py) ... \u001b[?25l\u001b[?25hdone\n",
            "Collecting orjson\n",
            "  Downloading orjson-3.8.7-cp38-cp38-manylinux_2_28_x86_64.whl (140 kB)\n",
            "\u001b[2K     \u001b[90m━━━━━━━━━━━━━━━━━━━━━━━━━━━━━━━━━━━━━━━\u001b[0m \u001b[32m140.7/140.7 KB\u001b[0m \u001b[31m6.7 MB/s\u001b[0m eta \u001b[36m0:00:00\u001b[0m\n",
            "\u001b[?25hRequirement already satisfied: altair>=4.2.0 in /usr/local/lib/python3.8/dist-packages (from gradio) (4.2.2)\n",
            "Collecting httpx\n",
            "  Downloading httpx-0.23.3-py3-none-any.whl (71 kB)\n",
            "\u001b[2K     \u001b[90m━━━━━━━━━━━━━━━━━━━━━━━━━━━━━━━━━━━━━━━━\u001b[0m \u001b[32m71.5/71.5 KB\u001b[0m \u001b[31m6.8 MB/s\u001b[0m eta \u001b[36m0:00:00\u001b[0m\n",
            "\u001b[?25hRequirement already satisfied: markupsafe in /usr/local/lib/python3.8/dist-packages (from gradio) (2.1.2)\n",
            "Requirement already satisfied: matplotlib in /usr/local/lib/python3.8/dist-packages (from gradio) (3.5.3)\n",
            "Requirement already satisfied: typing-extensions in /usr/local/lib/python3.8/dist-packages (from gradio) (4.5.0)\n",
            "Collecting pycryptodome\n",
            "  Downloading pycryptodome-3.17-cp35-abi3-manylinux_2_17_x86_64.manylinux2014_x86_64.whl (2.1 MB)\n",
            "\u001b[2K     \u001b[90m━━━━━━━━━━━━━━━━━━━━━━━━━━━━━━━━━━━━━━━━\u001b[0m \u001b[32m2.1/2.1 MB\u001b[0m \u001b[31m38.0 MB/s\u001b[0m eta \u001b[36m0:00:00\u001b[0m\n",
            "\u001b[?25hCollecting python-multipart\n",
            "  Downloading python_multipart-0.0.6-py3-none-any.whl (45 kB)\n",
            "\u001b[2K     \u001b[90m━━━━━━━━━━━━━━━━━━━━━━━━━━━━━━━━━━━━━━━━\u001b[0m \u001b[32m45.7/45.7 KB\u001b[0m \u001b[31m3.9 MB/s\u001b[0m eta \u001b[36m0:00:00\u001b[0m\n",
            "\u001b[?25hCollecting uvicorn\n",
            "  Downloading uvicorn-0.20.0-py3-none-any.whl (56 kB)\n",
            "\u001b[2K     \u001b[90m━━━━━━━━━━━━━━━━━━━━━━━━━━━━━━━━━━━━━━━━\u001b[0m \u001b[32m56.9/56.9 KB\u001b[0m \u001b[31m1.8 MB/s\u001b[0m eta \u001b[36m0:00:00\u001b[0m\n",
            "\u001b[?25hRequirement already satisfied: requests in /usr/local/lib/python3.8/dist-packages (from gradio) (2.25.1)\n",
            "Requirement already satisfied: toolz in /usr/local/lib/python3.8/dist-packages (from altair>=4.2.0->gradio) (0.12.0)\n",
            "Requirement already satisfied: jsonschema>=3.0 in /usr/local/lib/python3.8/dist-packages (from altair>=4.2.0->gradio) (4.3.3)\n",
            "Requirement already satisfied: entrypoints in /usr/local/lib/python3.8/dist-packages (from altair>=4.2.0->gradio) (0.4)\n",
            "Collecting mdurl~=0.1\n",
            "  Downloading mdurl-0.1.2-py3-none-any.whl (10.0 kB)\n",
            "Collecting linkify-it-py<3,>=1\n",
            "  Downloading linkify_it_py-2.0.0-py3-none-any.whl (19 kB)\n",
            "Requirement already satisfied: python-dateutil>=2.7.3 in /usr/local/lib/python3.8/dist-packages (from pandas->gradio) (2.8.2)\n",
            "Requirement already satisfied: pytz>=2017.3 in /usr/local/lib/python3.8/dist-packages (from pandas->gradio) (2022.7.1)\n",
            "Requirement already satisfied: multidict<7.0,>=4.5 in /usr/local/lib/python3.8/dist-packages (from aiohttp->gradio) (6.0.4)\n",
            "Requirement already satisfied: charset-normalizer<4.0,>=2.0 in /usr/local/lib/python3.8/dist-packages (from aiohttp->gradio) (3.0.1)\n",
            "Requirement already satisfied: attrs>=17.3.0 in /usr/local/lib/python3.8/dist-packages (from aiohttp->gradio) (22.2.0)\n",
            "Requirement already satisfied: aiosignal>=1.1.2 in /usr/local/lib/python3.8/dist-packages (from aiohttp->gradio) (1.3.1)\n",
            "Requirement already satisfied: yarl<2.0,>=1.0 in /usr/local/lib/python3.8/dist-packages (from aiohttp->gradio) (1.8.2)\n",
            "Requirement already satisfied: frozenlist>=1.1.1 in /usr/local/lib/python3.8/dist-packages (from aiohttp->gradio) (1.3.3)\n",
            "Requirement already satisfied: async-timeout<5.0,>=4.0.0a3 in /usr/local/lib/python3.8/dist-packages (from aiohttp->gradio) (4.0.2)\n",
            "Collecting starlette<0.26.0,>=0.25.0\n",
            "  Downloading starlette-0.25.0-py3-none-any.whl (66 kB)\n",
            "\u001b[2K     \u001b[90m━━━━━━━━━━━━━━━━━━━━━━━━━━━━━━━━━━━━━━━━\u001b[0m \u001b[32m66.4/66.4 KB\u001b[0m \u001b[31m3.7 MB/s\u001b[0m eta \u001b[36m0:00:00\u001b[0m\n",
            "\u001b[?25hCollecting sniffio\n",
            "  Downloading sniffio-1.3.0-py3-none-any.whl (10 kB)\n",
            "Collecting httpcore<0.17.0,>=0.15.0\n",
            "  Downloading httpcore-0.16.3-py3-none-any.whl (69 kB)\n",
            "\u001b[2K     \u001b[90m━━━━━━━━━━━━━━━━━━━━━━━━━━━━━━━━━━━━━━━━\u001b[0m \u001b[32m69.6/69.6 KB\u001b[0m \u001b[31m5.4 MB/s\u001b[0m eta \u001b[36m0:00:00\u001b[0m\n",
            "\u001b[?25hCollecting rfc3986[idna2008]<2,>=1.3\n",
            "  Downloading rfc3986-1.5.0-py2.py3-none-any.whl (31 kB)\n",
            "Requirement already satisfied: certifi in /usr/local/lib/python3.8/dist-packages (from httpx->gradio) (2022.12.7)\n",
            "Requirement already satisfied: kiwisolver>=1.0.1 in /usr/local/lib/python3.8/dist-packages (from matplotlib->gradio) (1.4.4)\n",
            "Requirement already satisfied: pyparsing>=2.2.1 in /usr/local/lib/python3.8/dist-packages (from matplotlib->gradio) (3.0.9)\n",
            "Requirement already satisfied: packaging>=20.0 in /usr/local/lib/python3.8/dist-packages (from matplotlib->gradio) (23.0)\n",
            "Requirement already satisfied: cycler>=0.10 in /usr/local/lib/python3.8/dist-packages (from matplotlib->gradio) (0.11.0)\n",
            "Requirement already satisfied: fonttools>=4.22.0 in /usr/local/lib/python3.8/dist-packages (from matplotlib->gradio) (4.38.0)\n",
            "Requirement already satisfied: idna<3,>=2.5 in /usr/local/lib/python3.8/dist-packages (from requests->gradio) (2.10)\n",
            "Requirement already satisfied: chardet<5,>=3.0.2 in /usr/local/lib/python3.8/dist-packages (from requests->gradio) (4.0.0)\n",
            "Requirement already satisfied: urllib3<1.27,>=1.21.1 in /usr/local/lib/python3.8/dist-packages (from requests->gradio) (1.26.14)\n",
            "Collecting h11>=0.8\n",
            "  Downloading h11-0.14.0-py3-none-any.whl (58 kB)\n",
            "\u001b[2K     \u001b[90m━━━━━━━━━━━━━━━━━━━━━━━━━━━━━━━━━━━━━━━━\u001b[0m \u001b[32m58.3/58.3 KB\u001b[0m \u001b[31m4.7 MB/s\u001b[0m eta \u001b[36m0:00:00\u001b[0m\n",
            "\u001b[?25hRequirement already satisfied: click>=7.0 in /usr/local/lib/python3.8/dist-packages (from uvicorn->gradio) (8.1.3)\n",
            "Collecting anyio<5.0,>=3.0\n",
            "  Downloading anyio-3.6.2-py3-none-any.whl (80 kB)\n",
            "\u001b[2K     \u001b[90m━━━━━━━━━━━━━━━━━━━━━━━━━━━━━━━━━━━━━━━━\u001b[0m \u001b[32m80.6/80.6 KB\u001b[0m \u001b[31m9.0 MB/s\u001b[0m eta \u001b[36m0:00:00\u001b[0m\n",
            "\u001b[?25hRequirement already satisfied: pyrsistent!=0.17.0,!=0.17.1,!=0.17.2,>=0.14.0 in /usr/local/lib/python3.8/dist-packages (from jsonschema>=3.0->altair>=4.2.0->gradio) (0.19.3)\n",
            "Requirement already satisfied: importlib-resources>=1.4.0 in /usr/local/lib/python3.8/dist-packages (from jsonschema>=3.0->altair>=4.2.0->gradio) (5.12.0)\n",
            "Collecting uc-micro-py\n",
            "  Downloading uc_micro_py-1.0.1-py3-none-any.whl (6.2 kB)\n",
            "Requirement already satisfied: six>=1.5 in /usr/local/lib/python3.8/dist-packages (from python-dateutil>=2.7.3->pandas->gradio) (1.15.0)\n",
            "Requirement already satisfied: zipp>=3.1.0 in /usr/local/lib/python3.8/dist-packages (from importlib-resources>=1.4.0->jsonschema>=3.0->altair>=4.2.0->gradio) (3.15.0)\n",
            "Building wheels for collected packages: ffmpy\n",
            "  Building wheel for ffmpy (setup.py) ... \u001b[?25l\u001b[?25hdone\n",
            "  Created wheel for ffmpy: filename=ffmpy-0.3.0-py3-none-any.whl size=4711 sha256=8aab22720340fef60618ab7a7ebe2bf3a2290aeb6b075ac4ace8a94a4430d6ed\n",
            "  Stored in directory: /root/.cache/pip/wheels/ff/5b/59/913b443e7369dc04b61f607a746b6f7d83fb65e2e19fcc958d\n",
            "Successfully built ffmpy\n",
            "Installing collected packages: rfc3986, pydub, ffmpy, websockets, uc-micro-py, sniffio, python-multipart, pycryptodome, orjson, mdurl, h11, aiofiles, uvicorn, markdown-it-py, linkify-it-py, anyio, starlette, mdit-py-plugins, httpcore, httpx, fastapi, gradio\n",
            "Successfully installed aiofiles-23.1.0 anyio-3.6.2 fastapi-0.93.0 ffmpy-0.3.0 gradio-3.20.1 h11-0.14.0 httpcore-0.16.3 httpx-0.23.3 linkify-it-py-2.0.0 markdown-it-py-2.2.0 mdit-py-plugins-0.3.3 mdurl-0.1.2 orjson-3.8.7 pycryptodome-3.17 pydub-0.25.1 python-multipart-0.0.6 rfc3986-1.5.0 sniffio-1.3.0 starlette-0.25.0 uc-micro-py-1.0.1 uvicorn-0.20.0 websockets-10.4\n"
          ]
        }
      ]
    },
    {
      "cell_type": "code",
      "source": [
        "import gradio as gr\n",
        "import requests\n",
        "import argparse"
      ],
      "metadata": {
        "id": "TDGuXZ5h1cse"
      },
      "execution_count": null,
      "outputs": []
    },
    {
      "cell_type": "code",
      "source": [
        "args_dict = dict( \n",
        "    EX_LIST = [[\"This is wonderful!\"],\n",
        "                [\"Nice car\"],\n",
        "                [\"La France est la meilleure équipe du monde\"],\n",
        "                [\"Visca Barca\"],\n",
        "                [\"Hala Madrid\"],\n",
        "                [\"Buongiorno\"],\n",
        "                # [\"Auf einigen deutschen Straßen gibt es kein Radar\"],\n",
        "                [\"Tempo soleggiato in Italia\"],\n",
        "                [\"Bonjour\"],\n",
        "                [\"صباح الخير\"],\n",
        "                [\"اكل زوجتي جميل\"],\n",
        "               ],\n",
        "\n",
        "    description = 'Real-time Emoji Prediction',\n",
        "    article = '<head><style>@import url(https://fonts.googleapis.com/css?family=Open+Sans:400italic,600italic,700italic,800italic,400,600,700,800)<link href=\"https://cdn.jsdelivr.net/npm/bootstrap@5.1.3/dist/css/bootstrap.min.css\" rel=\"stylesheet\" integrity=\"sha384-1BmE4kWBq78iYhFldvKuhfTAU6auU8tT94WrHftjDbrCEXSU1oBoqyl2QvZ6jIW3\" crossorigin=\"anonymous\"> <link rel=\"stylesheet\" href=\"https://cdn.jsdelivr.net/npm/bootstrap-icons@1.7.2/font/bootstrap-icons.css\"> <link rel=\"stylesheet\" href=\"https://unpkg.com/bootstrap-table@1.21.2/dist/bootstrap-table.min.css\">\\\n",
        "    .table-responsive{-sm|-md|-lg|-xl} body{ background-color: #f5f5f5; padding: 120px 0; font-family: \\'Open Sans\\', sans-serif; } img{ max-width:100%; } .div_table_{ position:relative; width: max-content; margin:0 auto; } .profile-card{ position:relative; width:280px; margin:0 auto; padding:40px 30px 30px; background:#fff; border: 5px solid rgba(255,255,255,.7); text-align:center; border-radius:40px; transition: all 200ms ease; } .profile-card_2{ position:relative; width:60%; // margin:0 auto; padding:40px 30px 30px; background:#fff; border: 5px solid rgba(255,255,255,.7); text-align:center; border-radius:40px; transition: all 200ms ease; } .mask-shadow{ z-index:-1 !important; width:95%; height:12px; background:#000; bottom:0; left:0; right:0; margin:0 auto; position:absolute; border-radius:4px; opacity:0; transition: all 400ms ease-in; } .mask-shadow_2{ z-index:-1 !important; width:95%; height:12px; background:#000; bottom:0; left:0; right:0; margin:0 auto; position:absolute; border-radius:4px; opacity:0; transition: all 400ms ease-in; } .profile-card:hover{ box-shadow: 0px 30px 60px -5px rgba(55,55,71,0.3); transform: translate3d(0,-5px,0); .mask-shadow{ opacity:1; box-shadow: 0px 30px 60px -5px rgba(55,55,71,0.3); position:absolute; } } .profile-card_2:hover{ box-shadow: 0px 30px 60px -5px rgba(55,55,71,0.3); transform: translate3d(0,-5px,0); .mask-shadow{ opacity:1; box-shadow: 0px 30px 60px -5px rgba(55,55,71,0.3); position:absolute; } } .profile-card header{ display:block; margin-bottom:10px; } .profile-card_2 header{ display:block; margin-bottom:10px; } .profile-card header a{ width:150px; height:150px; display:block; border-radius:100%; margin:-120px auto 0; box-shadow: 0 0 0 5px #82b541; } .profile-card_2 header a{ width:85%; height:85%; display:block; border-radius:10%; margin:-120px auto 0; box-shadow: 0 0 0 5px #82b541; } .profile-card header a img{ border-radius: 50%; width:150px; height:150px; } .profile-card_2 header a img{ border-radius: 10%; width:100%; height:100%; } .profile-card:hover header a, .profile-card header a:hover{ animation: bounceOut .4s linear; -webkit-animation: bounceOut .4s linear; } .profile-card_2:hover header a, .profile-card header a:hover{ animation: bounceOut .4s linear; -webkit-animation: bounceOut .4s linear; } .profile-card header h1{ font-size:20px; padding:20px; color:#444; text-transform:uppercase; margin-bottom:5px; } .profile-card_2 header h1{ font-size:20px; padding:20px; color:#444; text-transform:uppercase; margin-bottom:5px; } .profile-card header h2{ font-size:14px; color:#acacac; text-transform:uppercase; margin:0; } .profile-card_2 header h2{ font-size:14px; color:#acacac; text-transform:uppercase; margin:0; } /*content*/ .profile-bio{ font-size:14px; color:#a5a5a5; line-height:1.7; font-style: italic; margin-bottom:30px; } /*link social*/ .profile-social-links{ margin:0; padding:0; list-style:none; } .profile-social-links li{ display: inline-block; margin: 0 10px; } .profile-social-links li a{ width: 55px; height:55px; display:block; background:#f1f1f1; border-radius:50%; -webkit-transition: all 2.75s cubic-bezier(0,.83,.17,1); -moz-transition: all 2.75s cubic-bezier(0,.83,.17,1); -o-transition: all 2.75s cubic-bezier(0,.83,.17,1); transition: all 2.75s cubic-bezier(0,.83,.17,1); transform-style: preserve-3d; } .profile-social-links li a img{ width:35px; height:35px; margin:10px auto 0; } .profile-social-links li a:hover{ background:#ddd; transform: scale(1.2); -webkit-transform: scale(1.2); } /*animation hover effect*/ @-webkit-keyframes bounceOut { 0% { box-shadow: 0 0 0 4px #82b541; opacity: 1; } 25% { box-shadow: 0 0 0 1px #82b541; opacity: 1; } 50% { box-shadow: 0 0 0 7px #82b541; opacity: 1; } 75% { box-shadow: 0 0 0 4px #82b541; opacity: 1; } 100% { box-shadow: 0 0 0 5px #82b541; opacity: 1; } } @keyframes bounceOut { 0% { box-shadow: 0 0 0 6px #82b541; opacity: 1; } 25% { box-shadow: 0 0 0 2px #82b541; opacity: 1; } 50% { box-shadow: 0 0 0 9px #82b541; opacity: 1; } 75% { box-shadow: 0 0 0 3px #82b541; opacity: 1; } 100% { box-shadow: 0 0 0 5px #82b541; opacity: 1; } }</style></head>',\n",
        "    \n",
        "\n",
        "    )\n",
        "\n",
        "config = argparse.Namespace(**args_dict)\n",
        "\n"
      ],
      "metadata": {
        "id": "MuTSgSEoj5U-"
      },
      "execution_count": null,
      "outputs": []
    },
    {
      "cell_type": "code",
      "source": [
        "list_interface = []\n",
        "list_title = []"
      ],
      "metadata": {
        "id": "thRE0YAfKdJn"
      },
      "execution_count": null,
      "outputs": []
    },
    {
      "cell_type": "code",
      "source": [
        "# Preprocess text (username and link placeholders)\n",
        "def preprocess(text):\n",
        "    text = text.lower()\n",
        "    new_text = []\n",
        "    for t in text.split(\" \"):\n",
        "        t = '@user' if t.startswith('@') and len(t) > 1 else t\n",
        "        t = '' if t.startswith('http') else t\n",
        "        new_text.append(t)\n",
        "        # print(\" \".join(new_text))\n",
        "    return \" \".join(new_text)"
      ],
      "metadata": {
        "id": "UQLS3lLtmRl4"
      },
      "execution_count": null,
      "outputs": []
    },
    {
      "cell_type": "markdown",
      "source": [
        "> ## <a> MMiniLM"
      ],
      "metadata": {
        "id": "n-VDeCUK1FtH"
      }
    },
    {
      "cell_type": "code",
      "source": [
        "\n",
        "API_URL_MMiniLM = \"https://api-inference.huggingface.co/models/Karim-Gamal/MMiniLM-L12-finetuned-emojis-IID-Fed\"\n",
        "headers_MMiniLM = {\"Authorization\": \"Bearer ...\"}\n",
        "\n",
        "\n",
        "def query_MMiniLM(payload):\n",
        "    response = requests.post(API_URL_MMiniLM, headers=headers_MMiniLM, json=payload)\n",
        "    return response.json()\n",
        "\n",
        "query_MMiniLM({\t\"inputs\": 'test',})"
      ],
      "metadata": {
        "colab": {
          "base_uri": "https://localhost:8080/"
        },
        "id": "bpeENOgqnzDj",
        "outputId": "69fdb1db-577f-428f-c743-2b8e3828f50d"
      },
      "execution_count": null,
      "outputs": [
        {
          "output_type": "execute_result",
          "data": {
            "text/plain": [
              "[[{'label': '☀', 'score': 0.5268154740333557},\n",
              "  {'label': '❤', 'score': 0.4690827429294586},\n",
              "  {'label': '💕', 'score': 0.0004470011917874217},\n",
              "  {'label': '😊', 'score': 0.0004115657939109951},\n",
              "  {'label': '🎄', 'score': 0.0004001706838607788},\n",
              "  {'label': '💜', 'score': 0.0003553704300429672},\n",
              "  {'label': '😍', 'score': 0.0003425283939577639},\n",
              "  {'label': '💯', 'score': 0.00032074761111289263},\n",
              "  {'label': '😘', 'score': 0.0002958104887511581},\n",
              "  {'label': '😂', 'score': 0.0002799351350404322},\n",
              "  {'label': '📷', 'score': 0.0002537788241170347},\n",
              "  {'label': '🔥', 'score': 0.00015925784828141332},\n",
              "  {'label': '💙', 'score': 0.00014424965775106102},\n",
              "  {'label': '🇺🇸', 'score': 0.0001394863211316988},\n",
              "  {'label': '😁', 'score': 0.0001325491612078622},\n",
              "  {'label': '😜', 'score': 0.00012227024126332253},\n",
              "  {'label': '😎', 'score': 0.00011378681665519252},\n",
              "  {'label': '✨', 'score': 8.795715984888375e-05},\n",
              "  {'label': '😉', 'score': 7.686494063818827e-05},\n",
              "  {'label': '📸', 'score': 1.8428454495733604e-05}]]"
            ]
          },
          "metadata": {},
          "execution_count": 6
        }
      ]
    },
    {
      "cell_type": "code",
      "source": [
        "def _method(text):\n",
        "  text = preprocess(text)\n",
        "  output_temp = query_MMiniLM({\n",
        "    \t\"inputs\": text,\n",
        "    })\n",
        "  \n",
        "  output_dict = {d['label']: d['score'] for d in output_temp[0]}\n",
        "  input_list = list(output_dict.items())[:3]\n",
        "\n",
        "  output_dict = {key: value for key, value in input_list}\n",
        "  \n",
        "  return output_dict\n",
        "\n",
        "\n",
        "# greet(\"sun\")\n",
        "\n",
        "interface = gr.Interface(\n",
        "    \n",
        "    fn = _method, \n",
        "    \n",
        "    inputs=gr.Textbox(placeholder=\"Enter sentence here...\"), \n",
        "    outputs=\"label\",\n",
        "    examples=config.EX_LIST,\n",
        "    live = True,\n",
        "    \n",
        "    \n",
        "    title = 'MiniLM Multilingual',\n",
        "    \n",
        "    description=config.description,\n",
        "    article = '',\n",
        "    \n",
        ")\n",
        "list_interface.append(interface)\n",
        "list_title.append('MiniLM Multilingual')"
      ],
      "metadata": {
        "id": "9gghVlxSSg8m"
      },
      "execution_count": null,
      "outputs": []
    },
    {
      "cell_type": "code",
      "source": [],
      "metadata": {
        "id": "cH7V9tAz1oQz"
      },
      "execution_count": null,
      "outputs": []
    },
    {
      "cell_type": "markdown",
      "source": [
        "> ## <a> XLM"
      ],
      "metadata": {
        "id": "l_Kl2IEu1oec"
      }
    },
    {
      "cell_type": "code",
      "source": [
        "\n",
        "API_URL_XLM = \"https://api-inference.huggingface.co/models/Karim-Gamal/XLM-Roberta-finetuned-emojis-IID-Fed\"\n",
        "headers_XLM = {\"Authorization\": \"Bearer ...\"}\n",
        "\n",
        "\n",
        "def query_XLM(payload):\n",
        "    response = requests.post(API_URL_XLM, headers=headers_XLM, json=payload)\n",
        "    return response.json()\n",
        "\n",
        "query_XLM({\t\"inputs\": 'test',})"
      ],
      "metadata": {
        "id": "x1Y_qpGV1oec",
        "outputId": "b9f84ed5-eb1d-4422-fb5d-20f4d1576cf7",
        "colab": {
          "base_uri": "https://localhost:8080/"
        }
      },
      "execution_count": null,
      "outputs": [
        {
          "output_type": "execute_result",
          "data": {
            "text/plain": [
              "[[{'label': '📸', 'score': 0.14300450682640076},\n",
              "  {'label': '😁', 'score': 0.1081695705652237},\n",
              "  {'label': '😂', 'score': 0.1077808290719986},\n",
              "  {'label': '😜', 'score': 0.0848412811756134},\n",
              "  {'label': '😊', 'score': 0.06866148859262466},\n",
              "  {'label': '✨', 'score': 0.06398061662912369},\n",
              "  {'label': '📷', 'score': 0.05450938642024994},\n",
              "  {'label': '😘', 'score': 0.05008932203054428},\n",
              "  {'label': '😉', 'score': 0.048180751502513885},\n",
              "  {'label': '😎', 'score': 0.04495406895875931},\n",
              "  {'label': '💯', 'score': 0.04138924926519394},\n",
              "  {'label': '😍', 'score': 0.040259312838315964},\n",
              "  {'label': '🎄', 'score': 0.03355419635772705},\n",
              "  {'label': '💕', 'score': 0.0321720652282238},\n",
              "  {'label': '🔥', 'score': 0.02816006727516651},\n",
              "  {'label': '🇺🇸', 'score': 0.017735838890075684},\n",
              "  {'label': '❤', 'score': 0.01131824217736721},\n",
              "  {'label': '💜', 'score': 0.009655985981225967},\n",
              "  {'label': '☀', 'score': 0.006549839861690998},\n",
              "  {'label': '💙', 'score': 0.005033344961702824}]]"
            ]
          },
          "metadata": {},
          "execution_count": 8
        }
      ]
    },
    {
      "cell_type": "code",
      "source": [
        "def _method(text):\n",
        "  text = preprocess(text)\n",
        "  output_temp = query_XLM({\n",
        "    \t\"inputs\": text,\n",
        "    })\n",
        "  \n",
        "  output_dict = {d['label']: d['score'] for d in output_temp[0]}\n",
        "  input_list = list(output_dict.items())[:3]\n",
        "\n",
        "  output_dict = {key: value for key, value in input_list}\n",
        "  \n",
        "  return output_dict\n",
        "\n",
        "\n",
        "# greet(\"sun\")\n",
        "\n",
        "interface = gr.Interface(\n",
        "    \n",
        "    fn = _method, \n",
        "    \n",
        "    inputs=gr.Textbox(placeholder=\"Enter sentence here...\"), \n",
        "    outputs=\"label\",\n",
        "    examples=config.EX_LIST,\n",
        "    live = True,\n",
        "    \n",
        "    \n",
        "    title = 'XLM Roberta Multilingual',\n",
        "    \n",
        "    description=config.description,\n",
        "    article = '',\n",
        "    \n",
        ")\n",
        "list_interface.append(interface)\n",
        "list_title.append('XLM Roberta Multilingual')"
      ],
      "metadata": {
        "id": "SfpVatzN1oed"
      },
      "execution_count": null,
      "outputs": []
    },
    {
      "cell_type": "markdown",
      "source": [
        "> ## <a> BERT"
      ],
      "metadata": {
        "id": "uAbk7hRb1pGq"
      }
    },
    {
      "cell_type": "code",
      "source": [
        "\n",
        "API_URL_BERT = \"https://api-inference.huggingface.co/models/Karim-Gamal/BERT-base-finetuned-emojis-IID-Fed\"\n",
        "headers_BERT = {\"Authorization\": \"Bearer ...\"}\n",
        "\n",
        "\n",
        "def query_BERT(payload):\n",
        "    response = requests.post(API_URL_BERT, headers=headers_BERT, json=payload)\n",
        "    return response.json()\n",
        "\n",
        "query_BERT({\t\"inputs\": 'test',})"
      ],
      "metadata": {
        "id": "LVao4PUm1pGr",
        "outputId": "5147036c-ce08-4367-e5e3-60d81c74622c",
        "colab": {
          "base_uri": "https://localhost:8080/"
        }
      },
      "execution_count": null,
      "outputs": [
        {
          "output_type": "execute_result",
          "data": {
            "text/plain": [
              "[[{'label': '☀', 'score': 0.3218150734901428},\n",
              "  {'label': '💯', 'score': 0.09074263274669647},\n",
              "  {'label': '📸', 'score': 0.07463981211185455},\n",
              "  {'label': '😁', 'score': 0.057728055864572525},\n",
              "  {'label': '📷', 'score': 0.04521871730685234},\n",
              "  {'label': '🎄', 'score': 0.044189490377902985},\n",
              "  {'label': '😘', 'score': 0.04364992678165436},\n",
              "  {'label': '💕', 'score': 0.042300086468458176},\n",
              "  {'label': '❤', 'score': 0.0371183343231678},\n",
              "  {'label': '🇺🇸', 'score': 0.035405777394771576},\n",
              "  {'label': '😎', 'score': 0.03444547578692436},\n",
              "  {'label': '😊', 'score': 0.032507918775081635},\n",
              "  {'label': '😜', 'score': 0.028407199308276176},\n",
              "  {'label': '🔥', 'score': 0.0241144560277462},\n",
              "  {'label': '✨', 'score': 0.023666901513934135},\n",
              "  {'label': '😍', 'score': 0.01738640107214451},\n",
              "  {'label': '😂', 'score': 0.014130811206996441},\n",
              "  {'label': '💜', 'score': 0.012842514552175999},\n",
              "  {'label': '😉', 'score': 0.01241939328610897},\n",
              "  {'label': '💙', 'score': 0.007270982954651117}]]"
            ]
          },
          "metadata": {},
          "execution_count": 10
        }
      ]
    },
    {
      "cell_type": "code",
      "source": [
        "def _method(text):\n",
        "  text = preprocess(text)\n",
        "  output_temp = query_BERT({\n",
        "    \t\"inputs\": text,\n",
        "    })\n",
        "  \n",
        "  output_dict = {d['label']: d['score'] for d in output_temp[0]}\n",
        "  input_list = list(output_dict.items())[:3]\n",
        "\n",
        "  output_dict = {key: value for key, value in input_list}\n",
        "  \n",
        "  return output_dict\n",
        "\n",
        "\n",
        "# greet(\"sun\")\n",
        "\n",
        "interface = gr.Interface(\n",
        "    \n",
        "    fn = _method, \n",
        "    \n",
        "    inputs=gr.Textbox(placeholder=\"Enter sentence here...\"), \n",
        "    outputs=\"label\",\n",
        "    examples=config.EX_LIST,\n",
        "    live = True,\n",
        "    \n",
        "    \n",
        "    title = 'BERT Multilingual',\n",
        "    \n",
        "    description=config.description,\n",
        "    article = '',\n",
        "    \n",
        ")\n",
        "list_interface.append(interface)\n",
        "list_title.append('BERT Multilingual')"
      ],
      "metadata": {
        "id": "iWXkV9Fk1pGr"
      },
      "execution_count": null,
      "outputs": []
    },
    {
      "cell_type": "code",
      "source": [],
      "metadata": {
        "id": "_wYaIDnU1puU"
      },
      "execution_count": null,
      "outputs": []
    },
    {
      "cell_type": "markdown",
      "source": [
        "> ## <a> Switch"
      ],
      "metadata": {
        "id": "9AH0yshv1p01"
      }
    },
    {
      "cell_type": "code",
      "source": [
        "\n",
        "API_URL_Switch = \"https://api-inference.huggingface.co/models/Karim-Gamal/switch-base-8-finetuned-SemEval-2018-emojis-IID-Fed\"\n",
        "headers_Switch = {\"Authorization\": \"Bearer ...\"}\n",
        "\n",
        "\n",
        "def query_Switch(payload):\n",
        "    response = requests.post(API_URL_Switch, headers=headers_Switch, json=payload)\n",
        "    return response.json()\n",
        "\n",
        "query_Switch({\t\"inputs\": 'test',})\n"
      ],
      "metadata": {
        "id": "YYiNuWDg1p01",
        "outputId": "d60d0ae2-7b0b-4bbc-a3ba-66fbddda1145",
        "colab": {
          "base_uri": "https://localhost:8080/"
        }
      },
      "execution_count": null,
      "outputs": [
        {
          "output_type": "execute_result",
          "data": {
            "text/plain": [
              "[{'generated_text': 'joy joy joy joy joy joy joy joy joy joy joy joy joy joy joy joy joy joy joy'}]"
            ]
          },
          "metadata": {},
          "execution_count": 12
        }
      ]
    },
    {
      "cell_type": "code",
      "source": [
        "def _method(text):\n",
        "  text = preprocess(text)\n",
        "  output_temp = query_Switch({\n",
        "  \"inputs\": text,\n",
        "  })\n",
        "\n",
        "  text_to_emoji = {'red' : '❤', 'face': '😍', 'joy':'😂', 'love':'💕', 'fire':'🔥', 'smile':'😊', 'sunglasses':'😎', 'sparkle':'✨', 'blue':'💙', 'kiss':'😘', 'camera':'📷', 'USA':'🇺🇸', 'sun':'☀' , 'purple':'💜', 'blink':'😉', 'hundred':'💯', 'beam':'😁', 'tree':'🎄', 'flash':'📸', 'tongue':'😜'}\n",
        "\n",
        "  # Extract the dictionary from the list\n",
        "  d = output_temp[0]\n",
        "\n",
        "  # Extract the text from the 'generated_text' key\n",
        "  text = d['generated_text']\n",
        "\n",
        "  # my_dict = {}\n",
        "  # my_dict[str(text_to_emoji[text.split(' ')[0]])] = 0.99\n",
        "  return text_to_emoji[text.split(' ')[0]]\n",
        "  \n",
        "\n",
        "# greet(\"sun\")\n",
        "\n",
        "interface = gr.Interface(\n",
        "    \n",
        "    fn = _method, \n",
        "    \n",
        "    inputs=gr.Textbox(placeholder=\"Enter sentence here...\"), \n",
        "    outputs=\"text\",\n",
        "    examples=config.EX_LIST,\n",
        "    live = True,\n",
        "    \n",
        "    \n",
        "    title = 'Switch-Base-8',\n",
        "    \n",
        "    description=config.description,\n",
        "    article = '',\n",
        "    \n",
        ")\n",
        "list_interface.append(interface)\n",
        "list_title.append('Switch-Base-8')"
      ],
      "metadata": {
        "id": "lgsal7vD1p02"
      },
      "execution_count": null,
      "outputs": []
    },
    {
      "cell_type": "code",
      "source": [
        "import time\n",
        "# delay of 40 seconds\n",
        "time.sleep(40)"
      ],
      "metadata": {
        "id": "ncuWmEF44RjO"
      },
      "execution_count": null,
      "outputs": []
    },
    {
      "cell_type": "markdown",
      "source": [
        "> ## About us"
      ],
      "metadata": {
        "id": "uvU_71bNUEX2"
      }
    },
    {
      "cell_type": "code",
      "source": [
        "def _method(input_rating):\n",
        "\n",
        "  # tokenizer = AutoTokenizer.from_pretrained(config.CHECKPOINT_BERT)\n",
        "  # model_loaded = torch.load('/content/NEW_MODELS_Imbalance/Bert/g_ex3_bert_multi_fed_data_epoch_2.pt', map_location=torch.device('cpu'))\n",
        "\n",
        "  if input_rating <=2:\n",
        "    return {'🔥': 0.6, '✨': 0.3, '💯': 0.1}\n",
        "\n",
        "  elif input_rating <= 4 and input_rating >2:\n",
        "    return {'✨': 0.6, '😉': 0.3, '💯': 0.1}\n",
        "\n",
        "  elif input_rating >4:\n",
        "    return {'😍': 0.6, '💯': 0.3, '💕': 0.1}\n",
        "\n",
        "  # return test_with_sentance(text , config.model_loaded_bert_multi_NONIID , config.tokenizer_bert)\n",
        "\n",
        "# greet(\"sun\")\n",
        "\n",
        "interface = gr.Interface(\n",
        "    \n",
        "    fn = _method, \n",
        "    \n",
        "    inputs=gr.Slider(1, 5, value=4),\n",
        "    outputs=\"label\",\n",
        "    # examples=config.EX_LIST,\n",
        "    live = True,\n",
        "    \n",
        "    \n",
        "    title = 'About us',\n",
        "    \n",
        "    description='We don\\'t have sad emoji so our rating will always be great. 😂',\n",
        "    \n",
        "    # CSS Source : https://codepen.io/bibiangel199/pen/warevP\n",
        "\n",
        "    article = config.article + '<!-- this is the markup. you can change the details (your own name, your own avatar etc.) but don’t change the basic structure! --> <div class="div_table_"> <table class="table"> <tr> <td><aside class="profile-card"> <div class="mask-shadow"></div> <header> <!-- here’s the avatar --> <a href="https://www.linkedin.com/in/hossam-amer-23b9329b/"> <img src="https://drive.google.com/uc?export=view&id=1-C_UIimeqbofJC_lldC7IQzIOX_OYRSn"> </a> <!-- the username --> <h1 style = " font-size:20px; padding:20px; color:#444;  margin-bottom:5px; " >Dr. Hossam Amer</h1> <!-- and role or location --> <h2 style = "  font-size:14px; color:#acacac; text- margin:0; " >Research Scientist at Microsoft</h2> </header> </aside></td> <td><aside class="profile-card"> <div class="mask-shadow"></div> <header> <!-- here’s the avatar --> <a href="https://www.linkedin.com/in/yuanzhu-chen-3408265/"> <img src="https://drive.google.com/uc?export=view&id=1n5Vld5FJzp1TzTISM_fB69zPHAdfDYQn"> </a> <!-- the username --> <h1 style = " font-size:20px; padding:20px; color:#444;  margin-bottom:5px; " >Dr. Yuanzhu Chen</h1> <!-- and role or location --> <h2 style = "  font-size:14px; color:#acacac; text- margin:0; ">Professor at Queen\'s University</h2> </header> </aside></td> </tr> </table> </div> <div class="div_table_"> <table class="table"> <tr> <td><aside class="profile-card"> <div class="mask-shadow"></div> <header> <!-- here’s the avatar --> <a href="https://www.linkedin.com/in/mohamed-afify-12915b2/"> <img src="https://drive.google.com/uc?export=view&id=1CwILfstP7Nad-B8DgN-swLhaeAeJhw2L"> </a> <!-- the username --> <h1 style = " font-size:20px; padding:20px; color:#444;  margin-bottom:5px; " >Dr. Mohamed Afify</h1> <!-- and role or location --> <h2 style = "  font-size:14px; color:#acacac; text- margin:0; ">Principal Applied Scientist at Microsoft</h2> </header> </aside></td> </tr> </table> </div> <div class="div_table_"> <table class="table"> <tr> <td><aside class="profile-card"> <div class="mask-shadow"></div> <header> <!-- here’s the avatar --> <a href="https://www.linkedin.com/in/abdelrahman-elhamoly/"> <img src="https://drive.google.com/uc?export=view&id=1a9tR4Xd5XSTmx7Dy_WfRHbVCSpbgAoYb"> </a> <!-- the username --> <h1 style = " font-size:20px; padding:20px; color:#444;  margin-bottom:5px; ">Abdelrahman El-Hamoly</h1> <!-- and role or location --> <h2 style = "  font-size:14px; color:#acacac; text- margin:0; " >Master\'s student at Queen\'s University</h2> </header> </aside></td> <td><aside class="profile-card"> <div class="mask-shadow"></div> <header> <!-- here’s the avatar --> <a href="https://www.linkedin.com/in/ahmed-mohamed-gaber-143b25175/"> <img src="https://drive.google.com/uc?export=view&id=1OiGZwhL23PYhIJzQexYvPDFRrgUIprMj"> </a> <!-- the username --> <h1 style = " font-size:20px; padding:20px; color:#444;  margin-bottom:5px; ">Ahmed Gaber</h1> <!-- and role or location --> <h2 style = "  font-size:14px; color:#acacac; text- margin:0; " >Master\'s student at Queen\'s University</h2> </header> </aside></td> <td><aside class="profile-card"> <div class="mask-shadow"></div> <header> <!-- here’s the avatar --> <a href="https://www.linkedin.com/in/karim-gamal-mahmoud/"> <img src="https://drive.google.com/uc?export=view&id=1Lg2RzimITL9y__X2hycBTX10rJ4o87Ax"> </a> <!-- the username --> <h1 style=" font-size:20px; padding:20px; color:#444;  margin-bottom:5px; ">Karim Gamal</h1> <!-- and role or location --> <h2 style = "  font-size:14px; color:#acacac; text- margin:0; " >Master\'s student at Queen\'s University</h2> </header> </aside></td> </tr> </table> </div>',
        "    )\n",
        "list_interface.append(interface)\n",
        "list_title.append('About us')"
      ],
      "metadata": {
        "id": "EhDxH0BcUGEd"
      },
      "execution_count": null,
      "outputs": []
    },
    {
      "cell_type": "code",
      "execution_count": null,
      "metadata": {
        "colab": {
          "base_uri": "https://localhost:8080/",
          "height": 755
        },
        "id": "e200MmBU2aLT",
        "outputId": "5d476121-f538-4b78-f202-dfc79071fc05"
      },
      "outputs": [
        {
          "output_type": "stream",
          "name": "stderr",
          "text": [
            "/usr/local/lib/python3.8/dist-packages/gradio/blocks.py:684: UserWarning: api_name predict already exists, using predict_1\n",
            "  warnings.warn(\n",
            "/usr/local/lib/python3.8/dist-packages/gradio/blocks.py:684: UserWarning: api_name predict already exists, using predict_2\n",
            "  warnings.warn(\n",
            "/usr/local/lib/python3.8/dist-packages/gradio/blocks.py:684: UserWarning: api_name predict already exists, using predict_3\n",
            "  warnings.warn(\n",
            "/usr/local/lib/python3.8/dist-packages/gradio/blocks.py:684: UserWarning: api_name predict already exists, using predict_4\n",
            "  warnings.warn(\n"
          ]
        },
        {
          "output_type": "stream",
          "name": "stdout",
          "text": [
            "Colab notebook detected. To show errors in colab notebook, set debug=True in launch()\n",
            "Note: opening Chrome Inspector may crash demo inside Colab notebooks.\n",
            "\n",
            "To create a public link, set `share=True` in `launch()`.\n"
          ]
        },
        {
          "output_type": "display_data",
          "data": {
            "text/plain": [
              "<IPython.core.display.Javascript object>"
            ],
            "application/javascript": [
              "(async (port, path, width, height, cache, element) => {\n",
              "                        if (!google.colab.kernel.accessAllowed && !cache) {\n",
              "                            return;\n",
              "                        }\n",
              "                        element.appendChild(document.createTextNode(''));\n",
              "                        const url = await google.colab.kernel.proxyPort(port, {cache});\n",
              "\n",
              "                        const external_link = document.createElement('div');\n",
              "                        external_link.innerHTML = `\n",
              "                            <div style=\"font-family: monospace; margin-bottom: 0.5rem\">\n",
              "                                Running on <a href=${new URL(path, url).toString()} target=\"_blank\">\n",
              "                                    https://localhost:${port}${path}\n",
              "                                </a>\n",
              "                            </div>\n",
              "                        `;\n",
              "                        element.appendChild(external_link);\n",
              "\n",
              "                        const iframe = document.createElement('iframe');\n",
              "                        iframe.src = new URL(path, url).toString();\n",
              "                        iframe.height = height;\n",
              "                        iframe.allow = \"autoplay; camera; microphone; clipboard-read; clipboard-write;\"\n",
              "                        iframe.width = width;\n",
              "                        iframe.style.border = 0;\n",
              "                        element.appendChild(iframe);\n",
              "                    })(7860, \"/\", \"100%\", 500, false, window.element)"
            ]
          },
          "metadata": {}
        },
        {
          "output_type": "execute_result",
          "data": {
            "text/plain": []
          },
          "metadata": {},
          "execution_count": 16
        }
      ],
      "source": [
        "demo = gr.TabbedInterface(\n",
        "    list_interface, \n",
        "    list_title,\n",
        "    title='Multilingual Emoji Prediction Using Federated Learning',\n",
        "    css='.gradio-container {color : orange}',)\n",
        "    # css='.gradio-container {background-color: white; color : orange}',)\n",
        "demo.launch()"
      ]
    },
    {
      "cell_type": "code",
      "source": [],
      "metadata": {
        "id": "8LdM28BQp1m3"
      },
      "execution_count": null,
      "outputs": []
    }
  ]
}
