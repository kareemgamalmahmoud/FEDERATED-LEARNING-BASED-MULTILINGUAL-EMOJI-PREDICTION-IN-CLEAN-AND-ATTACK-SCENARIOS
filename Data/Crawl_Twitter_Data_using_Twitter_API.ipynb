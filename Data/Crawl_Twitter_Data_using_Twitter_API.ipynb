{
  "cells": [
    {
      "cell_type": "markdown",
      "source": [
        "# <a>Crawl Twitter Data using Twitter API"
      ],
      "metadata": {
        "id": "KUjMosnuDbZy"
      }
    },
    {
      "cell_type": "markdown",
      "source": [
        "> ![](https://miro.medium.com/max/720/0*8KckBNQgI3o2CU3c)"
      ],
      "metadata": {
        "id": "703D6nSV-M6D"
      }
    },
    {
      "cell_type": "markdown",
      "source": [
        "> Photo by [Benjamin Balázs](https://unsplash.com/@brenkee?utm_source=medium&utm_medium=referral) on [Unsplash](https://unsplash.com/@brenkee?utm_source=medium&utm_medium=referral)"
      ],
      "metadata": {
        "id": "WKkBa6ApAZ0V"
      }
    },
    {
      "cell_type": "markdown",
      "source": [
        "> [![Open In Colab](https://colab.research.google.com/assets/colab-badge.svg)](https://colab.research.google.com/drive/1e8ps24tNfW0h4G3dTIDFN5oBk7Dkba4n?usp=sharing) This NoteBook for data Labeling."
      ],
      "metadata": {
        "id": "4zVEmCAyfKRV"
      }
    },
    {
      "cell_type": "markdown",
      "source": [
        "> ### Install Emoji Package"
      ],
      "metadata": {
        "id": "rN2EYs6b-TIw"
      }
    },
    {
      "cell_type": "code",
      "execution_count": null,
      "metadata": {
        "colab": {
          "base_uri": "https://localhost:8080/"
        },
        "id": "UUpEL1QeVrOG",
        "outputId": "7ab29d45-5e5a-4f64-8cee-a4a8ac959c05"
      },
      "outputs": [
        {
          "output_type": "stream",
          "name": "stdout",
          "text": [
            "Looking in indexes: https://pypi.org/simple, https://us-python.pkg.dev/colab-wheels/public/simple/\n",
            "Collecting emoji\n",
            "  Downloading emoji-2.1.0.tar.gz (216 kB)\n",
            "\u001b[K     |████████████████████████████████| 216 kB 32.2 MB/s \n",
            "\u001b[?25hBuilding wheels for collected packages: emoji\n",
            "  Building wheel for emoji (setup.py) ... \u001b[?25l\u001b[?25hdone\n",
            "  Created wheel for emoji: filename=emoji-2.1.0-py3-none-any.whl size=212392 sha256=f1f56ac0f94305229325d01918bccebf5650f6fcd2ebbfee625c79a898419bee\n",
            "  Stored in directory: /root/.cache/pip/wheels/77/75/99/51c2a119f4cfd3af7b49cc57e4f737bed7e40b348a85d82804\n",
            "Successfully built emoji\n",
            "Installing collected packages: emoji\n",
            "Successfully installed emoji-2.1.0\n"
          ]
        }
      ],
      "source": [
        "# Install Emoji Package Using\n",
        "!pip install emoji"
      ]
    },
    {
      "cell_type": "markdown",
      "source": [
        "> ### Imports"
      ],
      "metadata": {
        "id": "OjoJU6KR-h2z"
      }
    },
    {
      "cell_type": "code",
      "execution_count": null,
      "metadata": {
        "id": "hF6xF6m9VdTs"
      },
      "outputs": [],
      "source": [
        "import emoji\n",
        "import tweepy\n",
        "import csv\n",
        "import pandas as pd\n",
        "import sys"
      ]
    },
    {
      "cell_type": "markdown",
      "source": [
        "> ### Twitter API keys"
      ],
      "metadata": {
        "id": "TaQsGynH-j4g"
      }
    },
    {
      "cell_type": "code",
      "execution_count": null,
      "metadata": {
        "id": "EzyMtxvzVgNP"
      },
      "outputs": [],
      "source": [
        "consumer_key = ''\n",
        "consumer_secret = ''\n",
        "access_token = ''\n",
        "access_token_secret = ''"
      ]
    },
    {
      "cell_type": "code",
      "execution_count": null,
      "metadata": {
        "id": "-raZ6mMVViWx"
      },
      "outputs": [],
      "source": [
        "auth = tweepy.OAuthHandler(consumer_key, consumer_secret)\n",
        "auth.set_access_token(access_token, access_token_secret)\n",
        "api = tweepy.API(auth,wait_on_rate_limit=True,wait_on_rate_limit_notify=True)"
      ]
    },
    {
      "cell_type": "markdown",
      "metadata": {
        "id": "3YRjm0AFIrrl"
      },
      "source": [
        "> ## Crawling method"
      ]
    },
    {
      "cell_type": "markdown",
      "source": [
        "> In this method, we will be able to crawl tweets that contain only one type of emoji, with a maximum of one million tweets.\n",
        "\n",
        "> Note : You just need to change the name of the language according to your need. \n",
        "\n",
        "> `tweepy.Cursor(... ,lang=\"fr\", ...)`\n",
        "\n",
        "> See this [link](https://developer.twitter.com/en/docs/twitter-for-websites/supported-languages)."
      ],
      "metadata": {
        "id": "hE21mUuc_BQA"
      }
    },
    {
      "cell_type": "code",
      "execution_count": null,
      "metadata": {
        "id": "p-GiNr8gNfbc"
      },
      "outputs": [],
      "source": [
        "def crawling(fileName, size):\n",
        "  csvFile = open(fileName + '.csv', 'w')\n",
        "  csvWriter = csv.writer(csvFile)\n",
        "  i = 0\n",
        "\n",
        "  for tweet in tweepy.Cursor(api.search, q= fileName, count=1000, lang=\"fr\", tweet_mode='extended').items(1000000):\n",
        "      \n",
        "      # if len(emoji.distinct_emoji_list(tweet.full_text)) == 1 and ' '+fileName+'' in tweet.full_text: # this one is better because you can get one or more from the same emoji\n",
        "      if len(emoji.distinct_emoji_list(tweet.full_text)) == 1 and ' '+fileName+' ' in tweet.full_text: # this just get only one emoji\n",
        "        print(tweet.id, tweet.full_text, '\\n===============================================',i,'\\n')\n",
        "        i += 1\n",
        "        csvWriter.writerow([tweet.id, tweet.full_text])\n",
        "      \n",
        "      if i == size:\n",
        "        break\n",
        "\n",
        "  print (\"Scraping finished and saved to \"+fileName+\".csv\")\n",
        "  csvFile.close()"
      ]
    },
    {
      "cell_type": "code",
      "execution_count": null,
      "metadata": {
        "colab": {
          "base_uri": "https://localhost:8080/",
          "height": 35
        },
        "id": "ChgpA5ybC-2t",
        "outputId": "26e8ca22-3163-4d16-fe2b-217ac380fc8a"
      },
      "outputs": [
        {
          "data": {
            "application/vnd.google.colaboratory.intrinsic+json": {
              "type": "string"
            },
            "text/plain": [
              "'❤️'"
            ]
          },
          "execution_count": 8,
          "metadata": {},
          "output_type": "execute_result"
        }
      ],
      "source": [
        "Red_heart = '\\u2764\\uFE0F'\n",
        "Red_heart"
      ]
    },
    {
      "cell_type": "code",
      "execution_count": null,
      "metadata": {
        "id": "jp26OCs6Ureo"
      },
      "outputs": [],
      "source": [
        "crawling(Red_heart, 5000)"
      ]
    },
    {
      "cell_type": "code",
      "execution_count": null,
      "metadata": {
        "colab": {
          "base_uri": "https://localhost:8080/",
          "height": 35
        },
        "id": "C1ESLcU4DHLp",
        "outputId": "6f3dfe86-b17c-423c-8f1f-19233fd23aed"
      },
      "outputs": [
        {
          "data": {
            "application/vnd.google.colaboratory.intrinsic+json": {
              "type": "string"
            },
            "text/plain": [
              "'😍'"
            ]
          },
          "execution_count": 12,
          "metadata": {},
          "output_type": "execute_result"
        }
      ],
      "source": [
        "Smiling_face_with_hearteyes = \"\\U0001f60d\"\n",
        "Smiling_face_with_hearteyes"
      ]
    },
    {
      "cell_type": "code",
      "execution_count": null,
      "metadata": {
        "id": "nTx2Sk164oso"
      },
      "outputs": [],
      "source": [
        "crawling(Smiling_face_with_hearteyes, 5000)"
      ]
    },
    {
      "cell_type": "code",
      "execution_count": null,
      "metadata": {
        "colab": {
          "base_uri": "https://localhost:8080/",
          "height": 35
        },
        "id": "C5sjluTGn2j_",
        "outputId": "f1a62a71-c0c0-4193-fc7f-b3e6f0d137b9"
      },
      "outputs": [
        {
          "data": {
            "application/vnd.google.colaboratory.intrinsic+json": {
              "type": "string"
            },
            "text/plain": [
              "'😂'"
            ]
          },
          "execution_count": 14,
          "metadata": {},
          "output_type": "execute_result"
        }
      ],
      "source": [
        "Face_with_tears_of_joy = \"\\U0001F602\"\n",
        "Face_with_tears_of_joy"
      ]
    },
    {
      "cell_type": "code",
      "execution_count": null,
      "metadata": {
        "id": "MQthRXj74pQK"
      },
      "outputs": [],
      "source": [
        "crawling(Face_with_tears_of_joy, 5000)"
      ]
    },
    {
      "cell_type": "code",
      "execution_count": null,
      "metadata": {
        "id": "9PWlnyyFn2V-"
      },
      "outputs": [],
      "source": [
        "Two_hearts = \"\\U0001F495\"\n",
        "Two_hearts"
      ]
    },
    {
      "cell_type": "code",
      "execution_count": null,
      "metadata": {
        "id": "xODEahOF4p65"
      },
      "outputs": [],
      "source": [
        "crawling(Two_hearts, 5000)"
      ]
    },
    {
      "cell_type": "code",
      "execution_count": null,
      "metadata": {
        "id": "73dfXwvfn2QX",
        "colab": {
          "base_uri": "https://localhost:8080/",
          "height": 35
        },
        "outputId": "10fbf668-547f-4069-913f-465afadc2ca7"
      },
      "outputs": [
        {
          "output_type": "execute_result",
          "data": {
            "text/plain": [
              "'🔥'"
            ],
            "application/vnd.google.colaboratory.intrinsic+json": {
              "type": "string"
            }
          },
          "metadata": {},
          "execution_count": 6
        }
      ],
      "source": [
        "Fire = \"\\U0001F525\"\n",
        "Fire"
      ]
    },
    {
      "cell_type": "code",
      "execution_count": null,
      "metadata": {
        "id": "yNux7pit4qZC"
      },
      "outputs": [],
      "source": [
        "crawling(Fire, 5000)"
      ]
    },
    {
      "cell_type": "code",
      "execution_count": null,
      "metadata": {
        "id": "XsMh00SOn2Kf",
        "colab": {
          "base_uri": "https://localhost:8080/",
          "height": 35
        },
        "outputId": "26cbd89c-b8f6-4b0f-a7ff-49d6ca8ad11f"
      },
      "outputs": [
        {
          "output_type": "execute_result",
          "data": {
            "text/plain": [
              "'😊'"
            ],
            "application/vnd.google.colaboratory.intrinsic+json": {
              "type": "string"
            }
          },
          "metadata": {},
          "execution_count": 8
        }
      ],
      "source": [
        "Smiling_face_with_smiling_eyes\t = \"\\U0001F60A\"\n",
        "Smiling_face_with_smiling_eyes"
      ]
    },
    {
      "cell_type": "code",
      "execution_count": null,
      "metadata": {
        "id": "jAjsYnIB4rEC"
      },
      "outputs": [],
      "source": [
        "crawling(Smiling_face_with_smiling_eyes, 5000)"
      ]
    },
    {
      "cell_type": "code",
      "execution_count": null,
      "metadata": {
        "id": "h88bGySLn2EO"
      },
      "outputs": [],
      "source": [
        "Smiling_face_with_sunglasses = \"\\U0001F60E\"\n",
        "Smiling_face_with_sunglasses"
      ]
    },
    {
      "cell_type": "code",
      "execution_count": null,
      "metadata": {
        "id": "Lt_BgGxl4rha"
      },
      "outputs": [],
      "source": [
        "crawling(Smiling_face_with_sunglasses, 5000)"
      ]
    },
    {
      "cell_type": "code",
      "execution_count": null,
      "metadata": {
        "id": "sbIru5akn182",
        "colab": {
          "base_uri": "https://localhost:8080/",
          "height": 35
        },
        "outputId": "73e70a8b-8e6f-4dba-9aa8-9d62b58377f6"
      },
      "outputs": [
        {
          "output_type": "execute_result",
          "data": {
            "text/plain": [
              "'✨'"
            ],
            "application/vnd.google.colaboratory.intrinsic+json": {
              "type": "string"
            }
          },
          "metadata": {},
          "execution_count": 6
        }
      ],
      "source": [
        "Sparkles  = \"\\u2728\"\n",
        "Sparkles"
      ]
    },
    {
      "cell_type": "code",
      "execution_count": null,
      "metadata": {
        "id": "7-JBlLRd4r8C"
      },
      "outputs": [],
      "source": [
        "crawling(Sparkles, 5000)"
      ]
    },
    {
      "cell_type": "code",
      "execution_count": null,
      "metadata": {
        "id": "fetTjqTJn12O"
      },
      "outputs": [],
      "source": [
        "Blue_heart = \"\\U0001F499\"\n",
        "Blue_heart"
      ]
    },
    {
      "cell_type": "code",
      "execution_count": null,
      "metadata": {
        "id": "WO_r27Ie4siF"
      },
      "outputs": [],
      "source": [
        "crawling(Blue_heart, 5000)"
      ]
    },
    {
      "cell_type": "code",
      "execution_count": null,
      "metadata": {
        "id": "MaopvU84n1u2"
      },
      "outputs": [],
      "source": [
        "Face_blowing_a_kiss = \"\\U0001F618\"\n",
        "Face_blowing_a_kiss"
      ]
    },
    {
      "cell_type": "code",
      "execution_count": null,
      "metadata": {
        "id": "fgxhOZWD4tGa"
      },
      "outputs": [],
      "source": [
        "crawling(Face_blowing_a_kiss, 5000)"
      ]
    },
    {
      "cell_type": "code",
      "execution_count": null,
      "metadata": {
        "id": "m2UCY5b4n1lP"
      },
      "outputs": [],
      "source": [
        "Camera = \"\\U0001F4F7\"\n",
        "Camera"
      ]
    },
    {
      "cell_type": "code",
      "execution_count": null,
      "metadata": {
        "id": "mX80_G634tpk"
      },
      "outputs": [],
      "source": [
        "crawling(Camera, 5000)"
      ]
    },
    {
      "cell_type": "code",
      "execution_count": null,
      "metadata": {
        "id": "BwFZv8azn1Ze"
      },
      "outputs": [],
      "source": [
        "United_States = \"\\U0001F1FA\\U0001F1F8\"\n",
        "United_States"
      ]
    },
    {
      "cell_type": "code",
      "execution_count": null,
      "metadata": {
        "id": "Z0QOE0OP4uKK"
      },
      "outputs": [],
      "source": [
        "crawling(United_States, 5000)"
      ]
    },
    {
      "cell_type": "code",
      "execution_count": null,
      "metadata": {
        "id": "KKe7MARmp9w2"
      },
      "outputs": [],
      "source": [
        "Sun = \"\\u2600\\uFE0F\"\n",
        "Sun"
      ]
    },
    {
      "cell_type": "code",
      "execution_count": null,
      "metadata": {
        "colab": {
          "background_save": true
        },
        "id": "Ccreb6j-4uqa"
      },
      "outputs": [],
      "source": [
        "crawling(Sun, 5000)"
      ]
    },
    {
      "cell_type": "code",
      "execution_count": null,
      "metadata": {
        "colab": {
          "background_save": true
        },
        "id": "WbPA-I6cp9t-",
        "outputId": "11d26d1a-b3dc-4307-8e04-50684d321131"
      },
      "outputs": [
        {
          "data": {
            "application/vnd.google.colaboratory.intrinsic+json": {
              "type": "string"
            },
            "text/plain": [
              "'💜'"
            ]
          },
          "execution_count": 15,
          "metadata": {},
          "output_type": "execute_result"
        }
      ],
      "source": [
        "Purple_heart = \"\\U0001F49C\"\n",
        "Purple_heart"
      ]
    },
    {
      "cell_type": "code",
      "execution_count": null,
      "metadata": {
        "colab": {
          "background_save": true
        },
        "id": "kK2tG6un4vSq"
      },
      "outputs": [],
      "source": [
        "crawling(Purple_heart, 5000)"
      ]
    },
    {
      "cell_type": "code",
      "execution_count": null,
      "metadata": {
        "colab": {
          "background_save": true
        },
        "id": "zXoUAdp9skVV",
        "outputId": "14ff9b8b-1088-4663-db5d-d7330c9f0187"
      },
      "outputs": [
        {
          "data": {
            "application/vnd.google.colaboratory.intrinsic+json": {
              "type": "string"
            },
            "text/plain": [
              "'😉'"
            ]
          },
          "execution_count": 17,
          "metadata": {},
          "output_type": "execute_result"
        }
      ],
      "source": [
        "Winking_face = \"\\U0001F609\"\n",
        "Winking_face"
      ]
    },
    {
      "cell_type": "code",
      "execution_count": null,
      "metadata": {
        "colab": {
          "background_save": true
        },
        "id": "l-AJVwhH4v3J"
      },
      "outputs": [],
      "source": [
        "crawling(Winking_face, 5000)"
      ]
    },
    {
      "cell_type": "code",
      "execution_count": null,
      "metadata": {
        "colab": {
          "background_save": true
        },
        "id": "rNOK6X6xp9rr",
        "outputId": "1195db9d-7b74-40b9-a9f0-ba4d48372c28"
      },
      "outputs": [
        {
          "data": {
            "application/vnd.google.colaboratory.intrinsic+json": {
              "type": "string"
            },
            "text/plain": [
              "'💯'"
            ]
          },
          "execution_count": 19,
          "metadata": {},
          "output_type": "execute_result"
        }
      ],
      "source": [
        "Hundred_points = \"\\U0001F4AF\"\n",
        "Hundred_points"
      ]
    },
    {
      "cell_type": "code",
      "execution_count": null,
      "metadata": {
        "colab": {
          "background_save": true
        },
        "id": "IuR_YvAv4wbU"
      },
      "outputs": [],
      "source": [
        "crawling(Hundred_points, 5000)"
      ]
    },
    {
      "cell_type": "code",
      "execution_count": null,
      "metadata": {
        "colab": {
          "background_save": true
        },
        "id": "aylIdUhtskLt",
        "outputId": "373c439e-d3bf-417a-8af2-b37bfb0be4d6"
      },
      "outputs": [
        {
          "data": {
            "application/vnd.google.colaboratory.intrinsic+json": {
              "type": "string"
            },
            "text/plain": [
              "'😁'"
            ]
          },
          "execution_count": 21,
          "metadata": {},
          "output_type": "execute_result"
        }
      ],
      "source": [
        "Beaming_face_with_smiling_eyes = \"\\U0001F601\"\n",
        "Beaming_face_with_smiling_eyes"
      ]
    },
    {
      "cell_type": "code",
      "execution_count": null,
      "metadata": {
        "colab": {
          "background_save": true
        },
        "id": "EcsP8keV4w6j"
      },
      "outputs": [],
      "source": [
        "crawling(Beaming_face_with_smiling_eyes, 5000)"
      ]
    },
    {
      "cell_type": "code",
      "execution_count": null,
      "metadata": {
        "colab": {
          "background_save": true
        },
        "id": "symLKh3zsj89",
        "outputId": "f33eb8cc-ae86-4a7c-aa05-ae20491fe652"
      },
      "outputs": [
        {
          "data": {
            "application/vnd.google.colaboratory.intrinsic+json": {
              "type": "string"
            },
            "text/plain": [
              "'🎄'"
            ]
          },
          "execution_count": 23,
          "metadata": {},
          "output_type": "execute_result"
        }
      ],
      "source": [
        "Christmas_tree = \"\\U0001F384\"\n",
        "Christmas_tree"
      ]
    },
    {
      "cell_type": "code",
      "execution_count": null,
      "metadata": {
        "id": "DgeI_ccA4xm6"
      },
      "outputs": [],
      "source": [
        "crawling(Christmas_tree, 5000)"
      ]
    },
    {
      "cell_type": "code",
      "execution_count": null,
      "metadata": {
        "id": "aVQ8Fn6asjw8"
      },
      "outputs": [],
      "source": [
        "Camera_with_flash = \"\\U0001F4F8\"\n",
        "Camera_with_flash"
      ]
    },
    {
      "cell_type": "code",
      "execution_count": null,
      "metadata": {
        "id": "2HlTdBmN4yOD"
      },
      "outputs": [],
      "source": [
        "crawling(Camera_with_flash, 5000)"
      ]
    },
    {
      "cell_type": "code",
      "execution_count": null,
      "metadata": {
        "id": "LzUMMMiBsjld"
      },
      "outputs": [],
      "source": [
        "Winking_face_with_tongue = \"\\U0001F61C\"\n",
        "Winking_face_with_tongue"
      ]
    },
    {
      "cell_type": "code",
      "execution_count": null,
      "metadata": {
        "id": "nSACFxWc4yvK"
      },
      "outputs": [],
      "source": [
        "crawling(Winking_face_with_tongue, 5000)"
      ]
    }
  ],
  "metadata": {
    "colab": {
      "provenance": []
    },
    "kernelspec": {
      "display_name": "Python 3",
      "name": "python3"
    },
    "language_info": {
      "name": "python"
    }
  },
  "nbformat": 4,
  "nbformat_minor": 0
}