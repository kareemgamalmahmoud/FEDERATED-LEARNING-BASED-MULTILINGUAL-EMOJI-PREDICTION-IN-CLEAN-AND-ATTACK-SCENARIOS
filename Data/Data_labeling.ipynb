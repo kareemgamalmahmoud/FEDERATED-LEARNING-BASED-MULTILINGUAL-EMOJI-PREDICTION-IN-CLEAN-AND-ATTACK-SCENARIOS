{
  "cells": [
    {
      "cell_type": "markdown",
      "metadata": {
        "id": "ECFfu-xpatgV"
      },
      "source": [
        "# <a> In this file we will try to label our data."
      ]
    },
    {
      "cell_type": "markdown",
      "metadata": {
        "id": "703D6nSV-M6D"
      },
      "source": [
        "> ![](https://miro.medium.com/max/720/0*8KckBNQgI3o2CU3c)"
      ]
    },
    {
      "cell_type": "markdown",
      "metadata": {
        "id": "WKkBa6ApAZ0V"
      },
      "source": [
        "> Photo by [Benjamin Balázs](https://unsplash.com/@brenkee?utm_source=medium&utm_medium=referral) on [Unsplash](https://unsplash.com/@brenkee?utm_source=medium&utm_medium=referral)"
      ]
    },
    {
      "cell_type": "markdown",
      "metadata": {
        "id": "KGna2GVB9OVB"
      },
      "source": [
        "> [![Open In Colab](https://colab.research.google.com/assets/colab-badge.svg)](https://colab.research.google.com/drive/1P4EJccWFfDTplNIq-I3SNeE3z-zAxfPL?usp=sharing) This NoteBook for data cleaning.\n",
        "\n",
        "\n",
        "\n"
      ]
    },
    {
      "cell_type": "markdown",
      "metadata": {
        "id": "SB5Kd0LDaZWK"
      },
      "source": [
        "> ### Imports"
      ]
    },
    {
      "cell_type": "code",
      "execution_count": null,
      "metadata": {
        "id": "KefB9sl0AuNP"
      },
      "outputs": [],
      "source": [
        "import numpy as np\n",
        "import pandas as pd\n",
        "import gdown\n",
        "import os\n",
        "from os import listdir\n",
        "from os.path import isfile, join"
      ]
    },
    {
      "cell_type": "markdown",
      "metadata": {
        "id": "DPza5tOqad8A"
      },
      "source": [
        "> ### Download data from google drive."
      ]
    },
    {
      "cell_type": "code",
      "execution_count": null,
      "metadata": {
        "colab": {
          "base_uri": "https://localhost:8080/"
        },
        "id": "ODFBLVU2f1vB",
        "outputId": "bb6f472b-f284-4abf-b95d-eb67b05df490"
      },
      "outputs": [
        {
          "data": {
            "text/plain": [
              "['/content/Hamoly_German/☀.csv',\n",
              " '/content/Hamoly_German/🇺🇸.csv',\n",
              " '/content/Hamoly_German/✨.csv',\n",
              " '/content/Hamoly_German/❤.csv',\n",
              " '/content/Hamoly_German/🎄.csv',\n",
              " '/content/Hamoly_German/💕.csv',\n",
              " '/content/Hamoly_German/💙.csv',\n",
              " '/content/Hamoly_German/💜.csv',\n",
              " '/content/Hamoly_German/💯.csv',\n",
              " '/content/Hamoly_German/📷.csv',\n",
              " '/content/Hamoly_German/📸.csv',\n",
              " '/content/Hamoly_German/🔥.csv',\n",
              " '/content/Hamoly_German/😁.csv',\n",
              " '/content/Hamoly_German/😂.csv',\n",
              " '/content/Hamoly_German/😉.csv',\n",
              " '/content/Hamoly_German/😊.csv',\n",
              " '/content/Hamoly_German/😍.csv',\n",
              " '/content/Hamoly_German/😎.csv',\n",
              " '/content/Hamoly_German/😘.csv',\n",
              " '/content/Hamoly_German/😜.csv']"
            ]
          },
          "execution_count": 2,
          "metadata": {},
          "output_type": "execute_result"
        }
      ],
      "source": [
        "# url = \"https://drive.google.com/drive/folders/1ygauGY9IbaQ-qSovTBYYOy-z_4FJSRl-?usp=sharing\" # eng\n",
        "# url = \"https://drive.google.com/drive/folders/14yJL8oJFAA8wZDzsuvU3tEz7G6JyAzqf?usp=sharing\" # eng\n",
        "# url = \"https://drive.google.com/drive/folders/1PsRBR6r_RNnbQMeb-coRf6xN9Z-zPK8B?usp=sharing\" # es\n",
        "# url = \"https://drive.google.com/drive/folders/12ZsovjwLeaP7VAHYRSoABKhp3aVr7TTU?usp=sharing\" # es\n",
        "# url = \"https://drive.google.com/drive/folders/1zGA-ZedkGObeI4L8X80eiSfdnsyxz2tI?usp=sharing\" # fr\n",
        "# url = \"https://drive.google.com/drive/folders/1LOrsMgTyaFAeIvZ8Xs6g7Muxjk34oRtx?usp=sharing\" # it\n",
        "url = \"https://drive.google.com/drive/folders/1l4PN1fNM5cgwyGqjeDtEhjC8lnT75fR0?usp=sharing\" # german\n",
        "\n",
        "gdown.download_folder(url, quiet=True, use_cookies=False)"
      ]
    },
    {
      "cell_type": "code",
      "execution_count": null,
      "metadata": {
        "id": "9aRwXVyE1Ps_"
      },
      "outputs": [],
      "source": [
        "# import zipfile\n",
        "# with zipfile.ZipFile(\"/content/Uncleaned_it-20221008T182029Z-001.zip\",\"r\") as zip_ref:\n",
        "#     zip_ref.extractall()"
      ]
    },
    {
      "cell_type": "code",
      "execution_count": null,
      "metadata": {
        "id": "UHOR2evGyHR5"
      },
      "outputs": [],
      "source": [
        "emoji_to_idx = {'❤': 0, '😍': 1, '😂': 2, '💕': 3,  '🔥': 4, '😊': 5, '😎': 6, '✨': 7, '💙': 8, '😘': 9, '📷': 10, '🇺🇸': 11, '☀': 12,\\\n",
        "\n",
        "                '💜': 13, '😉': 14,'💯': 15, '😁': 16, '🎄': 17, '📸': 18, '😜': 19}"
      ]
    },
    {
      "cell_type": "code",
      "execution_count": null,
      "metadata": {
        "colab": {
          "base_uri": "https://localhost:8080/",
          "height": 35
        },
        "id": "WhASVTQYuwED",
        "outputId": "258497fa-a87c-4752-9f9b-5391cb941091"
      },
      "outputs": [
        {
          "data": {
            "application/vnd.google.colaboratory.intrinsic+json": {
              "type": "string"
            },
            "text/plain": [
              "'🇺🇸'"
            ]
          },
          "execution_count": 7,
          "metadata": {},
          "output_type": "execute_result"
        }
      ],
      "source": [
        "# xo = '/content/es_DATA/main/🇺🇸.csv'\n",
        "# xo = '/content/Uncleaned_En/🇺🇸.csv'\n",
        "xo = '/content/Hamoly_German/🇺🇸.csv'\n",
        "xo[23:25]"
      ]
    },
    {
      "cell_type": "code",
      "execution_count": null,
      "metadata": {
        "colab": {
          "base_uri": "https://localhost:8080/"
        },
        "id": "BJmfRkLYtgls",
        "outputId": "15164868-8fee-43bf-9858-71e56ae9bf55"
      },
      "outputs": [
        {
          "name": "stdout",
          "output_type": "stream",
          "text": [
            "['/content/Hamoly_German/🔥.csv', '/content/Hamoly_German/😜.csv', '/content/Hamoly_German/☀.csv', '/content/Hamoly_German/😊.csv', '/content/Hamoly_German/✨.csv', '/content/Hamoly_German/🇺🇸.csv', '/content/Hamoly_German/😘.csv', '/content/Hamoly_German/🎄.csv', '/content/Hamoly_German/💕.csv', '/content/Hamoly_German/💜.csv', '/content/Hamoly_German/😍.csv', '/content/Hamoly_German/❤.csv', '/content/Hamoly_German/😁.csv', '/content/Hamoly_German/😉.csv', '/content/Hamoly_German/😎.csv', '/content/Hamoly_German/💯.csv', '/content/Hamoly_German/😂.csv', '/content/Hamoly_German/📷.csv', '/content/Hamoly_German/💙.csv', '/content/Hamoly_German/📸.csv']\n",
            "sd /content/Hamoly_German/🔥.csv\n",
            "sd /content/Hamoly_German/😜.csv\n",
            "sd /content/Hamoly_German/☀.csv\n",
            "sd /content/Hamoly_German/😊.csv\n",
            "sd /content/Hamoly_German/✨.csv\n",
            "sd /content/Hamoly_German/🇺🇸.csv\n",
            "sd /content/Hamoly_German/😘.csv\n",
            "sd /content/Hamoly_German/🎄.csv\n",
            "sd /content/Hamoly_German/💕.csv\n",
            "sd /content/Hamoly_German/💜.csv\n",
            "sd /content/Hamoly_German/😍.csv\n",
            "sd /content/Hamoly_German/❤.csv\n",
            "sd /content/Hamoly_German/😁.csv\n",
            "sd /content/Hamoly_German/😉.csv\n",
            "sd /content/Hamoly_German/😎.csv\n",
            "sd /content/Hamoly_German/💯.csv\n",
            "sd /content/Hamoly_German/😂.csv\n",
            "sd /content/Hamoly_German/📷.csv\n",
            "sd /content/Hamoly_German/💙.csv\n",
            "sd /content/Hamoly_German/📸.csv\n"
          ]
        }
      ],
      "source": [
        "onlyfiles = ['/content/Hamoly_German/' + f for f in listdir('/content/Hamoly_German') if isfile(join('/content/Hamoly_German', f))]\n",
        "print(onlyfiles)\n",
        "for i in onlyfiles: \n",
        "  print('sd' ,i)\n",
        "  df = pd.read_csv(i, header=None, lineterminator='\\n')\n",
        "  df.insert(2, '1', int( emoji_to_idx[ '🇺🇸' if i[23:25] == '🇺🇸' else i[23] ]))\n",
        "  df.to_csv(i,header=False, index=False)\n"
      ]
    },
    {
      "cell_type": "code",
      "execution_count": null,
      "metadata": {
        "id": "VyqVV7GlbTRJ"
      },
      "outputs": [],
      "source": []
    }
  ],
  "metadata": {
    "colab": {
      "provenance": []
    },
    "gpuClass": "standard",
    "kernelspec": {
      "display_name": "Python 3.9.13 64-bit",
      "language": "python",
      "name": "python3"
    },
    "language_info": {
      "codemirror_mode": {
        "name": "ipython",
        "version": 3
      },
      "file_extension": ".py",
      "mimetype": "text/x-python",
      "name": "python",
      "nbconvert_exporter": "python",
      "pygments_lexer": "ipython3",
      "version": "3.9.13"
    },
    "vscode": {
      "interpreter": {
        "hash": "4e7960e88b0decf9e9fb148be570b38b9d4677c430d15e8d68c4159fa566a13e"
      }
    }
  },
  "nbformat": 4,
  "nbformat_minor": 0
}
