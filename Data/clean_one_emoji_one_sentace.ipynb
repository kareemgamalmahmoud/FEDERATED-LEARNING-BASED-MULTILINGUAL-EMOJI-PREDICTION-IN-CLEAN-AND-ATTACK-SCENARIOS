{
  "nbformat": 4,
  "nbformat_minor": 0,
  "metadata": {
    "colab": {
      "provenance": []
    },
    "kernelspec": {
      "name": "python3",
      "display_name": "Python 3"
    },
    "language_info": {
      "name": "python"
    }
  },
  "cells": [
    {
      "cell_type": "markdown",
      "source": [
        "## <a> Data preparation and preprocessing\n"
      ],
      "metadata": {
        "id": "JTtaopfW-fq7"
      }
    },
    {
      "cell_type": "markdown",
      "source": [
        "> ![](https://miro.medium.com/max/720/0*8KckBNQgI3o2CU3c)"
      ],
      "metadata": {
        "id": "703D6nSV-M6D"
      }
    },
    {
      "cell_type": "markdown",
      "source": [
        "> Photo by [Benjamin Balázs](https://unsplash.com/@brenkee?utm_source=medium&utm_medium=referral) on [Unsplash](https://unsplash.com/@brenkee?utm_source=medium&utm_medium=referral)"
      ],
      "metadata": {
        "id": "WKkBa6ApAZ0V"
      }
    },
    {
      "cell_type": "code",
      "source": [
        "!pip install emoji"
      ],
      "metadata": {
        "colab": {
          "base_uri": "https://localhost:8080/"
        },
        "id": "4XA1EJ7uRBVq",
        "outputId": "e0d2f6f0-c6b0-4082-8065-f93880525024"
      },
      "execution_count": null,
      "outputs": [
        {
          "output_type": "stream",
          "name": "stdout",
          "text": [
            "Looking in indexes: https://pypi.org/simple, https://us-python.pkg.dev/colab-wheels/public/simple/\n",
            "Collecting emoji\n",
            "  Downloading emoji-2.2.0.tar.gz (240 kB)\n",
            "\u001b[K     |████████████████████████████████| 240 kB 26.0 MB/s \n",
            "\u001b[?25hBuilding wheels for collected packages: emoji\n",
            "  Building wheel for emoji (setup.py) ... \u001b[?25l\u001b[?25hdone\n",
            "  Created wheel for emoji: filename=emoji-2.2.0-py3-none-any.whl size=234927 sha256=a051f60226a8f1f5106a6d2735c00a72ef8ffa710c16f829cfc936d7788ded5d\n",
            "  Stored in directory: /root/.cache/pip/wheels/f3/e3/f2/1de1c2e3ed742e1df73e0f15d58864e50c7e64f607b548d6cf\n",
            "Successfully built emoji\n",
            "Installing collected packages: emoji\n",
            "Successfully installed emoji-2.2.0\n"
          ]
        }
      ]
    },
    {
      "cell_type": "markdown",
      "metadata": {
        "id": "H0svZ7BMRKao"
      },
      "source": [
        "## <a>Imports "
      ]
    },
    {
      "cell_type": "code",
      "execution_count": null,
      "metadata": {
        "id": "ZbyPhbT4Q8Ep"
      },
      "outputs": [],
      "source": [
        "import re\n",
        "import emoji"
      ]
    },
    {
      "cell_type": "code",
      "source": [
        "import random\n",
        "import pandas as pd\n",
        "import gdown\n",
        "\n",
        "import json\n",
        "import re\n",
        "import string \n",
        "\n",
        "from nltk.corpus import stopwords\n",
        "from nltk.tokenize import word_tokenize\n",
        "\n",
        "from collections import OrderedDict\n",
        "import warnings\n",
        "import numpy as np\n",
        "\n",
        "import matplotlib.pyplot as plt\n",
        "import seaborn as sns\n",
        "\n",
        "import csv\n",
        "import urllib.request\n",
        "\n",
        "import gc"
      ],
      "metadata": {
        "id": "LlUHA9Q0rtkN"
      },
      "execution_count": null,
      "outputs": []
    },
    {
      "cell_type": "code",
      "source": [
        "import numpy as np\n",
        "import pandas as pd\n",
        "import gdown\n",
        "import os\n",
        "from os import listdir\n",
        "from os.path import isfile, join"
      ],
      "metadata": {
        "id": "-MvagsGCNgvn"
      },
      "execution_count": null,
      "outputs": []
    },
    {
      "cell_type": "code",
      "source": [
        "import nltk\n",
        "nltk.download('punkt')\n",
        "nltk.download('stopwords')\n",
        "nltk.download('corpus')"
      ],
      "metadata": {
        "colab": {
          "base_uri": "https://localhost:8080/"
        },
        "id": "sdMT9m0ortDR",
        "outputId": "2df3d8ff-22b8-4798-ff02-88dc215259d1"
      },
      "execution_count": null,
      "outputs": [
        {
          "output_type": "stream",
          "name": "stderr",
          "text": [
            "[nltk_data] Downloading package punkt to /root/nltk_data...\n",
            "[nltk_data]   Unzipping tokenizers/punkt.zip.\n",
            "[nltk_data] Downloading package stopwords to /root/nltk_data...\n",
            "[nltk_data]   Unzipping corpora/stopwords.zip.\n",
            "[nltk_data] Error loading corpus: Package 'corpus' not found in index\n"
          ]
        },
        {
          "output_type": "execute_result",
          "data": {
            "text/plain": [
              "False"
            ]
          },
          "metadata": {},
          "execution_count": 5
        }
      ]
    },
    {
      "cell_type": "markdown",
      "source": [
        "> ### Here we will do some methods that separate each sentence, followed by one emoji from each tweet separately."
      ],
      "metadata": {
        "id": "86eY4vYb_Wyf"
      }
    },
    {
      "cell_type": "code",
      "source": [
        "sent = 'This is a✋😀sentence with emojis:✋😀😆'"
      ],
      "metadata": {
        "id": "Bb9vX9MVgFtI"
      },
      "execution_count": null,
      "outputs": []
    },
    {
      "cell_type": "code",
      "source": [
        "def extract_emojis(s):\n",
        "    emojis = emoji.distinct_emoji_list(s)\n",
        "    return ''.join((' '+c+' ') if c in emojis else c for c in s)"
      ],
      "metadata": {
        "id": "PaLOXJlYgXAb"
      },
      "execution_count": null,
      "outputs": []
    },
    {
      "cell_type": "code",
      "source": [
        "list_1 = []\n",
        "temp = []\n",
        "list_2 = []\n",
        "\n",
        "def method_for_splitting(sent):\n",
        "  sent_with_spaces = extract_emojis(sent)\n",
        "  emojis = emoji.distinct_emoji_list(sent)\n",
        "\n",
        "\n",
        "  for i in sent_with_spaces.split():\n",
        "    temp.append(i)\n",
        "\n",
        "    if i in emojis:\n",
        "      list_1.append(' '.join(temp))\n",
        "      list_2.append(i)\n",
        "      temp.clear() \n",
        "\n",
        "  return list_1, list_2"
      ],
      "metadata": {
        "id": "1zy7U_nnerYN"
      },
      "execution_count": null,
      "outputs": []
    },
    {
      "cell_type": "code",
      "source": [
        "# method_for_splitting(sent)"
      ],
      "metadata": {
        "id": "SPGAwNVRft1g"
      },
      "execution_count": null,
      "outputs": []
    },
    {
      "cell_type": "markdown",
      "source": [
        "> Note that here we are collecting German data ."
      ],
      "metadata": {
        "id": "o8cBFN-zAgxq"
      }
    },
    {
      "cell_type": "code",
      "source": [
        "# url = \"https://drive.google.com/drive/folders/1RoH2DSgR0J_MJ7wwPLinLjliG4Ty9aBl?usp=sharing\"\n",
        "# url = \"https://drive.google.com/drive/folders/1iDadjkfSZDYo2soh5TWiNhYSR4UeP_t0?usp=sharing\" # german\n",
        "# url = \"https://drive.google.com/drive/folders/1SQJw_oZ04yqKQp9cmd1ftUvffC6Z1LIm?usp=sharing\" # en\n",
        "# url = \"https://drive.google.com/drive/folders/1YfigOz2PifnqQIMPa2xlh-QGKWrhgGQv?usp=sharing\" # es\n",
        "# url = \"https://drive.google.com/drive/folders/1C6Xgs7lyjXJHhpHhezaarvk4F_WPACDa?usp=sharing\" # fr\n",
        "url = \"https://drive.google.com/drive/folders/1ovB7HTYtSOyu4DGnRrSmgp5HTUXNE1Tw?usp=sharing\" # it\n",
        "gdown.download_folder(url)"
      ],
      "metadata": {
        "colab": {
          "base_uri": "https://localhost:8080/"
        },
        "id": "pMmv15hIrVVk",
        "outputId": "94137f12-8254-4fc7-be3f-9ef22aec75b0"
      },
      "execution_count": null,
      "outputs": [
        {
          "output_type": "stream",
          "name": "stderr",
          "text": [
            "Retrieving folder list\n"
          ]
        },
        {
          "output_type": "stream",
          "name": "stdout",
          "text": [
            "Processing file 14F-FyVZCgbig3c4uqbtZfn7lt0VYXw7D ☀.csv\n",
            "Processing file 1mltHKooDJ4V602AOP8d2IDKdijiESGEr 🇺🇸.csv\n",
            "Processing file 1r9fm-fuO16dKlv0yT-ykefWHkp04_64W ✨.csv\n",
            "Processing file 1EQr9Jw3Y4gKI4z4RFyJzEQMCZ7Uk4cmJ ❤.csv\n",
            "Processing file 10cSVXKD6I-A4qFV7mvuhcFQX65baf2Ow 🎄.csv\n",
            "Processing file 1qOQvN5m450GwRvSjktAh7A61_1Fy9zeE 💕.csv\n",
            "Processing file 1vCkjSqv7rQdfrVnNf6C5y9s9D1HmwoyU 💙.csv\n",
            "Processing file 1vsWGrF_26l5D5SZTnp3BhN3Taa4pm2U0 💜.csv\n",
            "Processing file 1vNd66WYGSBpbVfV9G1s8wkDoCYhrZlVi 💯.csv\n",
            "Processing file 1RhBccQ1ix3aPsB6uW5LW7cI0yJqKZ-1N 📷.csv\n",
            "Processing file 1mbmMmZa6GV6iJI0IaiA0tMAr1nVKVSkg 📸.csv\n",
            "Processing file 1UFvmpcYNEenPhyQDhN2LEff_cHkXxht6 🔥.csv\n",
            "Processing file 1A5ZxC3aOsNPUhHRHOSs7dbQmAx-DZg27 😁.csv\n",
            "Processing file 1do_aViEUXAXhqtV2elkueCpiaGABV7l- 😂.csv\n",
            "Processing file 1jN4JPKMA9VrbS5wt_oRJa_tyL8RIeMUp 😉.csv\n",
            "Processing file 1c3FhxAB_mpSMWAd_Q8lYvAyJFKGYvxwW 😊.csv\n",
            "Processing file 1axYyGIFdOo_wLGAMBk__NbuKrN7KKBqY 😍.csv\n",
            "Processing file 1yC-90CNBjRkAejdBI7FxqfcTBrXfpr9U 😎.csv\n",
            "Processing file 1RAwps8bECLlEgpfuEfrHVcfInxnjIQVq 😘.csv\n",
            "Processing file 1mX0fJWrNNvkYI6VVU1Lumza0NsFhEdEe 😜.csv\n",
            "Building directory structure completed\n"
          ]
        },
        {
          "output_type": "stream",
          "name": "stderr",
          "text": [
            "Retrieving folder list completed\n",
            "Building directory structure\n",
            "Downloading...\n",
            "From: https://drive.google.com/uc?id=14F-FyVZCgbig3c4uqbtZfn7lt0VYXw7D\n",
            "To: /content/IT/☀.csv\n",
            "100%|██████████| 403k/403k [00:00<00:00, 60.6MB/s]\n",
            "Downloading...\n",
            "From: https://drive.google.com/uc?id=1mltHKooDJ4V602AOP8d2IDKdijiESGEr\n",
            "To: /content/IT/🇺🇸.csv\n",
            "100%|██████████| 672k/672k [00:00<00:00, 61.6MB/s]\n",
            "Downloading...\n",
            "From: https://drive.google.com/uc?id=1r9fm-fuO16dKlv0yT-ykefWHkp04_64W\n",
            "To: /content/IT/✨.csv\n",
            "100%|██████████| 333k/333k [00:00<00:00, 84.0MB/s]\n",
            "Downloading...\n",
            "From: https://drive.google.com/uc?id=1EQr9Jw3Y4gKI4z4RFyJzEQMCZ7Uk4cmJ\n",
            "To: /content/IT/❤.csv\n",
            "100%|██████████| 356k/356k [00:00<00:00, 77.6MB/s]\n",
            "Downloading...\n",
            "From: https://drive.google.com/uc?id=10cSVXKD6I-A4qFV7mvuhcFQX65baf2Ow\n",
            "To: /content/IT/🎄.csv\n",
            "100%|██████████| 211k/211k [00:00<00:00, 73.4MB/s]\n",
            "Downloading...\n",
            "From: https://drive.google.com/uc?id=1qOQvN5m450GwRvSjktAh7A61_1Fy9zeE\n",
            "To: /content/IT/💕.csv\n",
            "100%|██████████| 325k/325k [00:00<00:00, 82.0MB/s]\n",
            "Downloading...\n",
            "From: https://drive.google.com/uc?id=1vCkjSqv7rQdfrVnNf6C5y9s9D1HmwoyU\n",
            "To: /content/IT/💙.csv\n",
            "100%|██████████| 339k/339k [00:00<00:00, 74.1MB/s]\n",
            "Downloading...\n",
            "From: https://drive.google.com/uc?id=1vsWGrF_26l5D5SZTnp3BhN3Taa4pm2U0\n",
            "To: /content/IT/💜.csv\n",
            "100%|██████████| 340k/340k [00:00<00:00, 79.5MB/s]\n",
            "Downloading...\n",
            "From: https://drive.google.com/uc?id=1vNd66WYGSBpbVfV9G1s8wkDoCYhrZlVi\n",
            "To: /content/IT/💯.csv\n",
            "100%|██████████| 335k/335k [00:00<00:00, 77.4MB/s]\n",
            "Downloading...\n",
            "From: https://drive.google.com/uc?id=1RhBccQ1ix3aPsB6uW5LW7cI0yJqKZ-1N\n",
            "To: /content/IT/📷.csv\n",
            "100%|██████████| 317k/317k [00:00<00:00, 80.8MB/s]\n",
            "Downloading...\n",
            "From: https://drive.google.com/uc?id=1mbmMmZa6GV6iJI0IaiA0tMAr1nVKVSkg\n",
            "To: /content/IT/📸.csv\n",
            "100%|██████████| 446k/446k [00:00<00:00, 94.3MB/s]\n",
            "Downloading...\n",
            "From: https://drive.google.com/uc?id=1UFvmpcYNEenPhyQDhN2LEff_cHkXxht6\n",
            "To: /content/IT/🔥.csv\n",
            "100%|██████████| 313k/313k [00:00<00:00, 72.8MB/s]\n",
            "Downloading...\n",
            "From: https://drive.google.com/uc?id=1A5ZxC3aOsNPUhHRHOSs7dbQmAx-DZg27\n",
            "To: /content/IT/😁.csv\n",
            "100%|██████████| 397k/397k [00:00<00:00, 35.4MB/s]\n",
            "Downloading...\n",
            "From: https://drive.google.com/uc?id=1do_aViEUXAXhqtV2elkueCpiaGABV7l-\n",
            "To: /content/IT/😂.csv\n",
            "100%|██████████| 392k/392k [00:00<00:00, 85.4MB/s]\n",
            "Downloading...\n",
            "From: https://drive.google.com/uc?id=1jN4JPKMA9VrbS5wt_oRJa_tyL8RIeMUp\n",
            "To: /content/IT/😉.csv\n",
            "100%|██████████| 491k/491k [00:00<00:00, 83.9MB/s]\n",
            "Downloading...\n",
            "From: https://drive.google.com/uc?id=1c3FhxAB_mpSMWAd_Q8lYvAyJFKGYvxwW\n",
            "To: /content/IT/😊.csv\n",
            "100%|██████████| 393k/393k [00:00<00:00, 53.4MB/s]\n",
            "Downloading...\n",
            "From: https://drive.google.com/uc?id=1axYyGIFdOo_wLGAMBk__NbuKrN7KKBqY\n",
            "To: /content/IT/😍.csv\n",
            "100%|██████████| 273k/273k [00:00<00:00, 85.5MB/s]\n",
            "Downloading...\n",
            "From: https://drive.google.com/uc?id=1yC-90CNBjRkAejdBI7FxqfcTBrXfpr9U\n",
            "To: /content/IT/😎.csv\n",
            "100%|██████████| 385k/385k [00:00<00:00, 88.6MB/s]\n",
            "Downloading...\n",
            "From: https://drive.google.com/uc?id=1RAwps8bECLlEgpfuEfrHVcfInxnjIQVq\n",
            "To: /content/IT/😘.csv\n",
            "100%|██████████| 370k/370k [00:00<00:00, 86.0MB/s]\n",
            "Downloading...\n",
            "From: https://drive.google.com/uc?id=1mX0fJWrNNvkYI6VVU1Lumza0NsFhEdEe\n",
            "To: /content/IT/😜.csv\n",
            "100%|██████████| 401k/401k [00:00<00:00, 84.7MB/s]\n",
            "Download completed\n"
          ]
        },
        {
          "output_type": "execute_result",
          "data": {
            "text/plain": [
              "['/content/IT/☀.csv',\n",
              " '/content/IT/🇺🇸.csv',\n",
              " '/content/IT/✨.csv',\n",
              " '/content/IT/❤.csv',\n",
              " '/content/IT/🎄.csv',\n",
              " '/content/IT/💕.csv',\n",
              " '/content/IT/💙.csv',\n",
              " '/content/IT/💜.csv',\n",
              " '/content/IT/💯.csv',\n",
              " '/content/IT/📷.csv',\n",
              " '/content/IT/📸.csv',\n",
              " '/content/IT/🔥.csv',\n",
              " '/content/IT/😁.csv',\n",
              " '/content/IT/😂.csv',\n",
              " '/content/IT/😉.csv',\n",
              " '/content/IT/😊.csv',\n",
              " '/content/IT/😍.csv',\n",
              " '/content/IT/😎.csv',\n",
              " '/content/IT/😘.csv',\n",
              " '/content/IT/😜.csv']"
            ]
          },
          "metadata": {},
          "execution_count": 10
        }
      ]
    },
    {
      "cell_type": "code",
      "execution_count": null,
      "metadata": {
        "id": "UHOR2evGyHR5"
      },
      "outputs": [],
      "source": [
        "emoji_to_idx = {'❤': 0, '😍': 1, '😂': 2, '💕': 3,  '🔥': 4, '😊': 5, '😎': 6, '✨': 7, '💙': 8, '😘': 9, '📷': 10, '🇺🇸': 11, '☀': 12,\\\n",
        "\n",
        "                '💜': 13, '😉': 14,'💯': 15, '😁': 16, '🎄': 17, '📸': 18, '😜': 19}"
      ]
    },
    {
      "cell_type": "code",
      "execution_count": null,
      "metadata": {
        "colab": {
          "base_uri": "https://localhost:8080/",
          "height": 35
        },
        "id": "WhASVTQYuwED",
        "outputId": "e94c686c-ed7e-4276-fd3f-22b57fd36469"
      },
      "outputs": [
        {
          "output_type": "execute_result",
          "data": {
            "text/plain": [
              "'🇺🇸'"
            ],
            "application/vnd.google.colaboratory.intrinsic+json": {
              "type": "string"
            }
          },
          "metadata": {},
          "execution_count": 14
        }
      ],
      "source": [
        "# xo = '/content/es_DATA/main/🇺🇸.csv'\n",
        "# xo = '/content/Uncleaned_En/🇺🇸.csv'\n",
        "# xo = '/content/Hamoly_German/🇺🇸.csv'\n",
        "xo = '/content/IT/🇺🇸.csv'\n",
        "xo[12:14]"
      ]
    },
    {
      "cell_type": "code",
      "execution_count": null,
      "metadata": {
        "colab": {
          "base_uri": "https://localhost:8080/"
        },
        "id": "BJmfRkLYtgls",
        "outputId": "c2a45ac2-4b06-4ae2-f969-6eea7d3ba107"
      },
      "outputs": [
        {
          "output_type": "stream",
          "name": "stdout",
          "text": [
            "['/content/IT/💜.csv', '/content/IT/🎄.csv', '/content/IT/😎.csv', '/content/IT/😜.csv', '/content/IT/😊.csv', '/content/IT/💯.csv', '/content/IT/🇺🇸.csv', '/content/IT/💕.csv', '/content/IT/✨.csv', '/content/IT/😘.csv', '/content/IT/💙.csv', '/content/IT/😁.csv', '/content/IT/😉.csv', '/content/IT/😍.csv', '/content/IT/❤.csv', '/content/IT/🔥.csv', '/content/IT/😂.csv', '/content/IT/☀.csv', '/content/IT/📷.csv', '/content/IT/📸.csv']\n",
            "sd /content/IT/💜.csv\n",
            "sd /content/IT/🎄.csv\n",
            "sd /content/IT/😎.csv\n",
            "sd /content/IT/😜.csv\n",
            "sd /content/IT/😊.csv\n",
            "sd /content/IT/💯.csv\n",
            "sd /content/IT/🇺🇸.csv\n",
            "sd /content/IT/💕.csv\n",
            "sd /content/IT/✨.csv\n",
            "sd /content/IT/😘.csv\n",
            "sd /content/IT/💙.csv\n",
            "sd /content/IT/😁.csv\n",
            "sd /content/IT/😉.csv\n",
            "sd /content/IT/😍.csv\n",
            "sd /content/IT/❤.csv\n",
            "sd /content/IT/🔥.csv\n",
            "sd /content/IT/😂.csv\n",
            "sd /content/IT/☀.csv\n",
            "sd /content/IT/📷.csv\n",
            "sd /content/IT/📸.csv\n"
          ]
        }
      ],
      "source": [
        "onlyfiles = ['/content/IT/' + f for f in listdir('/content/IT') if isfile(join('/content/IT', f))]\n",
        "print(onlyfiles)\n",
        "for i in onlyfiles: \n",
        "  print('sd' ,i)\n",
        "  df = pd.read_csv(i, header=None, lineterminator='\\n')\n",
        "  df.insert(2, '1', int( emoji_to_idx[ '🇺🇸' if i[12:14] == '🇺🇸' else i[12] ]))\n",
        "  df.to_csv(i,header=False, index=False)\n"
      ]
    },
    {
      "cell_type": "code",
      "source": [
        "# importing libraries\n",
        "import pandas as pd\n",
        "import glob\n",
        "import os\n",
        "  \n",
        "path = r'/content/IT'                     # use your path\n",
        "all_files = glob.glob(os.path.join(path, \"*.csv\"))     # advisable to use os.path.join as this makes concatenation OS independent\n",
        "\n",
        "df_from_each_file = [pd.read_csv(f,lineterminator='\\n' , names=('Tweet', 'Label'), skiprows=1) for f in all_files]\n",
        "concatenated_df   = pd.concat(df_from_each_file, axis=0, ignore_index = True, join='inner')\n",
        "# doesn't create a list, nor does it append to one"
      ],
      "metadata": {
        "id": "2M8ZQ0cLDZw2"
      },
      "execution_count": null,
      "outputs": []
    },
    {
      "cell_type": "code",
      "source": [
        "concatenated_df"
      ],
      "metadata": {
        "colab": {
          "base_uri": "https://localhost:8080/",
          "height": 424
        },
        "id": "HvIMd8KjDr0U",
        "outputId": "29515a21-e079-4f54-f747-e12070b87cf2"
      },
      "execution_count": null,
      "outputs": [
        {
          "output_type": "execute_result",
          "data": {
            "text/plain": [
              "                                                   Tweet  Label\n",
              "0      Ormai le parole sono finite per commentare la ...     13\n",
              "1      Daniele l'unico che non è vestito anni '70 😬\\n...     13\n",
              "2      Stavo pensando ad una partita Juventus-Inter c...     13\n",
              "3            Scenes 💜\\n\\nAlessia Russo\\n\\n@alessiarusso7     13\n",
              "4                                    E cosa sei erniaaaa     13\n",
              "...                                                  ...    ...\n",
              "68524  [GNOSCA] - 📸 #RADAR \\nRadar tra gnosca e gordu...     18\n",
              "68525  [GNOSCA] - 📸 #RADAR \\nRadar tra gnosca e gordu...     18\n",
              "68526  [CITTÀ NON RILEVATA] - 📸 #RADAR \\nRadar a galb...     18\n",
              "68527  Buongiorno e buon venerdì a tutti! 🤩\\n📸 Mauro ...     18\n",
              "68528  [BALERNA] - 📸 #RADAR \\nRadar chicco d’oro balerna     18\n",
              "\n",
              "[68529 rows x 2 columns]"
            ],
            "text/html": [
              "\n",
              "  <div id=\"df-fc206edb-cd76-4fb9-945c-f26d3173d3cd\">\n",
              "    <div class=\"colab-df-container\">\n",
              "      <div>\n",
              "<style scoped>\n",
              "    .dataframe tbody tr th:only-of-type {\n",
              "        vertical-align: middle;\n",
              "    }\n",
              "\n",
              "    .dataframe tbody tr th {\n",
              "        vertical-align: top;\n",
              "    }\n",
              "\n",
              "    .dataframe thead th {\n",
              "        text-align: right;\n",
              "    }\n",
              "</style>\n",
              "<table border=\"1\" class=\"dataframe\">\n",
              "  <thead>\n",
              "    <tr style=\"text-align: right;\">\n",
              "      <th></th>\n",
              "      <th>Tweet</th>\n",
              "      <th>Label</th>\n",
              "    </tr>\n",
              "  </thead>\n",
              "  <tbody>\n",
              "    <tr>\n",
              "      <th>0</th>\n",
              "      <td>Ormai le parole sono finite per commentare la ...</td>\n",
              "      <td>13</td>\n",
              "    </tr>\n",
              "    <tr>\n",
              "      <th>1</th>\n",
              "      <td>Daniele l'unico che non è vestito anni '70 😬\\n...</td>\n",
              "      <td>13</td>\n",
              "    </tr>\n",
              "    <tr>\n",
              "      <th>2</th>\n",
              "      <td>Stavo pensando ad una partita Juventus-Inter c...</td>\n",
              "      <td>13</td>\n",
              "    </tr>\n",
              "    <tr>\n",
              "      <th>3</th>\n",
              "      <td>Scenes 💜\\n\\nAlessia Russo\\n\\n@alessiarusso7</td>\n",
              "      <td>13</td>\n",
              "    </tr>\n",
              "    <tr>\n",
              "      <th>4</th>\n",
              "      <td>E cosa sei erniaaaa</td>\n",
              "      <td>13</td>\n",
              "    </tr>\n",
              "    <tr>\n",
              "      <th>...</th>\n",
              "      <td>...</td>\n",
              "      <td>...</td>\n",
              "    </tr>\n",
              "    <tr>\n",
              "      <th>68524</th>\n",
              "      <td>[GNOSCA] - 📸 #RADAR \\nRadar tra gnosca e gordu...</td>\n",
              "      <td>18</td>\n",
              "    </tr>\n",
              "    <tr>\n",
              "      <th>68525</th>\n",
              "      <td>[GNOSCA] - 📸 #RADAR \\nRadar tra gnosca e gordu...</td>\n",
              "      <td>18</td>\n",
              "    </tr>\n",
              "    <tr>\n",
              "      <th>68526</th>\n",
              "      <td>[CITTÀ NON RILEVATA] - 📸 #RADAR \\nRadar a galb...</td>\n",
              "      <td>18</td>\n",
              "    </tr>\n",
              "    <tr>\n",
              "      <th>68527</th>\n",
              "      <td>Buongiorno e buon venerdì a tutti! 🤩\\n📸 Mauro ...</td>\n",
              "      <td>18</td>\n",
              "    </tr>\n",
              "    <tr>\n",
              "      <th>68528</th>\n",
              "      <td>[BALERNA] - 📸 #RADAR \\nRadar chicco d’oro balerna</td>\n",
              "      <td>18</td>\n",
              "    </tr>\n",
              "  </tbody>\n",
              "</table>\n",
              "<p>68529 rows × 2 columns</p>\n",
              "</div>\n",
              "      <button class=\"colab-df-convert\" onclick=\"convertToInteractive('df-fc206edb-cd76-4fb9-945c-f26d3173d3cd')\"\n",
              "              title=\"Convert this dataframe to an interactive table.\"\n",
              "              style=\"display:none;\">\n",
              "        \n",
              "  <svg xmlns=\"http://www.w3.org/2000/svg\" height=\"24px\"viewBox=\"0 0 24 24\"\n",
              "       width=\"24px\">\n",
              "    <path d=\"M0 0h24v24H0V0z\" fill=\"none\"/>\n",
              "    <path d=\"M18.56 5.44l.94 2.06.94-2.06 2.06-.94-2.06-.94-.94-2.06-.94 2.06-2.06.94zm-11 1L8.5 8.5l.94-2.06 2.06-.94-2.06-.94L8.5 2.5l-.94 2.06-2.06.94zm10 10l.94 2.06.94-2.06 2.06-.94-2.06-.94-.94-2.06-.94 2.06-2.06.94z\"/><path d=\"M17.41 7.96l-1.37-1.37c-.4-.4-.92-.59-1.43-.59-.52 0-1.04.2-1.43.59L10.3 9.45l-7.72 7.72c-.78.78-.78 2.05 0 2.83L4 21.41c.39.39.9.59 1.41.59.51 0 1.02-.2 1.41-.59l7.78-7.78 2.81-2.81c.8-.78.8-2.07 0-2.86zM5.41 20L4 18.59l7.72-7.72 1.47 1.35L5.41 20z\"/>\n",
              "  </svg>\n",
              "      </button>\n",
              "      \n",
              "  <style>\n",
              "    .colab-df-container {\n",
              "      display:flex;\n",
              "      flex-wrap:wrap;\n",
              "      gap: 12px;\n",
              "    }\n",
              "\n",
              "    .colab-df-convert {\n",
              "      background-color: #E8F0FE;\n",
              "      border: none;\n",
              "      border-radius: 50%;\n",
              "      cursor: pointer;\n",
              "      display: none;\n",
              "      fill: #1967D2;\n",
              "      height: 32px;\n",
              "      padding: 0 0 0 0;\n",
              "      width: 32px;\n",
              "    }\n",
              "\n",
              "    .colab-df-convert:hover {\n",
              "      background-color: #E2EBFA;\n",
              "      box-shadow: 0px 1px 2px rgba(60, 64, 67, 0.3), 0px 1px 3px 1px rgba(60, 64, 67, 0.15);\n",
              "      fill: #174EA6;\n",
              "    }\n",
              "\n",
              "    [theme=dark] .colab-df-convert {\n",
              "      background-color: #3B4455;\n",
              "      fill: #D2E3FC;\n",
              "    }\n",
              "\n",
              "    [theme=dark] .colab-df-convert:hover {\n",
              "      background-color: #434B5C;\n",
              "      box-shadow: 0px 1px 3px 1px rgba(0, 0, 0, 0.15);\n",
              "      filter: drop-shadow(0px 1px 2px rgba(0, 0, 0, 0.3));\n",
              "      fill: #FFFFFF;\n",
              "    }\n",
              "  </style>\n",
              "\n",
              "      <script>\n",
              "        const buttonEl =\n",
              "          document.querySelector('#df-fc206edb-cd76-4fb9-945c-f26d3173d3cd button.colab-df-convert');\n",
              "        buttonEl.style.display =\n",
              "          google.colab.kernel.accessAllowed ? 'block' : 'none';\n",
              "\n",
              "        async function convertToInteractive(key) {\n",
              "          const element = document.querySelector('#df-fc206edb-cd76-4fb9-945c-f26d3173d3cd');\n",
              "          const dataTable =\n",
              "            await google.colab.kernel.invokeFunction('convertToInteractive',\n",
              "                                                     [key], {});\n",
              "          if (!dataTable) return;\n",
              "\n",
              "          const docLinkHtml = 'Like what you see? Visit the ' +\n",
              "            '<a target=\"_blank\" href=https://colab.research.google.com/notebooks/data_table.ipynb>data table notebook</a>'\n",
              "            + ' to learn more about interactive tables.';\n",
              "          element.innerHTML = '';\n",
              "          dataTable['output_type'] = 'display_data';\n",
              "          await google.colab.output.renderOutput(dataTable, element);\n",
              "          const docLink = document.createElement('div');\n",
              "          docLink.innerHTML = docLinkHtml;\n",
              "          element.appendChild(docLink);\n",
              "        }\n",
              "      </script>\n",
              "    </div>\n",
              "  </div>\n",
              "  "
            ]
          },
          "metadata": {},
          "execution_count": 17
        }
      ]
    },
    {
      "cell_type": "code",
      "source": [
        "# Save dataframe as csv file in the current folder\n",
        "concatenated_df.to_csv('test_it_68K.csv', index = False,)"
      ],
      "metadata": {
        "id": "WBmf0jKeRa6T"
      },
      "execution_count": null,
      "outputs": []
    },
    {
      "cell_type": "code",
      "source": [
        "#read the CSV file\n",
        "# data_file1 = pd.read_csv('/content/drive/MyDrive/Federated sys PJ/DATA/one_type_of_emoji/folders_for_fun/140K_dataSet.csv',names = ['Tweet' , 'Label'])\n",
        "# data_file1 = pd.read_csv('/content/drive/MyDrive/Federated sys PJ/outDoor_Dataset/Karim_95K_es.csv')\n",
        "# data_file2 = pd.read_csv('/content/drive/MyDrive/Federated sys PJ/outDoor_Dataset/Karim_140K_es.csv')\n",
        "# data_file3 = pd.read_csv('/content/drive/MyDrive/Federated sys PJ/outDoor_Dataset/Karim_133K_fr.csv')\n",
        "# data_file4 = pd.read_csv('/content/outDoor_Dataset/org_and_us14_us20.csv')\n",
        "# data_file5 = pd.read_csv('/content/outDoor_Dataset/us_14_class_without_lang_type.csv')\n",
        "# data_file6 = pd.read_csv('/content/outDoor_Dataset/us_20_class_without_lang_type.csv')\n",
        "# data_file7 = pd.read_csv('/content/outDoor_Dataset/us_data_hamoly_250K.csv')\n",
        "# data_file = pd.read_csv('/content/test_en_70K.csv',lineterminator='\\n')\n",
        "data_file = pd.read_csv('/content/test_it_68K.csv',lineterminator='\\n')\n",
        "# data_file\n",
        "# data_file['Tweet'][5]"
      ],
      "metadata": {
        "id": "V-Y4Po1GrvQj"
      },
      "execution_count": null,
      "outputs": []
    },
    {
      "cell_type": "code",
      "source": [
        "data_file['Tweet'][150]\n",
        "# data_file1\n",
        "# data_file2\n",
        "# data_file3\n",
        "# data_file4\n",
        "# data_file5\n",
        "# data_file6\n",
        "# data_file7"
      ],
      "metadata": {
        "id": "hVlPQB5owCk0",
        "colab": {
          "base_uri": "https://localhost:8080/",
          "height": 35
        },
        "outputId": "e843913a-f0d8-48fe-9e2c-993305892463"
      },
      "execution_count": null,
      "outputs": [
        {
          "output_type": "execute_result",
          "data": {
            "text/plain": [
              "'Italiani che lavorano con jungkook no raga non c’è la faccio'"
            ],
            "application/vnd.google.colaboratory.intrinsic+json": {
              "type": "string"
            }
          },
          "metadata": {},
          "execution_count": 20
        }
      ]
    },
    {
      "cell_type": "code",
      "source": [
        "# df_list =  [data_file1['Tweet'] ,data_file2['Tweet'] ,data_file3['Tweet'] ,data_file4['Tweet'] ,data_file5['Tweet'] ,data_file6['Tweet'] ,data_file7['Tweet']]\n",
        "df_list =  [concatenated_df['Tweet']]"
      ],
      "metadata": {
        "id": "VUgStmeDsFb5"
      },
      "execution_count": null,
      "outputs": []
    },
    {
      "cell_type": "code",
      "source": [
        "df = pd.concat(df_list, axis=0)"
      ],
      "metadata": {
        "id": "d-A8gq3cvtgd"
      },
      "execution_count": null,
      "outputs": []
    },
    {
      "cell_type": "code",
      "source": [
        "df = pd.DataFrame(df)"
      ],
      "metadata": {
        "id": "SFGuGKItwpYI"
      },
      "execution_count": null,
      "outputs": []
    },
    {
      "cell_type": "code",
      "source": [
        "# df=data_file1\n",
        "df"
      ],
      "metadata": {
        "colab": {
          "base_uri": "https://localhost:8080/",
          "height": 424
        },
        "id": "v_ebhJCcwqO5",
        "outputId": "052b6aa0-9be3-43d5-900a-07061fe57a64"
      },
      "execution_count": null,
      "outputs": [
        {
          "output_type": "execute_result",
          "data": {
            "text/plain": [
              "                                                   Tweet\n",
              "0      Ormai le parole sono finite per commentare la ...\n",
              "1      Daniele l'unico che non è vestito anni '70 😬\\n...\n",
              "2      Stavo pensando ad una partita Juventus-Inter c...\n",
              "3            Scenes 💜\\n\\nAlessia Russo\\n\\n@alessiarusso7\n",
              "4                                    E cosa sei erniaaaa\n",
              "...                                                  ...\n",
              "68524  [GNOSCA] - 📸 #RADAR \\nRadar tra gnosca e gordu...\n",
              "68525  [GNOSCA] - 📸 #RADAR \\nRadar tra gnosca e gordu...\n",
              "68526  [CITTÀ NON RILEVATA] - 📸 #RADAR \\nRadar a galb...\n",
              "68527  Buongiorno e buon venerdì a tutti! 🤩\\n📸 Mauro ...\n",
              "68528  [BALERNA] - 📸 #RADAR \\nRadar chicco d’oro balerna\n",
              "\n",
              "[68529 rows x 1 columns]"
            ],
            "text/html": [
              "\n",
              "  <div id=\"df-7092cf75-f5d0-41c8-bc0b-009d913840f8\">\n",
              "    <div class=\"colab-df-container\">\n",
              "      <div>\n",
              "<style scoped>\n",
              "    .dataframe tbody tr th:only-of-type {\n",
              "        vertical-align: middle;\n",
              "    }\n",
              "\n",
              "    .dataframe tbody tr th {\n",
              "        vertical-align: top;\n",
              "    }\n",
              "\n",
              "    .dataframe thead th {\n",
              "        text-align: right;\n",
              "    }\n",
              "</style>\n",
              "<table border=\"1\" class=\"dataframe\">\n",
              "  <thead>\n",
              "    <tr style=\"text-align: right;\">\n",
              "      <th></th>\n",
              "      <th>Tweet</th>\n",
              "    </tr>\n",
              "  </thead>\n",
              "  <tbody>\n",
              "    <tr>\n",
              "      <th>0</th>\n",
              "      <td>Ormai le parole sono finite per commentare la ...</td>\n",
              "    </tr>\n",
              "    <tr>\n",
              "      <th>1</th>\n",
              "      <td>Daniele l'unico che non è vestito anni '70 😬\\n...</td>\n",
              "    </tr>\n",
              "    <tr>\n",
              "      <th>2</th>\n",
              "      <td>Stavo pensando ad una partita Juventus-Inter c...</td>\n",
              "    </tr>\n",
              "    <tr>\n",
              "      <th>3</th>\n",
              "      <td>Scenes 💜\\n\\nAlessia Russo\\n\\n@alessiarusso7</td>\n",
              "    </tr>\n",
              "    <tr>\n",
              "      <th>4</th>\n",
              "      <td>E cosa sei erniaaaa</td>\n",
              "    </tr>\n",
              "    <tr>\n",
              "      <th>...</th>\n",
              "      <td>...</td>\n",
              "    </tr>\n",
              "    <tr>\n",
              "      <th>68524</th>\n",
              "      <td>[GNOSCA] - 📸 #RADAR \\nRadar tra gnosca e gordu...</td>\n",
              "    </tr>\n",
              "    <tr>\n",
              "      <th>68525</th>\n",
              "      <td>[GNOSCA] - 📸 #RADAR \\nRadar tra gnosca e gordu...</td>\n",
              "    </tr>\n",
              "    <tr>\n",
              "      <th>68526</th>\n",
              "      <td>[CITTÀ NON RILEVATA] - 📸 #RADAR \\nRadar a galb...</td>\n",
              "    </tr>\n",
              "    <tr>\n",
              "      <th>68527</th>\n",
              "      <td>Buongiorno e buon venerdì a tutti! 🤩\\n📸 Mauro ...</td>\n",
              "    </tr>\n",
              "    <tr>\n",
              "      <th>68528</th>\n",
              "      <td>[BALERNA] - 📸 #RADAR \\nRadar chicco d’oro balerna</td>\n",
              "    </tr>\n",
              "  </tbody>\n",
              "</table>\n",
              "<p>68529 rows × 1 columns</p>\n",
              "</div>\n",
              "      <button class=\"colab-df-convert\" onclick=\"convertToInteractive('df-7092cf75-f5d0-41c8-bc0b-009d913840f8')\"\n",
              "              title=\"Convert this dataframe to an interactive table.\"\n",
              "              style=\"display:none;\">\n",
              "        \n",
              "  <svg xmlns=\"http://www.w3.org/2000/svg\" height=\"24px\"viewBox=\"0 0 24 24\"\n",
              "       width=\"24px\">\n",
              "    <path d=\"M0 0h24v24H0V0z\" fill=\"none\"/>\n",
              "    <path d=\"M18.56 5.44l.94 2.06.94-2.06 2.06-.94-2.06-.94-.94-2.06-.94 2.06-2.06.94zm-11 1L8.5 8.5l.94-2.06 2.06-.94-2.06-.94L8.5 2.5l-.94 2.06-2.06.94zm10 10l.94 2.06.94-2.06 2.06-.94-2.06-.94-.94-2.06-.94 2.06-2.06.94z\"/><path d=\"M17.41 7.96l-1.37-1.37c-.4-.4-.92-.59-1.43-.59-.52 0-1.04.2-1.43.59L10.3 9.45l-7.72 7.72c-.78.78-.78 2.05 0 2.83L4 21.41c.39.39.9.59 1.41.59.51 0 1.02-.2 1.41-.59l7.78-7.78 2.81-2.81c.8-.78.8-2.07 0-2.86zM5.41 20L4 18.59l7.72-7.72 1.47 1.35L5.41 20z\"/>\n",
              "  </svg>\n",
              "      </button>\n",
              "      \n",
              "  <style>\n",
              "    .colab-df-container {\n",
              "      display:flex;\n",
              "      flex-wrap:wrap;\n",
              "      gap: 12px;\n",
              "    }\n",
              "\n",
              "    .colab-df-convert {\n",
              "      background-color: #E8F0FE;\n",
              "      border: none;\n",
              "      border-radius: 50%;\n",
              "      cursor: pointer;\n",
              "      display: none;\n",
              "      fill: #1967D2;\n",
              "      height: 32px;\n",
              "      padding: 0 0 0 0;\n",
              "      width: 32px;\n",
              "    }\n",
              "\n",
              "    .colab-df-convert:hover {\n",
              "      background-color: #E2EBFA;\n",
              "      box-shadow: 0px 1px 2px rgba(60, 64, 67, 0.3), 0px 1px 3px 1px rgba(60, 64, 67, 0.15);\n",
              "      fill: #174EA6;\n",
              "    }\n",
              "\n",
              "    [theme=dark] .colab-df-convert {\n",
              "      background-color: #3B4455;\n",
              "      fill: #D2E3FC;\n",
              "    }\n",
              "\n",
              "    [theme=dark] .colab-df-convert:hover {\n",
              "      background-color: #434B5C;\n",
              "      box-shadow: 0px 1px 3px 1px rgba(0, 0, 0, 0.15);\n",
              "      filter: drop-shadow(0px 1px 2px rgba(0, 0, 0, 0.3));\n",
              "      fill: #FFFFFF;\n",
              "    }\n",
              "  </style>\n",
              "\n",
              "      <script>\n",
              "        const buttonEl =\n",
              "          document.querySelector('#df-7092cf75-f5d0-41c8-bc0b-009d913840f8 button.colab-df-convert');\n",
              "        buttonEl.style.display =\n",
              "          google.colab.kernel.accessAllowed ? 'block' : 'none';\n",
              "\n",
              "        async function convertToInteractive(key) {\n",
              "          const element = document.querySelector('#df-7092cf75-f5d0-41c8-bc0b-009d913840f8');\n",
              "          const dataTable =\n",
              "            await google.colab.kernel.invokeFunction('convertToInteractive',\n",
              "                                                     [key], {});\n",
              "          if (!dataTable) return;\n",
              "\n",
              "          const docLinkHtml = 'Like what you see? Visit the ' +\n",
              "            '<a target=\"_blank\" href=https://colab.research.google.com/notebooks/data_table.ipynb>data table notebook</a>'\n",
              "            + ' to learn more about interactive tables.';\n",
              "          element.innerHTML = '';\n",
              "          dataTable['output_type'] = 'display_data';\n",
              "          await google.colab.output.renderOutput(dataTable, element);\n",
              "          const docLink = document.createElement('div');\n",
              "          docLink.innerHTML = docLinkHtml;\n",
              "          element.appendChild(docLink);\n",
              "        }\n",
              "      </script>\n",
              "    </div>\n",
              "  </div>\n",
              "  "
            ]
          },
          "metadata": {},
          "execution_count": 24
        }
      ]
    },
    {
      "cell_type": "code",
      "source": [
        "df['Tweet'].replace('', np.nan, inplace=True)"
      ],
      "metadata": {
        "id": "oDSS-ANExXae"
      },
      "execution_count": null,
      "outputs": []
    },
    {
      "cell_type": "code",
      "source": [
        "df.isnull().sum()"
      ],
      "metadata": {
        "colab": {
          "base_uri": "https://localhost:8080/"
        },
        "id": "lF2C1JEdxLIP",
        "outputId": "98fc2f0c-1223-4955-8d07-533b504b12ad"
      },
      "execution_count": null,
      "outputs": [
        {
          "output_type": "execute_result",
          "data": {
            "text/plain": [
              "Tweet    0\n",
              "dtype: int64"
            ]
          },
          "metadata": {},
          "execution_count": 26
        }
      ]
    },
    {
      "cell_type": "code",
      "source": [
        "df = df.dropna()\n",
        "df.isnull().sum()"
      ],
      "metadata": {
        "colab": {
          "base_uri": "https://localhost:8080/"
        },
        "id": "p7KjehD5xWVj",
        "outputId": "ca4385ac-6fc1-4d31-e043-734f2d637537"
      },
      "execution_count": null,
      "outputs": [
        {
          "output_type": "execute_result",
          "data": {
            "text/plain": [
              "Tweet    0\n",
              "dtype: int64"
            ]
          },
          "metadata": {},
          "execution_count": 27
        }
      ]
    },
    {
      "cell_type": "code",
      "source": [
        "# check if any duplicates in the column 'Tweet'\n",
        "print(df.duplicated('Tweet').sum())"
      ],
      "metadata": {
        "colab": {
          "base_uri": "https://localhost:8080/"
        },
        "id": "v4Sl2Sy_xgcv",
        "outputId": "56934bae-efe8-4964-f06a-85f1a7ea7764"
      },
      "execution_count": null,
      "outputs": [
        {
          "output_type": "stream",
          "name": "stdout",
          "text": [
            "2004\n"
          ]
        }
      ]
    },
    {
      "cell_type": "code",
      "source": [
        "df = df.drop_duplicates('Tweet')"
      ],
      "metadata": {
        "id": "OXh6AclQxllf"
      },
      "execution_count": null,
      "outputs": []
    },
    {
      "cell_type": "code",
      "source": [
        "# check if any duplicates in the column 'Tweet'\n",
        "print(df.duplicated('Tweet').sum())"
      ],
      "metadata": {
        "colab": {
          "base_uri": "https://localhost:8080/"
        },
        "id": "ym-TU1PkxmxV",
        "outputId": "a1e49adb-7ed9-4b7f-a110-e2dd2eb25fff"
      },
      "execution_count": null,
      "outputs": [
        {
          "output_type": "stream",
          "name": "stdout",
          "text": [
            "0\n"
          ]
        }
      ]
    },
    {
      "cell_type": "code",
      "source": [
        "# df\n",
        "df['Tweet']"
      ],
      "metadata": {
        "colab": {
          "base_uri": "https://localhost:8080/"
        },
        "id": "9GbF-fx2xxWy",
        "outputId": "85d67a38-3039-465b-e152-040919ad7eb5"
      },
      "execution_count": null,
      "outputs": [
        {
          "output_type": "execute_result",
          "data": {
            "text/plain": [
              "0        Ormai le parole sono finite per commentare la ...\n",
              "1        Daniele l'unico che non è vestito anni '70 😬\\n...\n",
              "2        Stavo pensando ad una partita Juventus-Inter c...\n",
              "3              Scenes 💜\\n\\nAlessia Russo\\n\\n@alessiarusso7\n",
              "4                                      E cosa sei erniaaaa\n",
              "                               ...                        \n",
              "68524    [GNOSCA] - 📸 #RADAR \\nRadar tra gnosca e gordu...\n",
              "68525    [GNOSCA] - 📸 #RADAR \\nRadar tra gnosca e gordu...\n",
              "68526    [CITTÀ NON RILEVATA] - 📸 #RADAR \\nRadar a galb...\n",
              "68527    Buongiorno e buon venerdì a tutti! 🤩\\n📸 Mauro ...\n",
              "68528    [BALERNA] - 📸 #RADAR \\nRadar chicco d’oro balerna\n",
              "Name: Tweet, Length: 66525, dtype: object"
            ]
          },
          "metadata": {},
          "execution_count": 31
        }
      ]
    },
    {
      "cell_type": "code",
      "source": [
        "# df['Tweet'].apply(method_for_splitting)\n",
        "for record_ in df['Tweet'][:]:\n",
        "  # print(record_)\n",
        "  method_for_splitting(record_)\n"
      ],
      "metadata": {
        "id": "RxJsQgpGxx8x"
      },
      "execution_count": null,
      "outputs": []
    },
    {
      "cell_type": "code",
      "source": [
        "len(list_1)"
      ],
      "metadata": {
        "colab": {
          "base_uri": "https://localhost:8080/"
        },
        "id": "Yuu-jGx7y_NO",
        "outputId": "86c55418-30da-4c9d-85ef-372eaafa272a"
      },
      "execution_count": null,
      "outputs": [
        {
          "output_type": "execute_result",
          "data": {
            "text/plain": [
              "123654"
            ]
          },
          "metadata": {},
          "execution_count": 33
        }
      ]
    },
    {
      "cell_type": "code",
      "source": [
        "len(list_2)"
      ],
      "metadata": {
        "colab": {
          "base_uri": "https://localhost:8080/"
        },
        "id": "LruhrfaqzfIh",
        "outputId": "9a29342e-35cd-4897-86fe-9d57679b6741"
      },
      "execution_count": null,
      "outputs": [
        {
          "output_type": "execute_result",
          "data": {
            "text/plain": [
              "123654"
            ]
          },
          "metadata": {},
          "execution_count": 34
        }
      ]
    },
    {
      "cell_type": "code",
      "source": [
        "# list_2.unique()\n",
        "my_list = list(set(list_2))\n",
        "# len(my_list)\n",
        "my_list"
      ],
      "metadata": {
        "id": "z5MRm3x-bL68",
        "colab": {
          "base_uri": "https://localhost:8080/"
        },
        "outputId": "0f73a398-b1a3-4ae4-daa3-ca6d12885adb"
      },
      "execution_count": null,
      "outputs": [
        {
          "output_type": "execute_result",
          "data": {
            "text/plain": [
              "['😬',\n",
              " '▪',\n",
              " '🐆',\n",
              " '🎹',\n",
              " '🙏🏾',\n",
              " '🧂',\n",
              " '🤴',\n",
              " '🇵🇪',\n",
              " '🤷🏻\\u200d♂️',\n",
              " '🇹🇿',\n",
              " '\\U0001faf6🏾',\n",
              " '🏝️',\n",
              " '\\U0001f9cd🏾\\u200d♀️',\n",
              " '🥤',\n",
              " '🇦🇩',\n",
              " '🍓',\n",
              " '🖱',\n",
              " '9⃣',\n",
              " '🎸',\n",
              " '🖐🏻',\n",
              " '🤝',\n",
              " '👡',\n",
              " '🧲',\n",
              " '👼🏽',\n",
              " '👊🏻',\n",
              " '🍂',\n",
              " '🍰',\n",
              " '🦛',\n",
              " '✍',\n",
              " '🤦',\n",
              " '🥭',\n",
              " '🥘',\n",
              " '🇺🇲',\n",
              " '🚶\\u200d♂️',\n",
              " '\\U0001f9ae',\n",
              " '\\U0001f90d',\n",
              " '🍳',\n",
              " '🍾',\n",
              " '🔣',\n",
              " '😫',\n",
              " '✨',\n",
              " '🎂',\n",
              " '🏃🏼',\n",
              " '🥁',\n",
              " '📨',\n",
              " '🙂',\n",
              " '🏜',\n",
              " '🇫🇷',\n",
              " '🏴\\u200d☠️',\n",
              " '♻️',\n",
              " '💳',\n",
              " '🚶🏻\\u200d♀️',\n",
              " '🧑🏻\\u200d🔧',\n",
              " '♊',\n",
              " '\\U0001fa93',\n",
              " '✊🏻',\n",
              " '🏇',\n",
              " '👩🏼\\u200d🌾',\n",
              " '👸',\n",
              " '🥩',\n",
              " '🧚🏾\\u200d♀️',\n",
              " '💖',\n",
              " '🐕',\n",
              " '🤚🏻',\n",
              " 'ℹ️',\n",
              " '🕸️',\n",
              " '🏋️\\u200d♀️',\n",
              " '🤦🏻\\u200d♂️',\n",
              " '🌁',\n",
              " '🇺🇦',\n",
              " '👑',\n",
              " '\\U0001fa74',\n",
              " '⬆',\n",
              " '🚴',\n",
              " '🇭🇺',\n",
              " '🧰',\n",
              " '👍🏽',\n",
              " '🙏🏿',\n",
              " '👆',\n",
              " '⏬',\n",
              " '🖼',\n",
              " '💁🏼\\u200d♂️',\n",
              " '🙃',\n",
              " '▫',\n",
              " '🚁',\n",
              " '🐺',\n",
              " '📏',\n",
              " '🤷',\n",
              " '🦠',\n",
              " '🦎',\n",
              " '🎖',\n",
              " '🧷',\n",
              " '🛍',\n",
              " '🧓',\n",
              " '🥌',\n",
              " '🇮🇶',\n",
              " '🇺🇳',\n",
              " '\\U0001fae7',\n",
              " '🏎',\n",
              " '🙌🏿',\n",
              " '🇧🇦',\n",
              " '👵🏻',\n",
              " '🍅',\n",
              " '☔',\n",
              " '🙀',\n",
              " '🦍',\n",
              " '2️⃣',\n",
              " '🗿',\n",
              " '🏖',\n",
              " '🇻🇳',\n",
              " '☸',\n",
              " '⭐',\n",
              " '🥣',\n",
              " '🛋',\n",
              " '🦄',\n",
              " '⛑️',\n",
              " '⁉️',\n",
              " '🌐',\n",
              " '\\U0001fac2',\n",
              " '🦶🏼',\n",
              " '❔',\n",
              " '⛺',\n",
              " '\\U0001faa2',\n",
              " '🇼🇸',\n",
              " '🤦🏻',\n",
              " '💅',\n",
              " '🤺',\n",
              " '💁🏼\\u200d♀️',\n",
              " '🧑\\u200d🚒',\n",
              " '🏋',\n",
              " '👩\\u200d🍼',\n",
              " '\\U0001f90f🏽',\n",
              " '🌧️',\n",
              " '🤷🏼\\u200d♀️',\n",
              " '🙇🏻\\u200d♀️',\n",
              " '🔭',\n",
              " '📅',\n",
              " '🤢',\n",
              " '🤙🏽',\n",
              " '🛤',\n",
              " '🧚🏻\\u200d♀️',\n",
              " '🗝',\n",
              " '🗑️',\n",
              " '🧔🏻\\u200d♂️',\n",
              " '🎆',\n",
              " '🏷',\n",
              " '🎲',\n",
              " '🛒',\n",
              " '👸🏽',\n",
              " '🌃',\n",
              " '👨🏼\\u200d🦳',\n",
              " '\\U0001fa70',\n",
              " '🥓',\n",
              " '😑',\n",
              " '🥧',\n",
              " '🥞',\n",
              " '🎙️',\n",
              " '🛐',\n",
              " '🥉',\n",
              " '📒',\n",
              " '♒',\n",
              " '🇬🇭',\n",
              " '🤔',\n",
              " '🎪',\n",
              " '🇨🇦',\n",
              " '😣',\n",
              " '🚒',\n",
              " '🏆',\n",
              " '🥠',\n",
              " '🌆',\n",
              " '✊🏾',\n",
              " '😶',\n",
              " '🧘🏻\\u200d♀️',\n",
              " '🕛',\n",
              " '⚡',\n",
              " '💁',\n",
              " '🌏',\n",
              " '🇵🇹',\n",
              " '👌🏿',\n",
              " '🧒',\n",
              " '🏭',\n",
              " '🤜',\n",
              " '🇵🇦',\n",
              " '🙇\\u200d♀️',\n",
              " '🇧🇪',\n",
              " '\\U0001f9cd🏻',\n",
              " '🙌',\n",
              " '🤤',\n",
              " '🎶',\n",
              " '🍷',\n",
              " '🚨',\n",
              " '😟',\n",
              " '🌩️',\n",
              " '🥨',\n",
              " '🤶',\n",
              " '\\U0001f9ab',\n",
              " '📰',\n",
              " '🗯️',\n",
              " '✌🏻',\n",
              " '💮',\n",
              " '💂',\n",
              " '🎞️',\n",
              " '🕋',\n",
              " '👏🏻',\n",
              " '🙌🏽',\n",
              " '\\U0001faf1🏼\\u200d\\U0001faf2🏻',\n",
              " '🙅🏾\\u200d♂️',\n",
              " '🏕',\n",
              " '🧣',\n",
              " '❕',\n",
              " '⚔️',\n",
              " '🙋🏼\\u200d♂️',\n",
              " '🇨🇵',\n",
              " '⚽',\n",
              " '🏃',\n",
              " '🌜',\n",
              " '🐸',\n",
              " '🍦',\n",
              " '🇯🇵',\n",
              " '🦢',\n",
              " '📥',\n",
              " '🚘',\n",
              " '☝️',\n",
              " '👜',\n",
              " '🕶️',\n",
              " '🏳️\\u200d🌈',\n",
              " '🍉',\n",
              " '🌎',\n",
              " '🌛',\n",
              " '⬜',\n",
              " '💶',\n",
              " '👍🏾',\n",
              " '🤰',\n",
              " '🕵🏻\\u200d♀️',\n",
              " '😐',\n",
              " '🥔',\n",
              " '♋',\n",
              " '😱',\n",
              " '🍹',\n",
              " '🎠',\n",
              " '📖',\n",
              " '😰',\n",
              " '👊🏼',\n",
              " '🇪🇷',\n",
              " '👮\\u200d♂️',\n",
              " '😭',\n",
              " '🗽',\n",
              " '😋',\n",
              " '☄️',\n",
              " '🥛',\n",
              " '🤟🏼',\n",
              " '🛹',\n",
              " '\\U0001faf0🏻',\n",
              " '🏛',\n",
              " '♥️',\n",
              " '\\U0001faf3',\n",
              " '🏙️',\n",
              " '🎋',\n",
              " '🔴',\n",
              " '🔗',\n",
              " '😴',\n",
              " '🍡',\n",
              " '🦋',\n",
              " '🍻',\n",
              " '👽',\n",
              " '🍮',\n",
              " '📫',\n",
              " '®',\n",
              " '👯',\n",
              " '🐲',\n",
              " '😹',\n",
              " '☘',\n",
              " '♑',\n",
              " '♓',\n",
              " '🕷️',\n",
              " '🗻',\n",
              " '🍸',\n",
              " '⛪',\n",
              " '👋🏽',\n",
              " '⛅',\n",
              " '🗑',\n",
              " '🦷',\n",
              " '😨',\n",
              " '🔟',\n",
              " '🎦',\n",
              " '🥢',\n",
              " '🦶',\n",
              " '💊',\n",
              " '🎇',\n",
              " '🦚',\n",
              " '🙋🏼\\u200d♀️',\n",
              " '🙋🏻\\u200d♀️',\n",
              " '\\U0001faac',\n",
              " '🍕',\n",
              " '🙋',\n",
              " '📼',\n",
              " '👌🏾',\n",
              " '🏃🏻\\u200d♀️',\n",
              " '🍁',\n",
              " '🙆🏼\\u200d♀️',\n",
              " '🔓',\n",
              " '🐱',\n",
              " '🤸🏻\\u200d♂️',\n",
              " '🐃',\n",
              " '🖥️',\n",
              " '☀',\n",
              " '🧤',\n",
              " '✔️',\n",
              " '\\U0001f90f🏻',\n",
              " '🐄',\n",
              " '🇺🇸',\n",
              " '🎅🏼',\n",
              " '🍣',\n",
              " '😵\\u200d💫',\n",
              " '\\U0001f90f🏼',\n",
              " '🧩',\n",
              " '\\U0001f7e2',\n",
              " '\\U0001f7ea',\n",
              " '😯',\n",
              " '🤷\\u200d♀️',\n",
              " '🧚🏻',\n",
              " '🎐',\n",
              " '🐍',\n",
              " '🎊',\n",
              " '🚠',\n",
              " '🇱🇾',\n",
              " '💅🏾',\n",
              " '🤸🏻\\u200d♀️',\n",
              " '🧪',\n",
              " '💵',\n",
              " '\\U0001f9a4',\n",
              " '🧙🏻\\u200d♂️',\n",
              " '🆙',\n",
              " '🚧',\n",
              " '😆',\n",
              " '🚈',\n",
              " '💇\\u200d♀️',\n",
              " '🥪',\n",
              " '🖼️',\n",
              " '👩🏻\\u200d🍳',\n",
              " '👃',\n",
              " '🍫',\n",
              " '🔽',\n",
              " '🔝',\n",
              " '🛡',\n",
              " '❣️',\n",
              " '💑',\n",
              " '✂️',\n",
              " '⛽',\n",
              " '\\U0001fab6',\n",
              " '🦒',\n",
              " '💔',\n",
              " '🚖',\n",
              " '🏅',\n",
              " '🙆🏻\\u200d♂️',\n",
              " '🏃🏼\\u200d♂️',\n",
              " '😢',\n",
              " '🐢',\n",
              " '💷',\n",
              " '✒️',\n",
              " '📿',\n",
              " '👏🏽',\n",
              " '👭',\n",
              " '🦡',\n",
              " '🏫',\n",
              " '🥋',\n",
              " '🐙',\n",
              " '👫',\n",
              " '🗨️',\n",
              " '🎬',\n",
              " '⛱️',\n",
              " '☝🏻',\n",
              " '🤘🏼',\n",
              " '🍗',\n",
              " '📺',\n",
              " '🏃\\u200d♀️',\n",
              " '🐚',\n",
              " '😕',\n",
              " '📲',\n",
              " '💁\\u200d♂️',\n",
              " '😳',\n",
              " '🛀',\n",
              " '☠',\n",
              " '🇮🇱',\n",
              " '🍙',\n",
              " '😿',\n",
              " '🍴',\n",
              " '🏩',\n",
              " '🍌',\n",
              " '☝🏾',\n",
              " '🤫',\n",
              " '👩\\u200d🎤',\n",
              " '📉',\n",
              " '📃',\n",
              " '😮',\n",
              " '🛑',\n",
              " '😺',\n",
              " '❌',\n",
              " '🥥',\n",
              " '🗨',\n",
              " '🍨',\n",
              " '🔹',\n",
              " '👍🏿',\n",
              " '🇧🇻',\n",
              " '🚙',\n",
              " '🤨',\n",
              " '🎄',\n",
              " '👩🏻\\u200d💻',\n",
              " '😾',\n",
              " '🐦',\n",
              " '🍔',\n",
              " '💉',\n",
              " '🥚',\n",
              " '🇮🇩',\n",
              " '🕷',\n",
              " '🐝',\n",
              " '🤘',\n",
              " '🐰',\n",
              " '🍱',\n",
              " '🆕',\n",
              " '🚀',\n",
              " '👋🏿',\n",
              " '🍤',\n",
              " '⚠️',\n",
              " '💆\\u200d♀️',\n",
              " '🐋',\n",
              " '\\U0001fad3',\n",
              " '💤',\n",
              " '🐞',\n",
              " '🦟',\n",
              " '🦞',\n",
              " '🤚',\n",
              " '❤️\\u200d\\U0001fa79',\n",
              " '🏨',\n",
              " '\\U0001f9ad',\n",
              " '🌸',\n",
              " '🇨🇺',\n",
              " '🙆\\u200d♂️',\n",
              " '🌦',\n",
              " '\\U0001f971',\n",
              " '🔉',\n",
              " '🎮',\n",
              " '🙄',\n",
              " '🕳️',\n",
              " '🤦🏾\\u200d♂️',\n",
              " '🛰',\n",
              " '🔸',\n",
              " '👩🏻\\u200d🎨',\n",
              " '▪️',\n",
              " '🇧🇾',\n",
              " '🕙',\n",
              " '🤛',\n",
              " '🌤',\n",
              " '🎿',\n",
              " '🏈',\n",
              " '😈',\n",
              " '🙎🏽',\n",
              " '❄',\n",
              " '🙌🏼',\n",
              " '👮',\n",
              " '💃',\n",
              " '🇲🇨',\n",
              " '😗',\n",
              " '\\U0001f90c🏻',\n",
              " '✍🏾',\n",
              " '🖕🏽',\n",
              " '🇱🇧',\n",
              " '🐽',\n",
              " '🧟\\u200d♀️',\n",
              " '🇦🇱',\n",
              " '🥑',\n",
              " '🖋️',\n",
              " '🎼',\n",
              " '🐼',\n",
              " '👆🏻',\n",
              " '😇',\n",
              " '⚧',\n",
              " '👏🏼',\n",
              " '🙁',\n",
              " '🏒',\n",
              " '🤛🏻',\n",
              " '⏲️',\n",
              " '🇷🇴',\n",
              " '🇵🇾',\n",
              " '🌚',\n",
              " '🤠',\n",
              " '☕',\n",
              " '🧭',\n",
              " '🐏',\n",
              " '🔊',\n",
              " '🏻',\n",
              " '🧑\\u200d\\U0001f9af',\n",
              " '📶',\n",
              " '▶️',\n",
              " '🔐',\n",
              " '™',\n",
              " '👊🏿',\n",
              " '🐁',\n",
              " '🙅🏻\\u200d♂️',\n",
              " '🧶',\n",
              " '💐',\n",
              " '🏊',\n",
              " '👩\\u200d🎨',\n",
              " '📴',\n",
              " '\\U0001f9c7',\n",
              " '🧑🏻\\u200d🚀',\n",
              " '🇩🇿',\n",
              " '\\U0001f9ca',\n",
              " '🤲🏾',\n",
              " '🍼',\n",
              " '🍪',\n",
              " '🤬',\n",
              " '👍🏼',\n",
              " '⛴',\n",
              " '🍟',\n",
              " '🐑',\n",
              " '🤑',\n",
              " '🇮🇹',\n",
              " '🔯',\n",
              " '🌹',\n",
              " '🇹🇳',\n",
              " '👰',\n",
              " '💋',\n",
              " '🇹🇷',\n",
              " '💇🏻\\u200d♀️',\n",
              " '🧚\\u200d♀️',\n",
              " '🇩🇪',\n",
              " '\\U0001faaa',\n",
              " '⛓',\n",
              " '🛢️',\n",
              " '🥕',\n",
              " '📠',\n",
              " '\\U0001f977🏾',\n",
              " '👕',\n",
              " '🎷',\n",
              " '🤙🏻',\n",
              " '🤙🏼',\n",
              " '👇',\n",
              " '👵',\n",
              " '🦈',\n",
              " '💗',\n",
              " '🛋️',\n",
              " '⚔',\n",
              " '😅',\n",
              " '✋🏽',\n",
              " '📚',\n",
              " '👴🏼',\n",
              " '🥊',\n",
              " '🏟️',\n",
              " '🆗',\n",
              " '🇲🇰',\n",
              " '🚥',\n",
              " '🌴',\n",
              " '🏞️',\n",
              " '🏃🏽\\u200d♂️',\n",
              " '💲',\n",
              " '🐌',\n",
              " '💁\\u200d♀️',\n",
              " '\\U0001f972',\n",
              " '♉',\n",
              " '⚕️',\n",
              " '😷',\n",
              " '👓',\n",
              " '🎁',\n",
              " '✌',\n",
              " '\\U0001fab4',\n",
              " '👂',\n",
              " '🌠',\n",
              " '🐒',\n",
              " '🧿',\n",
              " '📽️',\n",
              " '\\U0001f9c4',\n",
              " '🥵',\n",
              " '👨🏻\\u200d\\U0001f9af',\n",
              " '🇬🇪',\n",
              " '🖍',\n",
              " '🥦',\n",
              " '6⃣',\n",
              " '🌈',\n",
              " '🇲🇦',\n",
              " '🚕',\n",
              " '🦆',\n",
              " '🔢',\n",
              " '😃',\n",
              " '🇸🇻',\n",
              " '🍬',\n",
              " '💅🏻',\n",
              " '👉🏻',\n",
              " '\\U0001faa5',\n",
              " '🏝',\n",
              " '🎻',\n",
              " '💆🏽\\u200d♀️',\n",
              " '🔙',\n",
              " '✏️',\n",
              " '👦🏻',\n",
              " '🧱',\n",
              " '🧟',\n",
              " '🛌',\n",
              " '🆘',\n",
              " '⛲',\n",
              " '🐖',\n",
              " '🏳',\n",
              " '🖐🏿',\n",
              " '💜',\n",
              " '✉',\n",
              " '☠️',\n",
              " '🏡',\n",
              " '🇸🇮',\n",
              " '🖇',\n",
              " '🎅🏻',\n",
              " '🤩',\n",
              " '🦅',\n",
              " '🧚🏻\\u200d♂️',\n",
              " '🍀',\n",
              " '👺',\n",
              " '🏥',\n",
              " '\\U0001fab0',\n",
              " '🤸\\u200d♀️',\n",
              " '🚷',\n",
              " '🙆\\u200d♀️',\n",
              " '🎙',\n",
              " '😞',\n",
              " '\\U0001fad2',\n",
              " '🖤',\n",
              " '🤲🏻',\n",
              " '🤡',\n",
              " '🤭',\n",
              " '✋',\n",
              " '\\U0001fa7b',\n",
              " '\\U0001f7e8',\n",
              " '🌅',\n",
              " '🌿',\n",
              " '🕊️',\n",
              " '📊',\n",
              " '💙',\n",
              " '🔒',\n",
              " '🍛',\n",
              " '🌲',\n",
              " '✍🏼',\n",
              " '🍈',\n",
              " '🚔',\n",
              " '🏚',\n",
              " '🙅\\u200d♀️',\n",
              " '👅',\n",
              " '🧔',\n",
              " '✳',\n",
              " '😠',\n",
              " '🇦🇿',\n",
              " '👰\\u200d♂️',\n",
              " '🖌',\n",
              " '👶',\n",
              " '🤟',\n",
              " '🛰️',\n",
              " '💕',\n",
              " '☹️',\n",
              " '♀️',\n",
              " '👀',\n",
              " '🐉',\n",
              " '🌪️',\n",
              " '🥟',\n",
              " '🇵🇷',\n",
              " '📓',\n",
              " '🧵',\n",
              " '🇰🇿',\n",
              " '💸',\n",
              " '😏',\n",
              " '👚',\n",
              " '⚙️',\n",
              " '🤹',\n",
              " '\\U0001f90c',\n",
              " '💒',\n",
              " '\\U0001faa6',\n",
              " '🔔',\n",
              " '👎🏼',\n",
              " '🙆🏽\\u200d♀️',\n",
              " '\\U0001faf4',\n",
              " '🍑',\n",
              " '♐',\n",
              " '🚗',\n",
              " '🙋🏽\\u200d♂️',\n",
              " '🚜',\n",
              " '🇵🇭',\n",
              " '7️⃣',\n",
              " '👦',\n",
              " '🏐',\n",
              " '🚆',\n",
              " '🦙',\n",
              " '\\U0001fae4',\n",
              " '🇸🇩',\n",
              " '💪🏼',\n",
              " '🚰',\n",
              " '🙏🏻',\n",
              " '🛎',\n",
              " '👎🏻',\n",
              " '📢',\n",
              " '⛷️',\n",
              " '🎥',\n",
              " '🐳',\n",
              " '🎀',\n",
              " '🇶🇦',\n",
              " '📑',\n",
              " '🇪🇹',\n",
              " '📧',\n",
              " '©',\n",
              " '🧔\\u200d♀️',\n",
              " '💥',\n",
              " '🏳️\\u200d⚧️',\n",
              " '🗯',\n",
              " '🖖🏼',\n",
              " '🏘',\n",
              " '🤞🏼',\n",
              " '🍭',\n",
              " '\\U0001f978',\n",
              " '🧙\\u200d♀️',\n",
              " '⚗️',\n",
              " '👨\\u200d👩\\u200d👦\\u200d👦',\n",
              " '💏',\n",
              " '💝',\n",
              " '🤦🏾\\u200d♂',\n",
              " '🤰🏻',\n",
              " '😜',\n",
              " '🍜',\n",
              " '☎️',\n",
              " '👯\\u200d♀️',\n",
              " '🥼',\n",
              " '🙇🏻\\u200d♂️',\n",
              " '🔌',\n",
              " '🥎',\n",
              " '\\U0001faa0',\n",
              " '➡️',\n",
              " '📘',\n",
              " '🏃🏽',\n",
              " '🇿🇼',\n",
              " '🚓',\n",
              " '🕞',\n",
              " '👼🏻',\n",
              " '🤞🏾',\n",
              " '➰',\n",
              " '\\U0001f9c5',\n",
              " '➕',\n",
              " '💃🏽',\n",
              " '⛓️',\n",
              " '👔',\n",
              " '👒',\n",
              " '🇱🇷',\n",
              " '🆖',\n",
              " '⛷',\n",
              " '🎃',\n",
              " '🇸🇦',\n",
              " '💯',\n",
              " '🇪🇨',\n",
              " '\\U0001faf6🏻',\n",
              " '\\U0001f93f',\n",
              " '⚠',\n",
              " '🔞',\n",
              " '🔬',\n",
              " '\\U0001f977🏻',\n",
              " '🌳',\n",
              " '❤\\u200d\\U0001fa79',\n",
              " '⌚',\n",
              " '👬',\n",
              " '💿',\n",
              " '\\U0001fa78',\n",
              " 'ℹ',\n",
              " '\\U0001f979',\n",
              " '🕘',\n",
              " '📻',\n",
              " '🤒',\n",
              " '\\U0001f9a5',\n",
              " '🤵',\n",
              " '🌶️',\n",
              " '🚮',\n",
              " '🍃',\n",
              " '🏀',\n",
              " '👄',\n",
              " '↔️',\n",
              " '💽',\n",
              " '♾',\n",
              " '🚂',\n",
              " '📹',\n",
              " '👩🏼\\u200d💻',\n",
              " '😀',\n",
              " '🎈',\n",
              " '👩🏽\\u200d💻',\n",
              " '📷',\n",
              " '👉🏼',\n",
              " '🇸🇯',\n",
              " '🌼',\n",
              " '☝🏼',\n",
              " '🚶🏼\\u200d♀️',\n",
              " '❗',\n",
              " '🕶',\n",
              " '🤱',\n",
              " '✡️',\n",
              " '🕯',\n",
              " '🦖',\n",
              " '🇪🇸',\n",
              " '🚣🏻\\u200d♀️',\n",
              " '🌇',\n",
              " '♂️',\n",
              " '4️⃣',\n",
              " '2⃣',\n",
              " '🧘🏽\\u200d♀️',\n",
              " '🙆',\n",
              " '⛰️',\n",
              " '🦴',\n",
              " '👋',\n",
              " '🤣',\n",
              " '🙇',\n",
              " '👉',\n",
              " '👵🏼',\n",
              " '🐈',\n",
              " '🤞',\n",
              " '😲',\n",
              " '🎴',\n",
              " '😖',\n",
              " '🎖️',\n",
              " '✌🏾',\n",
              " '🎚',\n",
              " '🇳🇦',\n",
              " '🦝',\n",
              " '😉',\n",
              " '🏗️',\n",
              " '🏢',\n",
              " '🇻🇦',\n",
              " '🌭',\n",
              " '🇹🇭',\n",
              " '🙅🏽\\u200d♂️',\n",
              " '🥂',\n",
              " '💻',\n",
              " '🥝',\n",
              " '🎰',\n",
              " '🧯',\n",
              " '🕌',\n",
              " '\\U0001faf6🏽',\n",
              " '🗞',\n",
              " '🇧🇷',\n",
              " '🤞🏻',\n",
              " '🏋️',\n",
              " '🤸🏼\\u200d♀️',\n",
              " '\\U0001fab7',\n",
              " '5⃣',\n",
              " '🇬🇷',\n",
              " '🔪',\n",
              " '\\U0001f9cb',\n",
              " '😝',\n",
              " '🦓',\n",
              " '🇧🇭',\n",
              " '♿',\n",
              " '🌂',\n",
              " '✊🏼',\n",
              " '🇩🇴',\n",
              " '✅',\n",
              " '🐜',\n",
              " '🤚🏾',\n",
              " '🙏🏽',\n",
              " '🧹',\n",
              " '🕹',\n",
              " '👢',\n",
              " '🍽',\n",
              " '🃏',\n",
              " '▶',\n",
              " '👸🏾',\n",
              " '👧🏼',\n",
              " '🌮',\n",
              " '💪🏿',\n",
              " '5️⃣',\n",
              " '☮',\n",
              " '🤝🏾',\n",
              " '🦌',\n",
              " '🌬',\n",
              " '🇨🇿',\n",
              " '😘',\n",
              " '😧',\n",
              " '🥴',\n",
              " '🤝🏻',\n",
              " '🐿️',\n",
              " '✍🏻',\n",
              " '🛬',\n",
              " '🚶🏻\\u200d♂️',\n",
              " '📟',\n",
              " '🐅',\n",
              " '🧘\\u200d♀️',\n",
              " '🇲🇾',\n",
              " '\\U0001f9cd🏻\\u200d♀️',\n",
              " '🥺',\n",
              " '😒',\n",
              " '🍩',\n",
              " '🧠',\n",
              " '💪🏾',\n",
              " '🚎',\n",
              " '🎟',\n",
              " '🤸',\n",
              " '💇',\n",
              " '🤖',\n",
              " '💇🏻\\u200d♂️',\n",
              " '🙋\\u200d♂️',\n",
              " '👌',\n",
              " '🇦🇪',\n",
              " '🍊',\n",
              " '🏴\\U000e0067\\U000e0062\\U000e0077\\U000e006c\\U000e0073\\U000e007f',\n",
              " '😚',\n",
              " '🌀',\n",
              " '🖥',\n",
              " '🌨️',\n",
              " '🧚🏽\\u200d♀️',\n",
              " '👩\\u200d💻',\n",
              " '📸',\n",
              " '🦀',\n",
              " '🇦🇺',\n",
              " '🇦🇹',\n",
              " '🈯',\n",
              " '🍒',\n",
              " '👐',\n",
              " '👩\\u200d⚕️',\n",
              " '🇨🇭',\n",
              " '🌔',\n",
              " '🐨',\n",
              " '3️⃣',\n",
              " '🇦🇫',\n",
              " '🍲',\n",
              " '🤓',\n",
              " '😮\\u200d💨',\n",
              " '\\U0001fa84',\n",
              " '💆🏻\\u200d♀️',\n",
              " '🔚',\n",
              " '🎤',\n",
              " '🇧🇬',\n",
              " '🚌',\n",
              " '🇦🇷',\n",
              " '🎢',\n",
              " '👁',\n",
              " '🐛',\n",
              " '🎡',\n",
              " '↘️',\n",
              " '🆑',\n",
              " '\\U0001fae0',\n",
              " '😔',\n",
              " '\\U0001f90c🏾',\n",
              " '🎭',\n",
              " '\\U0001f9c3',\n",
              " '\\U0001faa9',\n",
              " '🦃',\n",
              " '\\U0001f9a9',\n",
              " '🚺',\n",
              " '🏍️',\n",
              " '🇸🇬',\n",
              " '⏱️',\n",
              " '🕸',\n",
              " '🤷\\u200d♂️',\n",
              " '😛',\n",
              " '🇸🇪',\n",
              " '📡',\n",
              " '☄',\n",
              " '😸',\n",
              " '🖐',\n",
              " '👻',\n",
              " '🇱🇻',\n",
              " '🤳🏻',\n",
              " '🇮🇳',\n",
              " '🤦🏽\\u200d♀️',\n",
              " '👶🏻',\n",
              " '👱\\u200d♀️',\n",
              " '🐪',\n",
              " '\\U0001fa9a',\n",
              " '⚖',\n",
              " '🥒',\n",
              " '👌🏼',\n",
              " '👨\\u200d⚕️',\n",
              " '⛵',\n",
              " '\\U0001f7e9',\n",
              " '🏍',\n",
              " '🤦🏼\\u200d♀️',\n",
              " '📋',\n",
              " '⌨',\n",
              " '🥗',\n",
              " '🤦\\u200d♂️',\n",
              " '💎',\n",
              " '🏳️',\n",
              " '🏴',\n",
              " '🏦',\n",
              " '🌾',\n",
              " '🍞',\n",
              " '🛶',\n",
              " '⬇️',\n",
              " '😡',\n",
              " '📬',\n",
              " '🦏',\n",
              " '🤷🏻',\n",
              " '🤟🏻',\n",
              " '🍵',\n",
              " '🛍️',\n",
              " '🎒',\n",
              " '🇭🇲',\n",
              " '⚪',\n",
              " '🕎',\n",
              " '✂',\n",
              " '📽',\n",
              " '🛸',\n",
              " '🔷',\n",
              " ...]"
            ]
          },
          "metadata": {},
          "execution_count": 35
        }
      ]
    },
    {
      "cell_type": "code",
      "source": [
        "df = pd.DataFrame(\n",
        "    {'Tweet': list_1,\n",
        "     'Label_2': list_2\n",
        "    })"
      ],
      "metadata": {
        "id": "5-npq_8vzhhX"
      },
      "execution_count": null,
      "outputs": []
    },
    {
      "cell_type": "code",
      "source": [
        "df"
      ],
      "metadata": {
        "colab": {
          "base_uri": "https://localhost:8080/",
          "height": 424
        },
        "id": "TVNPeAoZ2AR8",
        "outputId": "2fcfec45-2cbe-482e-cb22-0341e85e9ceb"
      },
      "execution_count": null,
      "outputs": [
        {
          "output_type": "execute_result",
          "data": {
            "text/plain": [
              "                                                    Tweet Label_2\n",
              "0       Ormai le parole sono finite per commentare la ...       💜\n",
              "1                                                       💜       💜\n",
              "2                                                       💜       💜\n",
              "3                                                       🌈       🌈\n",
              "4                                                       🌈       🌈\n",
              "...                                                   ...     ...\n",
              "123649  #RADAR Radar a galbisio-carasso dopo la tirata...       🤩\n",
              "123650                                                  📸       📸\n",
              "123651  Mauro Scibetta Per controllare lo stato di tut...      ✈️\n",
              "123652                                                  👇       👇\n",
              "123653                            #19aprile [BALERNA] - 📸       📸\n",
              "\n",
              "[123654 rows x 2 columns]"
            ],
            "text/html": [
              "\n",
              "  <div id=\"df-ac882915-babd-4b2d-81d5-73a356e89224\">\n",
              "    <div class=\"colab-df-container\">\n",
              "      <div>\n",
              "<style scoped>\n",
              "    .dataframe tbody tr th:only-of-type {\n",
              "        vertical-align: middle;\n",
              "    }\n",
              "\n",
              "    .dataframe tbody tr th {\n",
              "        vertical-align: top;\n",
              "    }\n",
              "\n",
              "    .dataframe thead th {\n",
              "        text-align: right;\n",
              "    }\n",
              "</style>\n",
              "<table border=\"1\" class=\"dataframe\">\n",
              "  <thead>\n",
              "    <tr style=\"text-align: right;\">\n",
              "      <th></th>\n",
              "      <th>Tweet</th>\n",
              "      <th>Label_2</th>\n",
              "    </tr>\n",
              "  </thead>\n",
              "  <tbody>\n",
              "    <tr>\n",
              "      <th>0</th>\n",
              "      <td>Ormai le parole sono finite per commentare la ...</td>\n",
              "      <td>💜</td>\n",
              "    </tr>\n",
              "    <tr>\n",
              "      <th>1</th>\n",
              "      <td>💜</td>\n",
              "      <td>💜</td>\n",
              "    </tr>\n",
              "    <tr>\n",
              "      <th>2</th>\n",
              "      <td>💜</td>\n",
              "      <td>💜</td>\n",
              "    </tr>\n",
              "    <tr>\n",
              "      <th>3</th>\n",
              "      <td>🌈</td>\n",
              "      <td>🌈</td>\n",
              "    </tr>\n",
              "    <tr>\n",
              "      <th>4</th>\n",
              "      <td>🌈</td>\n",
              "      <td>🌈</td>\n",
              "    </tr>\n",
              "    <tr>\n",
              "      <th>...</th>\n",
              "      <td>...</td>\n",
              "      <td>...</td>\n",
              "    </tr>\n",
              "    <tr>\n",
              "      <th>123649</th>\n",
              "      <td>#RADAR Radar a galbisio-carasso dopo la tirata...</td>\n",
              "      <td>🤩</td>\n",
              "    </tr>\n",
              "    <tr>\n",
              "      <th>123650</th>\n",
              "      <td>📸</td>\n",
              "      <td>📸</td>\n",
              "    </tr>\n",
              "    <tr>\n",
              "      <th>123651</th>\n",
              "      <td>Mauro Scibetta Per controllare lo stato di tut...</td>\n",
              "      <td>✈️</td>\n",
              "    </tr>\n",
              "    <tr>\n",
              "      <th>123652</th>\n",
              "      <td>👇</td>\n",
              "      <td>👇</td>\n",
              "    </tr>\n",
              "    <tr>\n",
              "      <th>123653</th>\n",
              "      <td>#19aprile [BALERNA] - 📸</td>\n",
              "      <td>📸</td>\n",
              "    </tr>\n",
              "  </tbody>\n",
              "</table>\n",
              "<p>123654 rows × 2 columns</p>\n",
              "</div>\n",
              "      <button class=\"colab-df-convert\" onclick=\"convertToInteractive('df-ac882915-babd-4b2d-81d5-73a356e89224')\"\n",
              "              title=\"Convert this dataframe to an interactive table.\"\n",
              "              style=\"display:none;\">\n",
              "        \n",
              "  <svg xmlns=\"http://www.w3.org/2000/svg\" height=\"24px\"viewBox=\"0 0 24 24\"\n",
              "       width=\"24px\">\n",
              "    <path d=\"M0 0h24v24H0V0z\" fill=\"none\"/>\n",
              "    <path d=\"M18.56 5.44l.94 2.06.94-2.06 2.06-.94-2.06-.94-.94-2.06-.94 2.06-2.06.94zm-11 1L8.5 8.5l.94-2.06 2.06-.94-2.06-.94L8.5 2.5l-.94 2.06-2.06.94zm10 10l.94 2.06.94-2.06 2.06-.94-2.06-.94-.94-2.06-.94 2.06-2.06.94z\"/><path d=\"M17.41 7.96l-1.37-1.37c-.4-.4-.92-.59-1.43-.59-.52 0-1.04.2-1.43.59L10.3 9.45l-7.72 7.72c-.78.78-.78 2.05 0 2.83L4 21.41c.39.39.9.59 1.41.59.51 0 1.02-.2 1.41-.59l7.78-7.78 2.81-2.81c.8-.78.8-2.07 0-2.86zM5.41 20L4 18.59l7.72-7.72 1.47 1.35L5.41 20z\"/>\n",
              "  </svg>\n",
              "      </button>\n",
              "      \n",
              "  <style>\n",
              "    .colab-df-container {\n",
              "      display:flex;\n",
              "      flex-wrap:wrap;\n",
              "      gap: 12px;\n",
              "    }\n",
              "\n",
              "    .colab-df-convert {\n",
              "      background-color: #E8F0FE;\n",
              "      border: none;\n",
              "      border-radius: 50%;\n",
              "      cursor: pointer;\n",
              "      display: none;\n",
              "      fill: #1967D2;\n",
              "      height: 32px;\n",
              "      padding: 0 0 0 0;\n",
              "      width: 32px;\n",
              "    }\n",
              "\n",
              "    .colab-df-convert:hover {\n",
              "      background-color: #E2EBFA;\n",
              "      box-shadow: 0px 1px 2px rgba(60, 64, 67, 0.3), 0px 1px 3px 1px rgba(60, 64, 67, 0.15);\n",
              "      fill: #174EA6;\n",
              "    }\n",
              "\n",
              "    [theme=dark] .colab-df-convert {\n",
              "      background-color: #3B4455;\n",
              "      fill: #D2E3FC;\n",
              "    }\n",
              "\n",
              "    [theme=dark] .colab-df-convert:hover {\n",
              "      background-color: #434B5C;\n",
              "      box-shadow: 0px 1px 3px 1px rgba(0, 0, 0, 0.15);\n",
              "      filter: drop-shadow(0px 1px 2px rgba(0, 0, 0, 0.3));\n",
              "      fill: #FFFFFF;\n",
              "    }\n",
              "  </style>\n",
              "\n",
              "      <script>\n",
              "        const buttonEl =\n",
              "          document.querySelector('#df-ac882915-babd-4b2d-81d5-73a356e89224 button.colab-df-convert');\n",
              "        buttonEl.style.display =\n",
              "          google.colab.kernel.accessAllowed ? 'block' : 'none';\n",
              "\n",
              "        async function convertToInteractive(key) {\n",
              "          const element = document.querySelector('#df-ac882915-babd-4b2d-81d5-73a356e89224');\n",
              "          const dataTable =\n",
              "            await google.colab.kernel.invokeFunction('convertToInteractive',\n",
              "                                                     [key], {});\n",
              "          if (!dataTable) return;\n",
              "\n",
              "          const docLinkHtml = 'Like what you see? Visit the ' +\n",
              "            '<a target=\"_blank\" href=https://colab.research.google.com/notebooks/data_table.ipynb>data table notebook</a>'\n",
              "            + ' to learn more about interactive tables.';\n",
              "          element.innerHTML = '';\n",
              "          dataTable['output_type'] = 'display_data';\n",
              "          await google.colab.output.renderOutput(dataTable, element);\n",
              "          const docLink = document.createElement('div');\n",
              "          docLink.innerHTML = docLinkHtml;\n",
              "          element.appendChild(docLink);\n",
              "        }\n",
              "      </script>\n",
              "    </div>\n",
              "  </div>\n",
              "  "
            ]
          },
          "metadata": {},
          "execution_count": 37
        }
      ]
    },
    {
      "cell_type": "code",
      "source": [
        "list_of_emojis = ['❤️', '😍', '😂', '💕', '🔥', '😊', '😎', '✨', '💙', '😘', '📷', '🇺🇸', '☀','💜', '😉','💯', '😁', '🎄', '📸', '😜']"
      ],
      "metadata": {
        "id": "4OPGE9sG2kBw"
      },
      "execution_count": null,
      "outputs": []
    },
    {
      "cell_type": "code",
      "source": [
        "df['Label_2']"
      ],
      "metadata": {
        "colab": {
          "base_uri": "https://localhost:8080/"
        },
        "id": "W240jK0f25Ow",
        "outputId": "4ba3b57b-cd0a-4931-d432-27b7253da37c"
      },
      "execution_count": null,
      "outputs": [
        {
          "output_type": "execute_result",
          "data": {
            "text/plain": [
              "0          💜\n",
              "1          💜\n",
              "2          💜\n",
              "3          🌈\n",
              "4          🌈\n",
              "          ..\n",
              "123649     🤩\n",
              "123650     📸\n",
              "123651    ✈️\n",
              "123652     👇\n",
              "123653     📸\n",
              "Name: Label_2, Length: 123654, dtype: object"
            ]
          },
          "metadata": {},
          "execution_count": 39
        }
      ]
    },
    {
      "cell_type": "code",
      "source": [
        "df = df.loc[df['Label_2'].isin(list_of_emojis)]"
      ],
      "metadata": {
        "id": "oO4CcLDS27Zw"
      },
      "execution_count": null,
      "outputs": []
    },
    {
      "cell_type": "code",
      "source": [
        "df"
      ],
      "metadata": {
        "colab": {
          "base_uri": "https://localhost:8080/",
          "height": 424
        },
        "id": "5Nw7riMY2-ns",
        "outputId": "e5ee2568-b9d6-4a59-91a4-2aa32dbec5df"
      },
      "execution_count": null,
      "outputs": [
        {
          "output_type": "execute_result",
          "data": {
            "text/plain": [
              "                                                    Tweet Label_2\n",
              "0       Ormai le parole sono finite per commentare la ...       💜\n",
              "1                                                       💜       💜\n",
              "2                                                       💜       💜\n",
              "10                                               Scenes 💜       💜\n",
              "12                               ho finito ora lo stage 💜       💜\n",
              "...                                                   ...     ...\n",
              "123646                                       [GNOSCA] - 📸       📸\n",
              "123647  #RADAR Radar tra gnosca e gorduno sul 60 km/g,...       📸\n",
              "123648  #RADAR Radar tra gnosca e gorduno direzione su...       📸\n",
              "123650                                                  📸       📸\n",
              "123653                            #19aprile [BALERNA] - 📸       📸\n",
              "\n",
              "[69332 rows x 2 columns]"
            ],
            "text/html": [
              "\n",
              "  <div id=\"df-b6a42eda-a096-49a1-8cd4-a8c3c8093ac9\">\n",
              "    <div class=\"colab-df-container\">\n",
              "      <div>\n",
              "<style scoped>\n",
              "    .dataframe tbody tr th:only-of-type {\n",
              "        vertical-align: middle;\n",
              "    }\n",
              "\n",
              "    .dataframe tbody tr th {\n",
              "        vertical-align: top;\n",
              "    }\n",
              "\n",
              "    .dataframe thead th {\n",
              "        text-align: right;\n",
              "    }\n",
              "</style>\n",
              "<table border=\"1\" class=\"dataframe\">\n",
              "  <thead>\n",
              "    <tr style=\"text-align: right;\">\n",
              "      <th></th>\n",
              "      <th>Tweet</th>\n",
              "      <th>Label_2</th>\n",
              "    </tr>\n",
              "  </thead>\n",
              "  <tbody>\n",
              "    <tr>\n",
              "      <th>0</th>\n",
              "      <td>Ormai le parole sono finite per commentare la ...</td>\n",
              "      <td>💜</td>\n",
              "    </tr>\n",
              "    <tr>\n",
              "      <th>1</th>\n",
              "      <td>💜</td>\n",
              "      <td>💜</td>\n",
              "    </tr>\n",
              "    <tr>\n",
              "      <th>2</th>\n",
              "      <td>💜</td>\n",
              "      <td>💜</td>\n",
              "    </tr>\n",
              "    <tr>\n",
              "      <th>10</th>\n",
              "      <td>Scenes 💜</td>\n",
              "      <td>💜</td>\n",
              "    </tr>\n",
              "    <tr>\n",
              "      <th>12</th>\n",
              "      <td>ho finito ora lo stage 💜</td>\n",
              "      <td>💜</td>\n",
              "    </tr>\n",
              "    <tr>\n",
              "      <th>...</th>\n",
              "      <td>...</td>\n",
              "      <td>...</td>\n",
              "    </tr>\n",
              "    <tr>\n",
              "      <th>123646</th>\n",
              "      <td>[GNOSCA] - 📸</td>\n",
              "      <td>📸</td>\n",
              "    </tr>\n",
              "    <tr>\n",
              "      <th>123647</th>\n",
              "      <td>#RADAR Radar tra gnosca e gorduno sul 60 km/g,...</td>\n",
              "      <td>📸</td>\n",
              "    </tr>\n",
              "    <tr>\n",
              "      <th>123648</th>\n",
              "      <td>#RADAR Radar tra gnosca e gorduno direzione su...</td>\n",
              "      <td>📸</td>\n",
              "    </tr>\n",
              "    <tr>\n",
              "      <th>123650</th>\n",
              "      <td>📸</td>\n",
              "      <td>📸</td>\n",
              "    </tr>\n",
              "    <tr>\n",
              "      <th>123653</th>\n",
              "      <td>#19aprile [BALERNA] - 📸</td>\n",
              "      <td>📸</td>\n",
              "    </tr>\n",
              "  </tbody>\n",
              "</table>\n",
              "<p>69332 rows × 2 columns</p>\n",
              "</div>\n",
              "      <button class=\"colab-df-convert\" onclick=\"convertToInteractive('df-b6a42eda-a096-49a1-8cd4-a8c3c8093ac9')\"\n",
              "              title=\"Convert this dataframe to an interactive table.\"\n",
              "              style=\"display:none;\">\n",
              "        \n",
              "  <svg xmlns=\"http://www.w3.org/2000/svg\" height=\"24px\"viewBox=\"0 0 24 24\"\n",
              "       width=\"24px\">\n",
              "    <path d=\"M0 0h24v24H0V0z\" fill=\"none\"/>\n",
              "    <path d=\"M18.56 5.44l.94 2.06.94-2.06 2.06-.94-2.06-.94-.94-2.06-.94 2.06-2.06.94zm-11 1L8.5 8.5l.94-2.06 2.06-.94-2.06-.94L8.5 2.5l-.94 2.06-2.06.94zm10 10l.94 2.06.94-2.06 2.06-.94-2.06-.94-.94-2.06-.94 2.06-2.06.94z\"/><path d=\"M17.41 7.96l-1.37-1.37c-.4-.4-.92-.59-1.43-.59-.52 0-1.04.2-1.43.59L10.3 9.45l-7.72 7.72c-.78.78-.78 2.05 0 2.83L4 21.41c.39.39.9.59 1.41.59.51 0 1.02-.2 1.41-.59l7.78-7.78 2.81-2.81c.8-.78.8-2.07 0-2.86zM5.41 20L4 18.59l7.72-7.72 1.47 1.35L5.41 20z\"/>\n",
              "  </svg>\n",
              "      </button>\n",
              "      \n",
              "  <style>\n",
              "    .colab-df-container {\n",
              "      display:flex;\n",
              "      flex-wrap:wrap;\n",
              "      gap: 12px;\n",
              "    }\n",
              "\n",
              "    .colab-df-convert {\n",
              "      background-color: #E8F0FE;\n",
              "      border: none;\n",
              "      border-radius: 50%;\n",
              "      cursor: pointer;\n",
              "      display: none;\n",
              "      fill: #1967D2;\n",
              "      height: 32px;\n",
              "      padding: 0 0 0 0;\n",
              "      width: 32px;\n",
              "    }\n",
              "\n",
              "    .colab-df-convert:hover {\n",
              "      background-color: #E2EBFA;\n",
              "      box-shadow: 0px 1px 2px rgba(60, 64, 67, 0.3), 0px 1px 3px 1px rgba(60, 64, 67, 0.15);\n",
              "      fill: #174EA6;\n",
              "    }\n",
              "\n",
              "    [theme=dark] .colab-df-convert {\n",
              "      background-color: #3B4455;\n",
              "      fill: #D2E3FC;\n",
              "    }\n",
              "\n",
              "    [theme=dark] .colab-df-convert:hover {\n",
              "      background-color: #434B5C;\n",
              "      box-shadow: 0px 1px 3px 1px rgba(0, 0, 0, 0.15);\n",
              "      filter: drop-shadow(0px 1px 2px rgba(0, 0, 0, 0.3));\n",
              "      fill: #FFFFFF;\n",
              "    }\n",
              "  </style>\n",
              "\n",
              "      <script>\n",
              "        const buttonEl =\n",
              "          document.querySelector('#df-b6a42eda-a096-49a1-8cd4-a8c3c8093ac9 button.colab-df-convert');\n",
              "        buttonEl.style.display =\n",
              "          google.colab.kernel.accessAllowed ? 'block' : 'none';\n",
              "\n",
              "        async function convertToInteractive(key) {\n",
              "          const element = document.querySelector('#df-b6a42eda-a096-49a1-8cd4-a8c3c8093ac9');\n",
              "          const dataTable =\n",
              "            await google.colab.kernel.invokeFunction('convertToInteractive',\n",
              "                                                     [key], {});\n",
              "          if (!dataTable) return;\n",
              "\n",
              "          const docLinkHtml = 'Like what you see? Visit the ' +\n",
              "            '<a target=\"_blank\" href=https://colab.research.google.com/notebooks/data_table.ipynb>data table notebook</a>'\n",
              "            + ' to learn more about interactive tables.';\n",
              "          element.innerHTML = '';\n",
              "          dataTable['output_type'] = 'display_data';\n",
              "          await google.colab.output.renderOutput(dataTable, element);\n",
              "          const docLink = document.createElement('div');\n",
              "          docLink.innerHTML = docLinkHtml;\n",
              "          element.appendChild(docLink);\n",
              "        }\n",
              "      </script>\n",
              "    </div>\n",
              "  </div>\n",
              "  "
            ]
          },
          "metadata": {},
          "execution_count": 41
        }
      ]
    },
    {
      "cell_type": "code",
      "source": [
        "emoji_to_idx = {'❤': 0, '❤️': 0,'😍': 1, '😂': 2, '💕': 3,  '🔥': 4, '😊': 5, '😎': 6, '✨': 7, '💙': 8, '😘': 9, '📷': 10, '🇺🇸': 11, '☀': 12,\\\n",
        "\n",
        "                '💜': 13, '😉': 14,'💯': 15, '😁': 16, '🎄': 17, '📸': 18, '😜': 19}"
      ],
      "metadata": {
        "id": "RXUW2i254AUU"
      },
      "execution_count": null,
      "outputs": []
    },
    {
      "cell_type": "code",
      "source": [
        "list_labeled = []"
      ],
      "metadata": {
        "id": "BGuBQl0A6kdn"
      },
      "execution_count": null,
      "outputs": []
    },
    {
      "cell_type": "code",
      "source": [
        "for i in df['Label_2']:\n",
        "  list_labeled.append(int( emoji_to_idx[ i ]))"
      ],
      "metadata": {
        "id": "jFmH-z0K6oDK"
      },
      "execution_count": null,
      "outputs": []
    },
    {
      "cell_type": "code",
      "source": [
        "df.insert(2, 'Label', list_labeled)"
      ],
      "metadata": {
        "id": "4PeIrsqt4myx"
      },
      "execution_count": null,
      "outputs": []
    },
    {
      "cell_type": "code",
      "source": [
        "df"
      ],
      "metadata": {
        "colab": {
          "base_uri": "https://localhost:8080/",
          "height": 424
        },
        "id": "sL8wjIlV4Wqe",
        "outputId": "1275edf6-c68b-4f22-8739-f576eddabd34"
      },
      "execution_count": null,
      "outputs": [
        {
          "output_type": "execute_result",
          "data": {
            "text/plain": [
              "                                                    Tweet Label_2  Label\n",
              "0       Ormai le parole sono finite per commentare la ...       💜     13\n",
              "1                                                       💜       💜     13\n",
              "2                                                       💜       💜     13\n",
              "10                                               Scenes 💜       💜     13\n",
              "12                               ho finito ora lo stage 💜       💜     13\n",
              "...                                                   ...     ...    ...\n",
              "123646                                       [GNOSCA] - 📸       📸     18\n",
              "123647  #RADAR Radar tra gnosca e gorduno sul 60 km/g,...       📸     18\n",
              "123648  #RADAR Radar tra gnosca e gorduno direzione su...       📸     18\n",
              "123650                                                  📸       📸     18\n",
              "123653                            #19aprile [BALERNA] - 📸       📸     18\n",
              "\n",
              "[69332 rows x 3 columns]"
            ],
            "text/html": [
              "\n",
              "  <div id=\"df-6a0193f0-d308-4e54-94e6-7e27a8cc5948\">\n",
              "    <div class=\"colab-df-container\">\n",
              "      <div>\n",
              "<style scoped>\n",
              "    .dataframe tbody tr th:only-of-type {\n",
              "        vertical-align: middle;\n",
              "    }\n",
              "\n",
              "    .dataframe tbody tr th {\n",
              "        vertical-align: top;\n",
              "    }\n",
              "\n",
              "    .dataframe thead th {\n",
              "        text-align: right;\n",
              "    }\n",
              "</style>\n",
              "<table border=\"1\" class=\"dataframe\">\n",
              "  <thead>\n",
              "    <tr style=\"text-align: right;\">\n",
              "      <th></th>\n",
              "      <th>Tweet</th>\n",
              "      <th>Label_2</th>\n",
              "      <th>Label</th>\n",
              "    </tr>\n",
              "  </thead>\n",
              "  <tbody>\n",
              "    <tr>\n",
              "      <th>0</th>\n",
              "      <td>Ormai le parole sono finite per commentare la ...</td>\n",
              "      <td>💜</td>\n",
              "      <td>13</td>\n",
              "    </tr>\n",
              "    <tr>\n",
              "      <th>1</th>\n",
              "      <td>💜</td>\n",
              "      <td>💜</td>\n",
              "      <td>13</td>\n",
              "    </tr>\n",
              "    <tr>\n",
              "      <th>2</th>\n",
              "      <td>💜</td>\n",
              "      <td>💜</td>\n",
              "      <td>13</td>\n",
              "    </tr>\n",
              "    <tr>\n",
              "      <th>10</th>\n",
              "      <td>Scenes 💜</td>\n",
              "      <td>💜</td>\n",
              "      <td>13</td>\n",
              "    </tr>\n",
              "    <tr>\n",
              "      <th>12</th>\n",
              "      <td>ho finito ora lo stage 💜</td>\n",
              "      <td>💜</td>\n",
              "      <td>13</td>\n",
              "    </tr>\n",
              "    <tr>\n",
              "      <th>...</th>\n",
              "      <td>...</td>\n",
              "      <td>...</td>\n",
              "      <td>...</td>\n",
              "    </tr>\n",
              "    <tr>\n",
              "      <th>123646</th>\n",
              "      <td>[GNOSCA] - 📸</td>\n",
              "      <td>📸</td>\n",
              "      <td>18</td>\n",
              "    </tr>\n",
              "    <tr>\n",
              "      <th>123647</th>\n",
              "      <td>#RADAR Radar tra gnosca e gorduno sul 60 km/g,...</td>\n",
              "      <td>📸</td>\n",
              "      <td>18</td>\n",
              "    </tr>\n",
              "    <tr>\n",
              "      <th>123648</th>\n",
              "      <td>#RADAR Radar tra gnosca e gorduno direzione su...</td>\n",
              "      <td>📸</td>\n",
              "      <td>18</td>\n",
              "    </tr>\n",
              "    <tr>\n",
              "      <th>123650</th>\n",
              "      <td>📸</td>\n",
              "      <td>📸</td>\n",
              "      <td>18</td>\n",
              "    </tr>\n",
              "    <tr>\n",
              "      <th>123653</th>\n",
              "      <td>#19aprile [BALERNA] - 📸</td>\n",
              "      <td>📸</td>\n",
              "      <td>18</td>\n",
              "    </tr>\n",
              "  </tbody>\n",
              "</table>\n",
              "<p>69332 rows × 3 columns</p>\n",
              "</div>\n",
              "      <button class=\"colab-df-convert\" onclick=\"convertToInteractive('df-6a0193f0-d308-4e54-94e6-7e27a8cc5948')\"\n",
              "              title=\"Convert this dataframe to an interactive table.\"\n",
              "              style=\"display:none;\">\n",
              "        \n",
              "  <svg xmlns=\"http://www.w3.org/2000/svg\" height=\"24px\"viewBox=\"0 0 24 24\"\n",
              "       width=\"24px\">\n",
              "    <path d=\"M0 0h24v24H0V0z\" fill=\"none\"/>\n",
              "    <path d=\"M18.56 5.44l.94 2.06.94-2.06 2.06-.94-2.06-.94-.94-2.06-.94 2.06-2.06.94zm-11 1L8.5 8.5l.94-2.06 2.06-.94-2.06-.94L8.5 2.5l-.94 2.06-2.06.94zm10 10l.94 2.06.94-2.06 2.06-.94-2.06-.94-.94-2.06-.94 2.06-2.06.94z\"/><path d=\"M17.41 7.96l-1.37-1.37c-.4-.4-.92-.59-1.43-.59-.52 0-1.04.2-1.43.59L10.3 9.45l-7.72 7.72c-.78.78-.78 2.05 0 2.83L4 21.41c.39.39.9.59 1.41.59.51 0 1.02-.2 1.41-.59l7.78-7.78 2.81-2.81c.8-.78.8-2.07 0-2.86zM5.41 20L4 18.59l7.72-7.72 1.47 1.35L5.41 20z\"/>\n",
              "  </svg>\n",
              "      </button>\n",
              "      \n",
              "  <style>\n",
              "    .colab-df-container {\n",
              "      display:flex;\n",
              "      flex-wrap:wrap;\n",
              "      gap: 12px;\n",
              "    }\n",
              "\n",
              "    .colab-df-convert {\n",
              "      background-color: #E8F0FE;\n",
              "      border: none;\n",
              "      border-radius: 50%;\n",
              "      cursor: pointer;\n",
              "      display: none;\n",
              "      fill: #1967D2;\n",
              "      height: 32px;\n",
              "      padding: 0 0 0 0;\n",
              "      width: 32px;\n",
              "    }\n",
              "\n",
              "    .colab-df-convert:hover {\n",
              "      background-color: #E2EBFA;\n",
              "      box-shadow: 0px 1px 2px rgba(60, 64, 67, 0.3), 0px 1px 3px 1px rgba(60, 64, 67, 0.15);\n",
              "      fill: #174EA6;\n",
              "    }\n",
              "\n",
              "    [theme=dark] .colab-df-convert {\n",
              "      background-color: #3B4455;\n",
              "      fill: #D2E3FC;\n",
              "    }\n",
              "\n",
              "    [theme=dark] .colab-df-convert:hover {\n",
              "      background-color: #434B5C;\n",
              "      box-shadow: 0px 1px 3px 1px rgba(0, 0, 0, 0.15);\n",
              "      filter: drop-shadow(0px 1px 2px rgba(0, 0, 0, 0.3));\n",
              "      fill: #FFFFFF;\n",
              "    }\n",
              "  </style>\n",
              "\n",
              "      <script>\n",
              "        const buttonEl =\n",
              "          document.querySelector('#df-6a0193f0-d308-4e54-94e6-7e27a8cc5948 button.colab-df-convert');\n",
              "        buttonEl.style.display =\n",
              "          google.colab.kernel.accessAllowed ? 'block' : 'none';\n",
              "\n",
              "        async function convertToInteractive(key) {\n",
              "          const element = document.querySelector('#df-6a0193f0-d308-4e54-94e6-7e27a8cc5948');\n",
              "          const dataTable =\n",
              "            await google.colab.kernel.invokeFunction('convertToInteractive',\n",
              "                                                     [key], {});\n",
              "          if (!dataTable) return;\n",
              "\n",
              "          const docLinkHtml = 'Like what you see? Visit the ' +\n",
              "            '<a target=\"_blank\" href=https://colab.research.google.com/notebooks/data_table.ipynb>data table notebook</a>'\n",
              "            + ' to learn more about interactive tables.';\n",
              "          element.innerHTML = '';\n",
              "          dataTable['output_type'] = 'display_data';\n",
              "          await google.colab.output.renderOutput(dataTable, element);\n",
              "          const docLink = document.createElement('div');\n",
              "          docLink.innerHTML = docLinkHtml;\n",
              "          element.appendChild(docLink);\n",
              "        }\n",
              "      </script>\n",
              "    </div>\n",
              "  </div>\n",
              "  "
            ]
          },
          "metadata": {},
          "execution_count": 46
        }
      ]
    },
    {
      "cell_type": "code",
      "source": [
        "df['Label_2'].unique()"
      ],
      "metadata": {
        "colab": {
          "base_uri": "https://localhost:8080/"
        },
        "id": "arnC7VbXa-fg",
        "outputId": "593f8c65-eeda-4081-c82c-a3b15aceeb8a"
      },
      "execution_count": null,
      "outputs": [
        {
          "output_type": "execute_result",
          "data": {
            "text/plain": [
              "array(['💜', '❤️', '✨', '🎄', '😎', '😊', '😉', '🔥', '😁', '😜', '💙', '😘', '😂',\n",
              "       '😍', '💯', '💕', '🇺🇸', '☀', '📷', '📸'], dtype=object)"
            ]
          },
          "metadata": {},
          "execution_count": 47
        }
      ]
    },
    {
      "cell_type": "markdown",
      "metadata": {
        "id": "pz0GWO4VYNEh"
      },
      "source": [
        "> ### The Cleaning\n",
        "\n",
        "> We will remove :\n",
        "\n",
        ">*   TWEETS THAT HAVE in_reply_to_status_id !=null i.e. COMMENTS ON SOMEONE ELSE'S TWEETS\n",
        "*   TWEETS THAT HAVE lang != en i.e. NOT IN ENGLISH LANGUAGE\n",
        "*   DATA ABOUT DELETED TWEETS\n",
        "*   NON-ASCII CHARACTERS FROM text\n",
        "*   HYPERLINKS FROM text\n",
        "*   STOPWORDS from text\n",
        "*   The emoji as well 😢\n",
        "\n"
      ]
    },
    {
      "cell_type": "markdown",
      "metadata": {
        "id": "-aoRG2C_Zh2V"
      },
      "source": [
        "> [The Source_code and The Auther with its License](https://github.com/kevalmorabia97/pyTweetCleaner)\n",
        "\n",
        ">*   `__author__ = 'Keval Morabia'`\n",
        "*   `__license__ = 'MIT'`\n",
        "\n"
      ]
    },
    {
      "cell_type": "code",
      "source": [
        "class TweetCleaner:\n",
        "    def __init__(self, remove_stop_words=False, remove_retweets=False, lang ='english',stopwords_file='NLTK_DEFAULT'):\n",
        "        \"\"\"\n",
        "        clean unnecessary twitter data\n",
        "        remove_stop_words = True if stopwords are to be removed (default = False)\n",
        "        remove_retweets = True if retweets are to be removed (default = False)\n",
        "        stopwords_file = file containing stopwords(one on each line) (default: nltk english stopwords)\n",
        "        \"\"\"\n",
        "        self.lang = lang\n",
        "        \n",
        "        if remove_stop_words:\n",
        "            if stopwords_file == 'NLTK_DEFAULT':\n",
        "                self.stop_words = set(stopwords.words(lang))\n",
        "            else:\n",
        "                stop_words = set()\n",
        "                with open(stopwords_file,'r') as f:\n",
        "                    for line in f:\n",
        "                        line = line.replace('\\n','')\n",
        "                        stop_words.add(line.lower())\n",
        "                    self.stop_words = stop_words\n",
        "        else:\n",
        "            self.stop_words = set()\n",
        "        \n",
        "        self.remove_retweets = remove_retweets\n",
        "        \n",
        "        self.punc_table = str.maketrans(\"\", \"\", string.punctuation) # to remove punctuation from each word in tokenize\n",
        "    \n",
        "    def compound_word_split(self, compound_word):\n",
        "        \"\"\"\n",
        "        Split a given compound word(string) and return list of words in given compound_word\n",
        "        Ex: compound_word='pyTWEETCleaner' --> ['py', 'TWEET', 'Cleaner']\n",
        "        \"\"\"\n",
        "        matches = re.finditer('.+?(?:(?<=[a-z])(?=[A-Z])|(?<=[A-Z])(?=[A-Z][a-z])|$)', compound_word)\n",
        "        return [m.group(0) for m in matches]\n",
        "    \n",
        "    def remove_non_ascii_chars(self, text):\n",
        "        \"\"\"\n",
        "        return text after removing non-ascii characters i.e. characters with ascii value >= 128\n",
        "        \"\"\"\n",
        "        return ''.join([w if ord(w) < 128 else ' ' for w in text])\n",
        "    \n",
        "    def remove_hyperlinks(self,text):\n",
        "        \"\"\"\n",
        "        return text after removing hyperlinks\n",
        "        \"\"\"\n",
        "        return ' '.join([w for w in text.split(' ')  if not 'http' in w])\n",
        "      \n",
        "    def get_cleaned_text(self, text):\n",
        "        \"\"\"\n",
        "        return cleaned text(string) for provided tweet text(string)\n",
        "        \"\"\"\n",
        "        # print(text)\n",
        "        cleaned_text = text.replace('\\\"','').replace('\\'','').replace('-',' ')\n",
        "            \n",
        "        cleaned_text =  self.remove_non_ascii_chars(cleaned_text)\n",
        "        \n",
        "        # retweet\n",
        "        if re.match(r'RT @[_A-Za-z0-9]+:',cleaned_text): # retweet\n",
        "            if self.remove_retweets: return ''\n",
        "            retweet_info = cleaned_text[:cleaned_text.index(':')+2] # 'RT @name: ' will be again added in the text after cleaning\n",
        "            cleaned_text = cleaned_text[cleaned_text.index(':')+2:]\n",
        "        else:\n",
        "            retweet_info = ''\n",
        "            \n",
        "        cleaned_text = self.remove_hyperlinks(cleaned_text)\n",
        "        \n",
        "        cleaned_text = cleaned_text.replace('#','HASHTAGSYMBOL').replace('@','ATSYMBOL') # to avoid being removed while removing punctuations\n",
        "        \n",
        "        tokens = [w.translate(self.punc_table) for w in word_tokenize(cleaned_text)] # remove punctuations and tokenize\n",
        "        tokens = [w for w in tokens if not w.lower() in self.stop_words and len(w)>1] # remove stopwords and single length words\n",
        "        cleaned_text = ' '.join(tokens)\n",
        "        \n",
        "        cleaned_text = cleaned_text.replace('HASHTAGSYMBOL','#').replace('ATSYMBOL','@')\n",
        "        # cleaned_text = cleaned_text.replace(r'#[_A-Za-z0-9]+:','')\n",
        "        # cleaned_text = cleaned_text.replace(r'@[_A-Za-z0-9]+:','').replace(r'#[_A-Za-z0-9]+:','')\n",
        "        # cleaned_text = re.sub('…', '', cleaned_text)\n",
        "\n",
        "        # cleaned_text = cleaned_text +' '+ self.lang\n",
        "\n",
        "\n",
        "\n",
        "        # cleaned_text = retweet_info + cleaned_text\n",
        "        # cleaned_text = re.sub(r'@[_A-Za-z0-9]*', '', cleaned_text)\n",
        "        # cleaned_text = re.sub(r'#[_A-Za-z0-9]*', '', cleaned_text)\n",
        "        cleaned_text =  self.compound_word_split(cleaned_text)\n",
        "        cleaned_text = ' '.join(cleaned_text)\n",
        "        cleaned_text = re.sub(r'#', '', cleaned_text)\n",
        "        # cleaned_text = re.sub(' +', ' ', cleaned_text)\n",
        "\n",
        "\n",
        "        ASCII_REGEX = re.compile('[[:ascii:]]')\n",
        "\n",
        "        NUMS = re.compile('[0-9]+')      # remove numbers\n",
        "\n",
        "        # SECIAL_CHAR = re.compile('[^A-Za-z0-9]+')\n",
        "\n",
        "        cleaned_text = ASCII_REGEX.sub(' ', cleaned_text)\n",
        "\n",
        "        cleaned_text = NUMS.sub(' ', cleaned_text)\n",
        "\n",
        "        # cleaned_text = SECIAL_CHAR.sub(' ', cleaned_text)\n",
        "\n",
        "        # cleaned_text = ''.join([i for i in cleaned_text if not i.isdigit()])\n",
        "        \n",
        "        EXTRA_SPACES_REGEX = re.compile('\\s{2,}')\n",
        "        cleaned_text = EXTRA_SPACES_REGEX.sub(' ', cleaned_text).strip()\n",
        "        cleaned_text = cleaned_text.replace(' @ ',' ')\n",
        "\n",
        "        return cleaned_text.lower()\n",
        "        \n"
      ],
      "metadata": {
        "id": "68j7RzM_3Cv-"
      },
      "execution_count": null,
      "outputs": []
    },
    {
      "cell_type": "markdown",
      "source": [
        "> #### Clean one sentence in English"
      ],
      "metadata": {
        "id": "ir0lQFGSqWrh"
      }
    },
    {
      "cell_type": "markdown",
      "source": [
        "> ![en](https://www.countries-ofthe-world.com/flags-normal/flag-of-United-Kingdom.png)"
      ],
      "metadata": {
        "id": "w0YBojWxn4_S"
      }
    },
    {
      "cell_type": "markdown",
      "source": [
        "> [Flags Sources](https://www.countries-ofthe-world.com/flags-of-the-world.html)"
      ],
      "metadata": {
        "id": "L37nKi57p0Up"
      }
    },
    {
      "cell_type": "code",
      "source": [
        "sample_text = 'RT @testUser: Cleaning… unnecessary 😘 data with pyTweetCleaner by @123 @kevalMorabia97. #pyTWEETCleaner, Check it out at https:\\/\\/github.com\\/kevalmorabia97\\/pyTweetCleaner and star the repo!'\n",
        "  \n",
        "tc = TweetCleaner(remove_stop_words=True, remove_retweets=False)\n",
        "print('Output with remove_stop_words=True, remove_retweets=True:')\n",
        "print(tc.get_cleaned_text(sample_text), '\\n')\n"
      ],
      "metadata": {
        "colab": {
          "base_uri": "https://localhost:8080/"
        },
        "id": "kk4W9JqpnnOu",
        "outputId": "7b3822c2-1e21-42b8-8cb5-b50421032a9d"
      },
      "execution_count": null,
      "outputs": [
        {
          "output_type": "stream",
          "name": "stdout",
          "text": [
            "Output with remove_stop_words=True, remove_retweets=True:\n",
            "cleaning unnecessary data py tweet cleaner @keval morabia py tweet cleaner check star repo \n",
            "\n"
          ]
        },
        {
          "output_type": "stream",
          "name": "stderr",
          "text": [
            "/usr/local/lib/python3.7/dist-packages/ipykernel_launcher.py:91: FutureWarning: Possible nested set at position 1\n"
          ]
        }
      ]
    },
    {
      "cell_type": "markdown",
      "source": [
        "> #### Clean one sentence in French"
      ],
      "metadata": {
        "id": "8FU-ek69qcgo"
      }
    },
    {
      "cell_type": "markdown",
      "source": [
        "> ![Fr](https://www.countries-ofthe-world.com/flags-normal/flag-of-France.png)"
      ],
      "metadata": {
        "id": "VVx3cHfKpqg8"
      }
    },
    {
      "cell_type": "code",
      "source": [
        "sample_text = 'RT @Anna_Lcvl: Nude gratuite pour tout ceux qui RT + Follow 💙 https://t.co/XzSTbNXAB4'\n",
        "  \n",
        "tc = TweetCleaner(remove_stop_words=True, remove_retweets=False, lang='french')\n",
        "print('Output with remove_stop_words=True, remove_retweets=True:')\n",
        "print(tc.get_cleaned_text(sample_text), '\\n')\n"
      ],
      "metadata": {
        "colab": {
          "base_uri": "https://localhost:8080/"
        },
        "id": "0DtCVgKSmjnb",
        "outputId": "67290fea-0a92-44a6-83ad-c5c71cb4213d"
      },
      "execution_count": null,
      "outputs": [
        {
          "output_type": "stream",
          "name": "stdout",
          "text": [
            "Output with remove_stop_words=True, remove_retweets=True:\n",
            "nude gratuite tout ceux rt follow \n",
            "\n"
          ]
        }
      ]
    },
    {
      "cell_type": "markdown",
      "source": [
        "> #### Clean one sentence in Spanish"
      ],
      "metadata": {
        "id": "NZLM69lTqg6F"
      }
    },
    {
      "cell_type": "markdown",
      "source": [
        "> ![es](https://www.countries-ofthe-world.com/flags-normal/flag-of-Spain.png)"
      ],
      "metadata": {
        "id": "jLe3zvIvphc7"
      }
    },
    {
      "cell_type": "code",
      "source": [
        "sample_text = 'RT @tatiespino__: El Team de @IamCristinini se acuerda de Cris al terminar el día de hoy!! 💙 https://t.co/AYKV6nIOay'\n",
        "  \n",
        "tc = TweetCleaner(remove_stop_words=True, remove_retweets=False, lang='spanish')\n",
        "print('Output with remove_stop_words=True, remove_retweets=True:')\n",
        "print(tc.get_cleaned_text(sample_text), '\\n')\n"
      ],
      "metadata": {
        "colab": {
          "base_uri": "https://localhost:8080/"
        },
        "id": "5Emdsfwvm5US",
        "outputId": "f9dfb127-5b1d-49c0-8442-bfefe4f1d9ad"
      },
      "execution_count": null,
      "outputs": [
        {
          "output_type": "stream",
          "name": "stdout",
          "text": [
            "Output with remove_stop_words=True, remove_retweets=True:\n",
            "team @iam cristinini acuerda cris terminar hoy \n",
            "\n"
          ]
        },
        {
          "output_type": "stream",
          "name": "stderr",
          "text": [
            "/usr/local/lib/python3.7/dist-packages/ipykernel_launcher.py:91: FutureWarning: Possible nested set at position 1\n"
          ]
        }
      ]
    },
    {
      "cell_type": "markdown",
      "source": [
        "> #### Clean one sentence in Italy"
      ],
      "metadata": {
        "id": "SapS9xAl19aj"
      }
    },
    {
      "cell_type": "markdown",
      "source": [
        "> ![](https://www.countries-ofthe-world.com/flags-normal/flag-of-Italy.png)"
      ],
      "metadata": {
        "id": "obsaE9SH2FyB"
      }
    },
    {
      "cell_type": "code",
      "source": [
        "sample_text = 'RT @tatiespino__: Sono stordito dal niente che mi circonda. Giacomo Leopardi  â¤ðŸ¥€'\n",
        "  \n",
        "tc = TweetCleaner(remove_stop_words=True, remove_retweets=False, lang='italian')\n",
        "print('Output with remove_stop_words=True, remove_retweets=True:')\n",
        "print(tc.get_cleaned_text(sample_text), '\\n')\n"
      ],
      "metadata": {
        "colab": {
          "base_uri": "https://localhost:8080/"
        },
        "id": "jxzXoxeK2Li5",
        "outputId": "3a707928-3879-4bf8-f2bc-531a44c4498b"
      },
      "execution_count": null,
      "outputs": [
        {
          "output_type": "stream",
          "name": "stdout",
          "text": [
            "Output with remove_stop_words=True, remove_retweets=True:\n",
            "stordito niente circonda giacomo leopardi \n",
            "\n"
          ]
        },
        {
          "output_type": "stream",
          "name": "stderr",
          "text": [
            "/usr/local/lib/python3.7/dist-packages/ipykernel_launcher.py:91: FutureWarning: Possible nested set at position 1\n"
          ]
        }
      ]
    },
    {
      "cell_type": "code",
      "source": [
        "def distribution_method(df_):\n",
        "  # df['Label'].value_counts().plot(kind='barh')\n",
        "\n",
        "  # in the column 'Label'\n",
        "  city_count  = df_['Label'].value_counts()\n",
        "  city_count = city_count[:,]\n",
        "  plt.figure(figsize=(12,5))\n",
        "  # l = get_emoji(city_count.index)\n",
        "  # sns.barplot(l, city_count.values, alpha=0.8)\n",
        "  sns.barplot(city_count.index, city_count.values, alpha=0.8)\n",
        "  plt.title('The distribution for each class/Label')\n",
        "  # plt.ylabel('Number of Occurrences', fontsize=20)\n",
        "  plt.xlabel('Label', fontsize=20)\n",
        "  plt.show()"
      ],
      "metadata": {
        "id": "Q7HtJbhe3XvY"
      },
      "execution_count": null,
      "outputs": []
    },
    {
      "cell_type": "code",
      "source": [
        "distribution_method(df)"
      ],
      "metadata": {
        "colab": {
          "base_uri": "https://localhost:8080/",
          "height": 414
        },
        "id": "VjrBpHgl3ZMg",
        "outputId": "28eb3984-efa0-468e-ddb7-4b77b650ab9d"
      },
      "execution_count": null,
      "outputs": [
        {
          "output_type": "stream",
          "name": "stderr",
          "text": [
            "/usr/local/lib/python3.7/dist-packages/seaborn/_decorators.py:43: FutureWarning: Pass the following variables as keyword args: x, y. From version 0.12, the only valid positional argument will be `data`, and passing other arguments without an explicit keyword will result in an error or misinterpretation.\n",
            "  FutureWarning\n"
          ]
        },
        {
          "output_type": "display_data",
          "data": {
            "text/plain": [
              "<Figure size 864x360 with 1 Axes>"
            ],
            "image/png": "[encoded data removed]"
          },
          "metadata": {
            "needs_background": "light"
          }
        }
      ]
    },
    {
      "cell_type": "code",
      "source": [
        "# check any null values\n",
        "df.isnull().sum()"
      ],
      "metadata": {
        "colab": {
          "base_uri": "https://localhost:8080/"
        },
        "id": "qyox5IPr3ag9",
        "outputId": "047601fc-6b33-4d11-d1eb-b84f8484fa8a"
      },
      "execution_count": null,
      "outputs": [
        {
          "output_type": "execute_result",
          "data": {
            "text/plain": [
              "Tweet      0\n",
              "Label_2    0\n",
              "Label      0\n",
              "dtype: int64"
            ]
          },
          "metadata": {},
          "execution_count": 52
        }
      ]
    },
    {
      "cell_type": "code",
      "source": [
        "df = df.dropna()\n",
        "df.isnull().sum()"
      ],
      "metadata": {
        "colab": {
          "base_uri": "https://localhost:8080/"
        },
        "id": "yE4fVp8Q7f5u",
        "outputId": "d27d0af0-32aa-45fb-86b4-61c0ba239a14"
      },
      "execution_count": null,
      "outputs": [
        {
          "output_type": "execute_result",
          "data": {
            "text/plain": [
              "Tweet      0\n",
              "Label_2    0\n",
              "Label      0\n",
              "dtype: int64"
            ]
          },
          "metadata": {},
          "execution_count": 53
        }
      ]
    },
    {
      "cell_type": "code",
      "source": [
        "# check if any duplicates\n",
        "print(df.duplicated().sum())"
      ],
      "metadata": {
        "colab": {
          "base_uri": "https://localhost:8080/"
        },
        "id": "dZgx02eb7mCy",
        "outputId": "31f17d80-6413-48aa-cbd0-beea7c187e20"
      },
      "execution_count": null,
      "outputs": [
        {
          "output_type": "stream",
          "name": "stdout",
          "text": [
            "31386\n"
          ]
        }
      ]
    },
    {
      "cell_type": "code",
      "source": [
        "df = df.drop_duplicates()"
      ],
      "metadata": {
        "id": "HlpJnrV17jXB"
      },
      "execution_count": null,
      "outputs": []
    },
    {
      "cell_type": "code",
      "source": [
        "# check if any duplicates\n",
        "print(df.duplicated().sum())"
      ],
      "metadata": {
        "colab": {
          "base_uri": "https://localhost:8080/"
        },
        "id": "YrCBCXCa7o7E",
        "outputId": "32c9e7fc-9cc5-494d-ac67-db6c95cd97fb"
      },
      "execution_count": null,
      "outputs": [
        {
          "output_type": "stream",
          "name": "stdout",
          "text": [
            "0\n"
          ]
        }
      ]
    },
    {
      "cell_type": "code",
      "source": [
        "distribution_method(df)"
      ],
      "metadata": {
        "colab": {
          "base_uri": "https://localhost:8080/",
          "height": 414
        },
        "id": "InpbcdoZ7qAh",
        "outputId": "b36148c1-8a0a-4c32-b10f-3cdf14e7bf5f"
      },
      "execution_count": null,
      "outputs": [
        {
          "output_type": "stream",
          "name": "stderr",
          "text": [
            "/usr/local/lib/python3.7/dist-packages/seaborn/_decorators.py:43: FutureWarning: Pass the following variables as keyword args: x, y. From version 0.12, the only valid positional argument will be `data`, and passing other arguments without an explicit keyword will result in an error or misinterpretation.\n",
            "  FutureWarning\n"
          ]
        },
        {
          "output_type": "display_data",
          "data": {
            "text/plain": [
              "<Figure size 864x360 with 1 Axes>"
            ],
            "image/png": "[encoded data removed]"
          },
          "metadata": {
            "needs_background": "light"
          }
        }
      ]
    },
    {
      "cell_type": "code",
      "source": [
        "df.shape"
      ],
      "metadata": {
        "colab": {
          "base_uri": "https://localhost:8080/"
        },
        "id": "uCuWasBH71dT",
        "outputId": "81684a57-a49e-4c74-95df-800237ea73c9"
      },
      "execution_count": null,
      "outputs": [
        {
          "output_type": "execute_result",
          "data": {
            "text/plain": [
              "(37946, 3)"
            ]
          },
          "metadata": {},
          "execution_count": 58
        }
      ]
    },
    {
      "cell_type": "markdown",
      "source": [
        "> Here we just need to know what kind of language was downloaded from Google Drive and change its name here, because of course the stop words for each language are different."
      ],
      "metadata": {
        "id": "llKxmnGVBmmY"
      }
    },
    {
      "cell_type": "code",
      "source": [
        "# take an instance from our class to clean the Tweet column and put it in new column.\n",
        "# tc = TweetCleaner(remove_stop_words=True, remove_retweets=False,lang='spanish')\n",
        "# tc = TweetCleaner(remove_stop_words=True, remove_retweets=False,lang='german')\n",
        "# tc = TweetCleaner(remove_stop_words=True, remove_retweets=False,lang='italian')\n",
        "tc = TweetCleaner(remove_stop_words=True, remove_retweets=False, lang='french')\n",
        "# tc = TweetCleaner(remove_stop_words=True, remove_retweets=False)\n",
        "df['Tweet_cleaned'] = df['Tweet'].apply(tc.get_cleaned_text)"
      ],
      "metadata": {
        "id": "f05foCIA7s-i"
      },
      "execution_count": null,
      "outputs": []
    },
    {
      "cell_type": "code",
      "source": [
        "df['Tweet_cleaned'].replace('', np.nan, inplace=True)"
      ],
      "metadata": {
        "id": "Bp8bk09Y8HNZ"
      },
      "execution_count": null,
      "outputs": []
    },
    {
      "cell_type": "code",
      "source": [
        "df"
      ],
      "metadata": {
        "colab": {
          "base_uri": "https://localhost:8080/",
          "height": 424
        },
        "id": "g-5qOTuvCwMC",
        "outputId": "d1fc4812-49bb-4d71-f6d3-b47db4838b57"
      },
      "execution_count": null,
      "outputs": [
        {
          "output_type": "execute_result",
          "data": {
            "text/plain": [
              "                                                    Tweet Label_2  Label  \\\n",
              "0       Ormai le parole sono finite per commentare la ...       💜     13   \n",
              "1                                                       💜       💜     13   \n",
              "10                                               Scenes 💜       💜     13   \n",
              "12                               ho finito ora lo stage 💜       💜     13   \n",
              "13           come state? che avete fatto di bello oggi? 💜       💜     13   \n",
              "...                                                   ...     ...    ...   \n",
              "123643  #RADAR Radar direzione lugano nord prima subit...       📸     18   \n",
              "123646                                       [GNOSCA] - 📸       📸     18   \n",
              "123647  #RADAR Radar tra gnosca e gorduno sul 60 km/g,...       📸     18   \n",
              "123648  #RADAR Radar tra gnosca e gorduno direzione su...       📸     18   \n",
              "123653                            #19aprile [BALERNA] - 📸       📸     18   \n",
              "\n",
              "                                            Tweet_cleaned  \n",
              "0       ormai parole sono finite per commentare bellez...  \n",
              "1                                                     NaN  \n",
              "10                                                 scenes  \n",
              "12                                 ho finito ora lo stage  \n",
              "13               come state che avete fatto di bello oggi  \n",
              "...                                                   ...  \n",
              "123643  radar radar direzione lugano nord prima subito...  \n",
              "123646                                             gnosca  \n",
              "123647  radar radar tra gnosca gorduno sul kmg prende ...  \n",
              "123648  radar radar tra gnosca gorduno direzione sud k...  \n",
              "123653                                     aprile balerna  \n",
              "\n",
              "[37946 rows x 4 columns]"
            ],
            "text/html": [
              "\n",
              "  <div id=\"df-183907e9-6185-4a39-bd54-60b3543c3580\">\n",
              "    <div class=\"colab-df-container\">\n",
              "      <div>\n",
              "<style scoped>\n",
              "    .dataframe tbody tr th:only-of-type {\n",
              "        vertical-align: middle;\n",
              "    }\n",
              "\n",
              "    .dataframe tbody tr th {\n",
              "        vertical-align: top;\n",
              "    }\n",
              "\n",
              "    .dataframe thead th {\n",
              "        text-align: right;\n",
              "    }\n",
              "</style>\n",
              "<table border=\"1\" class=\"dataframe\">\n",
              "  <thead>\n",
              "    <tr style=\"text-align: right;\">\n",
              "      <th></th>\n",
              "      <th>Tweet</th>\n",
              "      <th>Label_2</th>\n",
              "      <th>Label</th>\n",
              "      <th>Tweet_cleaned</th>\n",
              "    </tr>\n",
              "  </thead>\n",
              "  <tbody>\n",
              "    <tr>\n",
              "      <th>0</th>\n",
              "      <td>Ormai le parole sono finite per commentare la ...</td>\n",
              "      <td>💜</td>\n",
              "      <td>13</td>\n",
              "      <td>ormai parole sono finite per commentare bellez...</td>\n",
              "    </tr>\n",
              "    <tr>\n",
              "      <th>1</th>\n",
              "      <td>💜</td>\n",
              "      <td>💜</td>\n",
              "      <td>13</td>\n",
              "      <td>NaN</td>\n",
              "    </tr>\n",
              "    <tr>\n",
              "      <th>10</th>\n",
              "      <td>Scenes 💜</td>\n",
              "      <td>💜</td>\n",
              "      <td>13</td>\n",
              "      <td>scenes</td>\n",
              "    </tr>\n",
              "    <tr>\n",
              "      <th>12</th>\n",
              "      <td>ho finito ora lo stage 💜</td>\n",
              "      <td>💜</td>\n",
              "      <td>13</td>\n",
              "      <td>ho finito ora lo stage</td>\n",
              "    </tr>\n",
              "    <tr>\n",
              "      <th>13</th>\n",
              "      <td>come state? che avete fatto di bello oggi? 💜</td>\n",
              "      <td>💜</td>\n",
              "      <td>13</td>\n",
              "      <td>come state che avete fatto di bello oggi</td>\n",
              "    </tr>\n",
              "    <tr>\n",
              "      <th>...</th>\n",
              "      <td>...</td>\n",
              "      <td>...</td>\n",
              "      <td>...</td>\n",
              "      <td>...</td>\n",
              "    </tr>\n",
              "    <tr>\n",
              "      <th>123643</th>\n",
              "      <td>#RADAR Radar direzione lugano nord prima subit...</td>\n",
              "      <td>📸</td>\n",
              "      <td>18</td>\n",
              "      <td>radar radar direzione lugano nord prima subito...</td>\n",
              "    </tr>\n",
              "    <tr>\n",
              "      <th>123646</th>\n",
              "      <td>[GNOSCA] - 📸</td>\n",
              "      <td>📸</td>\n",
              "      <td>18</td>\n",
              "      <td>gnosca</td>\n",
              "    </tr>\n",
              "    <tr>\n",
              "      <th>123647</th>\n",
              "      <td>#RADAR Radar tra gnosca e gorduno sul 60 km/g,...</td>\n",
              "      <td>📸</td>\n",
              "      <td>18</td>\n",
              "      <td>radar radar tra gnosca gorduno sul kmg prende ...</td>\n",
              "    </tr>\n",
              "    <tr>\n",
              "      <th>123648</th>\n",
              "      <td>#RADAR Radar tra gnosca e gorduno direzione su...</td>\n",
              "      <td>📸</td>\n",
              "      <td>18</td>\n",
              "      <td>radar radar tra gnosca gorduno direzione sud k...</td>\n",
              "    </tr>\n",
              "    <tr>\n",
              "      <th>123653</th>\n",
              "      <td>#19aprile [BALERNA] - 📸</td>\n",
              "      <td>📸</td>\n",
              "      <td>18</td>\n",
              "      <td>aprile balerna</td>\n",
              "    </tr>\n",
              "  </tbody>\n",
              "</table>\n",
              "<p>37946 rows × 4 columns</p>\n",
              "</div>\n",
              "      <button class=\"colab-df-convert\" onclick=\"convertToInteractive('df-183907e9-6185-4a39-bd54-60b3543c3580')\"\n",
              "              title=\"Convert this dataframe to an interactive table.\"\n",
              "              style=\"display:none;\">\n",
              "        \n",
              "  <svg xmlns=\"http://www.w3.org/2000/svg\" height=\"24px\"viewBox=\"0 0 24 24\"\n",
              "       width=\"24px\">\n",
              "    <path d=\"M0 0h24v24H0V0z\" fill=\"none\"/>\n",
              "    <path d=\"M18.56 5.44l.94 2.06.94-2.06 2.06-.94-2.06-.94-.94-2.06-.94 2.06-2.06.94zm-11 1L8.5 8.5l.94-2.06 2.06-.94-2.06-.94L8.5 2.5l-.94 2.06-2.06.94zm10 10l.94 2.06.94-2.06 2.06-.94-2.06-.94-.94-2.06-.94 2.06-2.06.94z\"/><path d=\"M17.41 7.96l-1.37-1.37c-.4-.4-.92-.59-1.43-.59-.52 0-1.04.2-1.43.59L10.3 9.45l-7.72 7.72c-.78.78-.78 2.05 0 2.83L4 21.41c.39.39.9.59 1.41.59.51 0 1.02-.2 1.41-.59l7.78-7.78 2.81-2.81c.8-.78.8-2.07 0-2.86zM5.41 20L4 18.59l7.72-7.72 1.47 1.35L5.41 20z\"/>\n",
              "  </svg>\n",
              "      </button>\n",
              "      \n",
              "  <style>\n",
              "    .colab-df-container {\n",
              "      display:flex;\n",
              "      flex-wrap:wrap;\n",
              "      gap: 12px;\n",
              "    }\n",
              "\n",
              "    .colab-df-convert {\n",
              "      background-color: #E8F0FE;\n",
              "      border: none;\n",
              "      border-radius: 50%;\n",
              "      cursor: pointer;\n",
              "      display: none;\n",
              "      fill: #1967D2;\n",
              "      height: 32px;\n",
              "      padding: 0 0 0 0;\n",
              "      width: 32px;\n",
              "    }\n",
              "\n",
              "    .colab-df-convert:hover {\n",
              "      background-color: #E2EBFA;\n",
              "      box-shadow: 0px 1px 2px rgba(60, 64, 67, 0.3), 0px 1px 3px 1px rgba(60, 64, 67, 0.15);\n",
              "      fill: #174EA6;\n",
              "    }\n",
              "\n",
              "    [theme=dark] .colab-df-convert {\n",
              "      background-color: #3B4455;\n",
              "      fill: #D2E3FC;\n",
              "    }\n",
              "\n",
              "    [theme=dark] .colab-df-convert:hover {\n",
              "      background-color: #434B5C;\n",
              "      box-shadow: 0px 1px 3px 1px rgba(0, 0, 0, 0.15);\n",
              "      filter: drop-shadow(0px 1px 2px rgba(0, 0, 0, 0.3));\n",
              "      fill: #FFFFFF;\n",
              "    }\n",
              "  </style>\n",
              "\n",
              "      <script>\n",
              "        const buttonEl =\n",
              "          document.querySelector('#df-183907e9-6185-4a39-bd54-60b3543c3580 button.colab-df-convert');\n",
              "        buttonEl.style.display =\n",
              "          google.colab.kernel.accessAllowed ? 'block' : 'none';\n",
              "\n",
              "        async function convertToInteractive(key) {\n",
              "          const element = document.querySelector('#df-183907e9-6185-4a39-bd54-60b3543c3580');\n",
              "          const dataTable =\n",
              "            await google.colab.kernel.invokeFunction('convertToInteractive',\n",
              "                                                     [key], {});\n",
              "          if (!dataTable) return;\n",
              "\n",
              "          const docLinkHtml = 'Like what you see? Visit the ' +\n",
              "            '<a target=\"_blank\" href=https://colab.research.google.com/notebooks/data_table.ipynb>data table notebook</a>'\n",
              "            + ' to learn more about interactive tables.';\n",
              "          element.innerHTML = '';\n",
              "          dataTable['output_type'] = 'display_data';\n",
              "          await google.colab.output.renderOutput(dataTable, element);\n",
              "          const docLink = document.createElement('div');\n",
              "          docLink.innerHTML = docLinkHtml;\n",
              "          element.appendChild(docLink);\n",
              "        }\n",
              "      </script>\n",
              "    </div>\n",
              "  </div>\n",
              "  "
            ]
          },
          "metadata": {},
          "execution_count": 61
        }
      ]
    },
    {
      "cell_type": "code",
      "source": [
        "# check if any duplicates in the column 'Tweet_cleaned'\n",
        "print(df.duplicated('Tweet_cleaned').sum())"
      ],
      "metadata": {
        "colab": {
          "base_uri": "https://localhost:8080/"
        },
        "id": "aArnipdO755C",
        "outputId": "5056cd8f-4f4f-435d-ad89-027122ce1853"
      },
      "execution_count": null,
      "outputs": [
        {
          "output_type": "stream",
          "name": "stdout",
          "text": [
            "1624\n"
          ]
        }
      ]
    },
    {
      "cell_type": "code",
      "source": [
        "df = df.drop_duplicates('Tweet_cleaned')"
      ],
      "metadata": {
        "id": "IiKKuYRn8CFv"
      },
      "execution_count": null,
      "outputs": []
    },
    {
      "cell_type": "code",
      "source": [
        "print(df.duplicated('Tweet_cleaned').sum())"
      ],
      "metadata": {
        "colab": {
          "base_uri": "https://localhost:8080/"
        },
        "id": "BDNH8WL08FiJ",
        "outputId": "c08ae1b9-cd2c-469c-e9a0-dc1417789dc6"
      },
      "execution_count": null,
      "outputs": [
        {
          "output_type": "stream",
          "name": "stdout",
          "text": [
            "0\n"
          ]
        }
      ]
    },
    {
      "cell_type": "code",
      "source": [
        "df['Tweet_cleaned'].replace('', np.nan, inplace=True)"
      ],
      "metadata": {
        "id": "XJTCzbSvGul6",
        "colab": {
          "base_uri": "https://localhost:8080/"
        },
        "outputId": "ff3b4d37-d7fc-4805-d952-ef61580abc09"
      },
      "execution_count": null,
      "outputs": [
        {
          "output_type": "stream",
          "name": "stderr",
          "text": [
            "/usr/local/lib/python3.7/dist-packages/pandas/core/generic.py:6619: SettingWithCopyWarning: \n",
            "A value is trying to be set on a copy of a slice from a DataFrame\n",
            "\n",
            "See the caveats in the documentation: https://pandas.pydata.org/pandas-docs/stable/user_guide/indexing.html#returning-a-view-versus-a-copy\n",
            "  return self._update_inplace(result)\n"
          ]
        }
      ]
    },
    {
      "cell_type": "code",
      "source": [
        "df.isnull().sum()"
      ],
      "metadata": {
        "colab": {
          "base_uri": "https://localhost:8080/"
        },
        "id": "_Y7xkKSZ8Jvm",
        "outputId": "49dc1ab6-c792-41d3-b7be-f527fca616f5"
      },
      "execution_count": null,
      "outputs": [
        {
          "output_type": "execute_result",
          "data": {
            "text/plain": [
              "Tweet            0\n",
              "Label_2          0\n",
              "Label            0\n",
              "Tweet_cleaned    1\n",
              "dtype: int64"
            ]
          },
          "metadata": {},
          "execution_count": 66
        }
      ]
    },
    {
      "cell_type": "code",
      "source": [
        "df = df.dropna()\n",
        "df.isnull().sum()"
      ],
      "metadata": {
        "colab": {
          "base_uri": "https://localhost:8080/"
        },
        "id": "beylxWxh8KMN",
        "outputId": "db232e3f-6bf5-445c-ec0e-5a3c15224689"
      },
      "execution_count": null,
      "outputs": [
        {
          "output_type": "execute_result",
          "data": {
            "text/plain": [
              "Tweet            0\n",
              "Label_2          0\n",
              "Label            0\n",
              "Tweet_cleaned    0\n",
              "dtype: int64"
            ]
          },
          "metadata": {},
          "execution_count": 67
        }
      ]
    },
    {
      "cell_type": "code",
      "source": [
        "df"
      ],
      "metadata": {
        "colab": {
          "base_uri": "https://localhost:8080/",
          "height": 424
        },
        "id": "nLPF_dIA8tdZ",
        "outputId": "fe80368f-9c05-42c7-b19f-e3a3d2a74ea0"
      },
      "execution_count": null,
      "outputs": [
        {
          "output_type": "execute_result",
          "data": {
            "text/plain": [
              "                                                    Tweet Label_2  Label  \\\n",
              "0       Ormai le parole sono finite per commentare la ...       💜     13   \n",
              "10                                               Scenes 💜       💜     13   \n",
              "12                               ho finito ora lo stage 💜       💜     13   \n",
              "13           come state? che avete fatto di bello oggi? 💜       💜     13   \n",
              "14      E quest'altro cesso lo sharingan da dove lo ha...       💜     13   \n",
              "...                                                   ...     ...    ...   \n",
              "123642  o sparirò anche io. Comunque sono molto felice...       📸     18   \n",
              "123643  #RADAR Radar direzione lugano nord prima subit...       📸     18   \n",
              "123646                                       [GNOSCA] - 📸       📸     18   \n",
              "123647  #RADAR Radar tra gnosca e gorduno sul 60 km/g,...       📸     18   \n",
              "123648  #RADAR Radar tra gnosca e gorduno direzione su...       📸     18   \n",
              "\n",
              "                                            Tweet_cleaned  \n",
              "0       ormai parole sono finite per commentare bellez...  \n",
              "10                                                 scenes  \n",
              "12                                 ho finito ora lo stage  \n",
              "13               come state che avete fatto di bello oggi  \n",
              "14      questaltro cesso lo sharingan da dove lo ha pr...  \n",
              "...                                                   ...  \n",
              "123642  sparir anche io comunque sono molto felice per...  \n",
              "123643  radar radar direzione lugano nord prima subito...  \n",
              "123646                                             gnosca  \n",
              "123647  radar radar tra gnosca gorduno sul kmg prende ...  \n",
              "123648  radar radar tra gnosca gorduno direzione sud k...  \n",
              "\n",
              "[36321 rows x 4 columns]"
            ],
            "text/html": [
              "\n",
              "  <div id=\"df-48ef11c7-28b4-4cd9-86e2-8088f8671cd8\">\n",
              "    <div class=\"colab-df-container\">\n",
              "      <div>\n",
              "<style scoped>\n",
              "    .dataframe tbody tr th:only-of-type {\n",
              "        vertical-align: middle;\n",
              "    }\n",
              "\n",
              "    .dataframe tbody tr th {\n",
              "        vertical-align: top;\n",
              "    }\n",
              "\n",
              "    .dataframe thead th {\n",
              "        text-align: right;\n",
              "    }\n",
              "</style>\n",
              "<table border=\"1\" class=\"dataframe\">\n",
              "  <thead>\n",
              "    <tr style=\"text-align: right;\">\n",
              "      <th></th>\n",
              "      <th>Tweet</th>\n",
              "      <th>Label_2</th>\n",
              "      <th>Label</th>\n",
              "      <th>Tweet_cleaned</th>\n",
              "    </tr>\n",
              "  </thead>\n",
              "  <tbody>\n",
              "    <tr>\n",
              "      <th>0</th>\n",
              "      <td>Ormai le parole sono finite per commentare la ...</td>\n",
              "      <td>💜</td>\n",
              "      <td>13</td>\n",
              "      <td>ormai parole sono finite per commentare bellez...</td>\n",
              "    </tr>\n",
              "    <tr>\n",
              "      <th>10</th>\n",
              "      <td>Scenes 💜</td>\n",
              "      <td>💜</td>\n",
              "      <td>13</td>\n",
              "      <td>scenes</td>\n",
              "    </tr>\n",
              "    <tr>\n",
              "      <th>12</th>\n",
              "      <td>ho finito ora lo stage 💜</td>\n",
              "      <td>💜</td>\n",
              "      <td>13</td>\n",
              "      <td>ho finito ora lo stage</td>\n",
              "    </tr>\n",
              "    <tr>\n",
              "      <th>13</th>\n",
              "      <td>come state? che avete fatto di bello oggi? 💜</td>\n",
              "      <td>💜</td>\n",
              "      <td>13</td>\n",
              "      <td>come state che avete fatto di bello oggi</td>\n",
              "    </tr>\n",
              "    <tr>\n",
              "      <th>14</th>\n",
              "      <td>E quest'altro cesso lo sharingan da dove lo ha...</td>\n",
              "      <td>💜</td>\n",
              "      <td>13</td>\n",
              "      <td>questaltro cesso lo sharingan da dove lo ha pr...</td>\n",
              "    </tr>\n",
              "    <tr>\n",
              "      <th>...</th>\n",
              "      <td>...</td>\n",
              "      <td>...</td>\n",
              "      <td>...</td>\n",
              "      <td>...</td>\n",
              "    </tr>\n",
              "    <tr>\n",
              "      <th>123642</th>\n",
              "      <td>o sparirò anche io. Comunque sono molto felice...</td>\n",
              "      <td>📸</td>\n",
              "      <td>18</td>\n",
              "      <td>sparir anche io comunque sono molto felice per...</td>\n",
              "    </tr>\n",
              "    <tr>\n",
              "      <th>123643</th>\n",
              "      <td>#RADAR Radar direzione lugano nord prima subit...</td>\n",
              "      <td>📸</td>\n",
              "      <td>18</td>\n",
              "      <td>radar radar direzione lugano nord prima subito...</td>\n",
              "    </tr>\n",
              "    <tr>\n",
              "      <th>123646</th>\n",
              "      <td>[GNOSCA] - 📸</td>\n",
              "      <td>📸</td>\n",
              "      <td>18</td>\n",
              "      <td>gnosca</td>\n",
              "    </tr>\n",
              "    <tr>\n",
              "      <th>123647</th>\n",
              "      <td>#RADAR Radar tra gnosca e gorduno sul 60 km/g,...</td>\n",
              "      <td>📸</td>\n",
              "      <td>18</td>\n",
              "      <td>radar radar tra gnosca gorduno sul kmg prende ...</td>\n",
              "    </tr>\n",
              "    <tr>\n",
              "      <th>123648</th>\n",
              "      <td>#RADAR Radar tra gnosca e gorduno direzione su...</td>\n",
              "      <td>📸</td>\n",
              "      <td>18</td>\n",
              "      <td>radar radar tra gnosca gorduno direzione sud k...</td>\n",
              "    </tr>\n",
              "  </tbody>\n",
              "</table>\n",
              "<p>36321 rows × 4 columns</p>\n",
              "</div>\n",
              "      <button class=\"colab-df-convert\" onclick=\"convertToInteractive('df-48ef11c7-28b4-4cd9-86e2-8088f8671cd8')\"\n",
              "              title=\"Convert this dataframe to an interactive table.\"\n",
              "              style=\"display:none;\">\n",
              "        \n",
              "  <svg xmlns=\"http://www.w3.org/2000/svg\" height=\"24px\"viewBox=\"0 0 24 24\"\n",
              "       width=\"24px\">\n",
              "    <path d=\"M0 0h24v24H0V0z\" fill=\"none\"/>\n",
              "    <path d=\"M18.56 5.44l.94 2.06.94-2.06 2.06-.94-2.06-.94-.94-2.06-.94 2.06-2.06.94zm-11 1L8.5 8.5l.94-2.06 2.06-.94-2.06-.94L8.5 2.5l-.94 2.06-2.06.94zm10 10l.94 2.06.94-2.06 2.06-.94-2.06-.94-.94-2.06-.94 2.06-2.06.94z\"/><path d=\"M17.41 7.96l-1.37-1.37c-.4-.4-.92-.59-1.43-.59-.52 0-1.04.2-1.43.59L10.3 9.45l-7.72 7.72c-.78.78-.78 2.05 0 2.83L4 21.41c.39.39.9.59 1.41.59.51 0 1.02-.2 1.41-.59l7.78-7.78 2.81-2.81c.8-.78.8-2.07 0-2.86zM5.41 20L4 18.59l7.72-7.72 1.47 1.35L5.41 20z\"/>\n",
              "  </svg>\n",
              "      </button>\n",
              "      \n",
              "  <style>\n",
              "    .colab-df-container {\n",
              "      display:flex;\n",
              "      flex-wrap:wrap;\n",
              "      gap: 12px;\n",
              "    }\n",
              "\n",
              "    .colab-df-convert {\n",
              "      background-color: #E8F0FE;\n",
              "      border: none;\n",
              "      border-radius: 50%;\n",
              "      cursor: pointer;\n",
              "      display: none;\n",
              "      fill: #1967D2;\n",
              "      height: 32px;\n",
              "      padding: 0 0 0 0;\n",
              "      width: 32px;\n",
              "    }\n",
              "\n",
              "    .colab-df-convert:hover {\n",
              "      background-color: #E2EBFA;\n",
              "      box-shadow: 0px 1px 2px rgba(60, 64, 67, 0.3), 0px 1px 3px 1px rgba(60, 64, 67, 0.15);\n",
              "      fill: #174EA6;\n",
              "    }\n",
              "\n",
              "    [theme=dark] .colab-df-convert {\n",
              "      background-color: #3B4455;\n",
              "      fill: #D2E3FC;\n",
              "    }\n",
              "\n",
              "    [theme=dark] .colab-df-convert:hover {\n",
              "      background-color: #434B5C;\n",
              "      box-shadow: 0px 1px 3px 1px rgba(0, 0, 0, 0.15);\n",
              "      filter: drop-shadow(0px 1px 2px rgba(0, 0, 0, 0.3));\n",
              "      fill: #FFFFFF;\n",
              "    }\n",
              "  </style>\n",
              "\n",
              "      <script>\n",
              "        const buttonEl =\n",
              "          document.querySelector('#df-48ef11c7-28b4-4cd9-86e2-8088f8671cd8 button.colab-df-convert');\n",
              "        buttonEl.style.display =\n",
              "          google.colab.kernel.accessAllowed ? 'block' : 'none';\n",
              "\n",
              "        async function convertToInteractive(key) {\n",
              "          const element = document.querySelector('#df-48ef11c7-28b4-4cd9-86e2-8088f8671cd8');\n",
              "          const dataTable =\n",
              "            await google.colab.kernel.invokeFunction('convertToInteractive',\n",
              "                                                     [key], {});\n",
              "          if (!dataTable) return;\n",
              "\n",
              "          const docLinkHtml = 'Like what you see? Visit the ' +\n",
              "            '<a target=\"_blank\" href=https://colab.research.google.com/notebooks/data_table.ipynb>data table notebook</a>'\n",
              "            + ' to learn more about interactive tables.';\n",
              "          element.innerHTML = '';\n",
              "          dataTable['output_type'] = 'display_data';\n",
              "          await google.colab.output.renderOutput(dataTable, element);\n",
              "          const docLink = document.createElement('div');\n",
              "          docLink.innerHTML = docLinkHtml;\n",
              "          element.appendChild(docLink);\n",
              "        }\n",
              "      </script>\n",
              "    </div>\n",
              "  </div>\n",
              "  "
            ]
          },
          "metadata": {},
          "execution_count": 68
        }
      ]
    },
    {
      "cell_type": "code",
      "source": [
        "df['Tweet'][1000]"
      ],
      "metadata": {
        "id": "P5j3WtDs85Hy",
        "colab": {
          "base_uri": "https://localhost:8080/",
          "height": 35
        },
        "outputId": "1d7bdc62-5971-4ae7-f6d9-8dc11d45bc8b"
      },
      "execution_count": null,
      "outputs": [
        {
          "output_type": "execute_result",
          "data": {
            "text/plain": [
              "'e grazie anche per aver seguito lo spazio con @leqdp_ . alla prossima 💜'"
            ],
            "application/vnd.google.colaboratory.intrinsic+json": {
              "type": "string"
            }
          },
          "metadata": {},
          "execution_count": 70
        }
      ]
    },
    {
      "cell_type": "markdown",
      "source": [
        "> Note : Note after we organize each file individually, we change its name according to our needs."
      ],
      "metadata": {
        "id": "E50XUnGYBR_p"
      }
    },
    {
      "cell_type": "code",
      "source": [
        "df.to_csv('test_it_36k_final.csv', index=False)"
      ],
      "metadata": {
        "id": "-r0Oga468ur_"
      },
      "execution_count": null,
      "outputs": []
    },
    {
      "cell_type": "code",
      "source": [],
      "metadata": {
        "id": "kpUzM0QbDzZK"
      },
      "execution_count": null,
      "outputs": []
    }
  ]
}